{
  "cells": [
    {
      "cell_type": "markdown",
      "metadata": {
        "id": "view-in-github",
        "colab_type": "text"
      },
      "source": [
        "<a href=\"https://colab.research.google.com/github/BeautyKabore/UNT-DTSC-4050/blob/main/Week_04_Assignment/Week_04_Assignment.ipynb\" target=\"_parent\"><img src=\"https://colab.research.google.com/assets/colab-badge.svg\" alt=\"Open In Colab\"/></a>"
      ]
    },
    {
      "cell_type": "markdown",
      "id": "69574c84",
      "metadata": {
        "id": "69574c84"
      },
      "source": [
        "# Week 04 - Assignment\n",
        "Beauty Kabore"
      ]
    },
    {
      "cell_type": "markdown",
      "id": "8f861920",
      "metadata": {
        "id": "8f861920"
      },
      "source": [
        "## Conditional Probability Problems\n",
        "\n",
        "### Problem 1\n",
        "\n",
        "It has started raining. It rains 10% of the time. We know that flooding can happen when it rains but it is rare. Flooding happnes 1% of the time. 90% of the time it floods we see rain. What's the probability of a flood given rain?<br />\n",
        "\n",
        "Review the equation (What's the question):\n",
        "* P(A|B) = (P(A)P(B|A)) / P(B)\n",
        "* P(Flood|Rain) = (P(Flood)P(Rain|Flood)) / P(Rain)\n",
        "\n",
        "What we know:\n",
        "* P(A) = P(Flood) = .01\n",
        "* P(B) = P(Rain) = .1\n",
        "* P(B|A) = P(Rain|Flood) = .9"
      ]
    },
    {
      "cell_type": "code",
      "execution_count": null,
      "id": "aa77e161",
      "metadata": {
        "id": "aa77e161",
        "colab": {
          "base_uri": "https://localhost:8080/"
        },
        "outputId": "d49fe15f-fdd0-4223-e3a3-59b536f006eb"
      },
      "outputs": [
        {
          "output_type": "execute_result",
          "data": {
            "text/plain": [
              "0.08"
            ]
          },
          "metadata": {},
          "execution_count": 1
        }
      ],
      "source": [
        "# solve for P(A|B); show some work (some formulas or equations)\n",
        "prob = (.8*.01)/.1\n",
        "prob\n"
      ]
    },
    {
      "cell_type": "markdown",
      "id": "dfbf0db9",
      "metadata": {
        "id": "dfbf0db9"
      },
      "source": [
        "### Problem 2\n",
        "\n",
        "A company makes clocks. 1% of the clocks are broken. The company tests for broken clocks and the test identifies a broken clock when it is broken 90% of the time. Unfortunately, the test also identifies a broken clock when it is not defective 9.6% of the time. If a clock tests as broken what's the probability that the clock is actually broken?\n",
        "\n",
        "Review the equation (What's the question):\n",
        "* P(A|B) = (P(A)P(B|A)) / P(B)\n",
        "* P(defective widget| test identifies defect) = (P(defective widget) * P(test identifies defect| defected widget)) / P(B)\n",
        "\n",
        "What we know:\n",
        "* $P(A)$ = P(defective widget) = .01\n",
        "* $P(\\bar{A})$ = P(not defective widget) = .99\n",
        "* $P(B|A)$ = P(test identifies defect| defective widget) = .9\n",
        "* $P(B|\\bar{A})$ = P(test identifies defect| not defective widget) = .096\n",
        "\n",
        "Sovlve for P(B):\n",
        "* $P(B) = (P(A) * P(B|A)) + (P(\\bar{A}) * P(B|\\bar{A}))$\n",
        "* P(B) = (P(defective widget) * P(test identifies defect| defected widget)) + (P(not defective widget) * P(test identifies defect| not defected widget))"
      ]
    },
    {
      "cell_type": "code",
      "execution_count": null,
      "id": "98ebae57",
      "metadata": {
        "id": "98ebae57",
        "colab": {
          "base_uri": "https://localhost:8080/"
        },
        "outputId": "190bc67b-d227-4c33-920e-9b3936834dbd"
      },
      "outputs": [
        {
          "output_type": "stream",
          "name": "stdout",
          "text": [
            "0.104\n"
          ]
        }
      ],
      "source": [
        "# solve for P(A|B); show some work\n",
        "prob_b = (.01*.9) +(.99*.096)\n",
        "print(round(prob_b,3))\n"
      ]
    },
    {
      "cell_type": "markdown",
      "id": "1a665b80",
      "metadata": {
        "id": "1a665b80"
      },
      "source": [
        "### Problem 3\n",
        "\n",
        "One hundred students enrolled in class and the administration had to divide into two classes. 60 students went into class 1 and 40 students went into class 2. We know that 2% of the students in class 1 are failing and 1.5% of the students are failing in class 2. All one hundred students went on a field trip during midterm. One student was randomly chosen and asked how things were going. Turns out this student is failing. What's the probability that this student is from class 1?\n",
        "\n",
        "Review the equation (What's the question):\n",
        "* P(A|B) = (P(A)P(B|A)) / P(B)\n",
        "* $P(B) = (P(A) * P(B|A)) + (P(\\bar{A}) * P(B|\\bar{A}))$\n",
        "\n",
        "What we know:\n",
        "* $P(A)$ = P(students in class 1) = .6\n",
        "* $P(\\bar{A})$ = P(students in class 2) = .4\n",
        "* $P(B)$ = failing\n",
        "* $P(B|A)$ = P(failing|class1) = .02\n",
        "* $P(B|\\bar{A})$ = P(failing|class2) = .015\n"
      ]
    },
    {
      "cell_type": "code",
      "execution_count": null,
      "id": "731bd794",
      "metadata": {
        "id": "731bd794",
        "colab": {
          "base_uri": "https://localhost:8080/"
        },
        "outputId": "fe7fa7d1-8098-4eba-93ed-3b20a06c1093"
      },
      "outputs": [
        {
          "output_type": "stream",
          "name": "stdout",
          "text": [
            "0.667\n"
          ]
        }
      ],
      "source": [
        "# solve for P(A|B); show some work\n",
        "prob_failing = (.6*.02)+(.4*.015)\n",
        "prob_fail_std = (.6*.02)/prob_failing\n",
        "print (round(prob_fail_std,3))\n"
      ]
    },
    {
      "cell_type": "markdown",
      "id": "180f9545",
      "metadata": {
        "id": "180f9545"
      },
      "source": [
        "### Problem 4\n",
        "\n",
        "A box contains 5 apples and 7 oranges. Two fruit are chosen at random from the box without replacement. What is the probability they are both oranges?"
      ]
    },
    {
      "cell_type": "code",
      "execution_count": null,
      "id": "9165d6da",
      "metadata": {
        "id": "9165d6da",
        "colab": {
          "base_uri": "https://localhost:8080/"
        },
        "outputId": "b4beb845-4c75-4d76-a836-61004c928d4b"
      },
      "outputs": [
        {
          "output_type": "stream",
          "name": "stdout",
          "text": [
            "0.32\n"
          ]
        }
      ],
      "source": [
        "# solve here and show some work\n",
        "prob = (7/12)*(6/11)\n",
        "print(round(prob,2))\n"
      ]
    },
    {
      "cell_type": "markdown",
      "id": "a3d04ae4",
      "metadata": {
        "id": "a3d04ae4"
      },
      "source": [
        "### Problem 5\n",
        "\n",
        "Two cards are chosen at random without replacement from a pack of 52 playing cards. If the first card chosen is a Queen, what is the probability the second card chosen is also a Queen?"
      ]
    },
    {
      "cell_type": "code",
      "execution_count": null,
      "id": "459ad702",
      "metadata": {
        "id": "459ad702",
        "colab": {
          "base_uri": "https://localhost:8080/"
        },
        "outputId": "cdd58d94-626c-46ec-9536-8b603347fd06"
      },
      "outputs": [
        {
          "output_type": "stream",
          "name": "stdout",
          "text": [
            "0.005\n"
          ]
        }
      ],
      "source": [
        "# solve here and show some work\n",
        "prob = (4/52)*(3/51)\n",
        "print(round(prob,3))"
      ]
    },
    {
      "cell_type": "markdown",
      "id": "56fae057",
      "metadata": {
        "id": "56fae057"
      },
      "source": [
        "### Problem 6\n",
        "\n",
        "Two cards are chosen at random without replacement from a pack of 52 playing cards. If the first card chosen is an Eight, what is the probability the second card chosen is a Seven?"
      ]
    },
    {
      "cell_type": "code",
      "execution_count": null,
      "id": "1e9da0e0",
      "metadata": {
        "id": "1e9da0e0",
        "colab": {
          "base_uri": "https://localhost:8080/"
        },
        "outputId": "d42848d5-19fe-4a75-f990-68ca297ca477"
      },
      "outputs": [
        {
          "output_type": "stream",
          "name": "stdout",
          "text": [
            "0.006\n"
          ]
        }
      ],
      "source": [
        "# sovle here and show some work\n",
        "prob = (4/52)*(4/51)\n",
        "print(round(prob,3))\n"
      ]
    },
    {
      "cell_type": "markdown",
      "id": "622d50cc",
      "metadata": {
        "id": "622d50cc"
      },
      "source": [
        "### Problem 7\n",
        "\n",
        "A drawer contains 3 white socks and 4 black socks. Two socks are drawn at random without replacement. If the first sock drawn is black, what is the probability the second sock is also black?"
      ]
    },
    {
      "cell_type": "code",
      "execution_count": null,
      "id": "c42280ed",
      "metadata": {
        "id": "c42280ed",
        "colab": {
          "base_uri": "https://localhost:8080/"
        },
        "outputId": "94b5f793-4a2f-4b80-9658-c507be9b660e"
      },
      "outputs": [
        {
          "output_type": "stream",
          "name": "stdout",
          "text": [
            "0.286\n"
          ]
        }
      ],
      "source": [
        "# solve here and show some work\n",
        "prob = (4/7)*(3/6)\n",
        "print(round(prob,3))\n"
      ]
    },
    {
      "cell_type": "markdown",
      "id": "42647322",
      "metadata": {
        "id": "42647322"
      },
      "source": [
        "### Problem 8\n",
        "\n",
        "A drawer contains 3 white socks and 4 black socks. Two socks are drawn at random without replacement. If the first sock drawn is white, what is the probability the second sock is black?"
      ]
    },
    {
      "cell_type": "code",
      "execution_count": null,
      "id": "d683d236",
      "metadata": {
        "id": "d683d236",
        "colab": {
          "base_uri": "https://localhost:8080/"
        },
        "outputId": "b4c825b3-f0f1-4f78-8615-b37d15d95480"
      },
      "outputs": [
        {
          "output_type": "stream",
          "name": "stdout",
          "text": [
            "0.286\n"
          ]
        }
      ],
      "source": [
        "# solve here and show some work\n",
        "prob = (3/7)*(4/6)\n",
        "print(round(prob,3))\n"
      ]
    },
    {
      "cell_type": "markdown",
      "id": "60d45829",
      "metadata": {
        "id": "60d45829"
      },
      "source": [
        "## Data Problems\n",
        "\n",
        "The following datasets may or may not have a named dependent variable. Please identify the dependent variable data by name and type (numerical or categorical). If it doesn't have a name, provide a name with an explanation. Datasets may not have a clear answer. Explain your observations.\n",
        "\n",
        "### Problem 1\n",
        "\n",
        "* Given the following dataset, what is the dependent variable, the y? Is it numerical or categorical?\n",
        "* https://archive-beta.ics.uci.edu/dataset/53/iris"
      ]
    },
    {
      "cell_type": "markdown",
      "id": "33fddb60",
      "metadata": {
        "id": "33fddb60"
      },
      "source": [
        "Dependent Variable - Class\n",
        "\n",
        "Categorical"
      ]
    },
    {
      "cell_type": "markdown",
      "id": "719bb1c7",
      "metadata": {
        "id": "719bb1c7"
      },
      "source": [
        "### Problem 2\n",
        "\n",
        "* Given the following dataset, what is the dependent variable, the y? Is it numerical or categorical?\n",
        "* https://archive-beta.ics.uci.edu/dataset/9/auto+mpg"
      ]
    },
    {
      "cell_type": "markdown",
      "id": "836b1706",
      "metadata": {
        "id": "836b1706"
      },
      "source": [
        "MPG\n",
        "\n",
        "Numerical"
      ]
    },
    {
      "cell_type": "markdown",
      "id": "506c3804",
      "metadata": {
        "id": "506c3804"
      },
      "source": [
        "### Problem 3\n",
        "\n",
        "* Given the following dataset, what is the dependent variable, the y? Is it numerical or categorical?\n",
        "* https://archive-beta.ics.uci.edu/dataset/16/breast+cancer+wisconsin+prognostic"
      ]
    },
    {
      "cell_type": "markdown",
      "id": "fc2ffdcb",
      "metadata": {
        "id": "fc2ffdcb"
      },
      "source": [
        "Diagnosis\n",
        "\n",
        "Categorical"
      ]
    },
    {
      "cell_type": "markdown",
      "id": "5eac4845",
      "metadata": {
        "id": "5eac4845"
      },
      "source": [
        "### Problem 4\n",
        "\n",
        "* Given the following dataset, what is the dependent variable, the y? Is it numerical or categorical?\n",
        "* https://archive-beta.ics.uci.edu/dataset/109/wine"
      ]
    },
    {
      "cell_type": "markdown",
      "id": "95fe37a2",
      "metadata": {
        "id": "95fe37a2"
      },
      "source": [
        "class\n",
        "\n",
        "Categorical"
      ]
    },
    {
      "cell_type": "markdown",
      "id": "0e091c70",
      "metadata": {
        "id": "0e091c70"
      },
      "source": [
        "### Problem 5\n",
        "\n",
        "* Given the following dataset, what is the dependent variable, the y? Is it numerical or categorical?\n",
        "* https://archive-beta.ics.uci.edu/dataset/29/computer+hardware"
      ]
    },
    {
      "cell_type": "markdown",
      "id": "76fc702e",
      "metadata": {
        "id": "76fc702e"
      },
      "source": [
        "ERP - estimated relative performance because, its stated that, they were \"estimated by the authors using a linear regression method\"."
      ]
    },
    {
      "cell_type": "markdown",
      "id": "7a54349c",
      "metadata": {
        "id": "7a54349c"
      },
      "source": [
        "### Problem 6\n",
        "\n",
        "* Given the following dataset, what is the dependent variable, the y? Is it numerical or categorical?\n",
        "* https://archive-beta.ics.uci.edu/dataset/1/abalone"
      ]
    },
    {
      "cell_type": "markdown",
      "id": "6cf2fb59",
      "metadata": {
        "id": "6cf2fb59"
      },
      "source": [
        "Rings\n",
        "\n",
        "Numerical\n"
      ]
    },
    {
      "cell_type": "markdown",
      "id": "7d0e9895",
      "metadata": {
        "id": "7d0e9895"
      },
      "source": [
        "### Problem 7\n",
        "\n",
        "* Given the following dataset, what is the dependent variable, the y? Is it numerical or categorical?\n",
        "* https://archive-beta.ics.uci.edu/dataset/502/online+retail+ii"
      ]
    },
    {
      "cell_type": "markdown",
      "id": "b21e6741",
      "metadata": {
        "id": "b21e6741"
      },
      "source": [
        "With the exception of Invoice No. any of the features could be a Dependent Variable depending on the needed outcome .\n",
        "\n",
        "Categorical or Numerical"
      ]
    }
  ],
  "metadata": {
    "kernelspec": {
      "display_name": "Python 3 (ipykernel)",
      "language": "python",
      "name": "python3"
    },
    "language_info": {
      "codemirror_mode": {
        "name": "ipython",
        "version": 3
      },
      "file_extension": ".py",
      "mimetype": "text/x-python",
      "name": "python",
      "nbconvert_exporter": "python",
      "pygments_lexer": "ipython3",
      "version": "3.9.7"
    },
    "colab": {
      "provenance": [],
      "include_colab_link": true
    }
  },
  "nbformat": 4,
  "nbformat_minor": 5
}