{
  "cells": [
    {
      "cell_type": "markdown",
      "metadata": {
        "id": "view-in-github",
        "colab_type": "text"
      },
      "source": [
        "<a href=\"https://colab.research.google.com/github/BeautyKabore/UNT-DTSC-4050/blob/main/week_13/week_13_Classification_II.ipynb\" target=\"_parent\"><img src=\"https://colab.research.google.com/assets/colab-badge.svg\" alt=\"Open In Colab\"/></a>"
      ]
    },
    {
      "cell_type": "markdown",
      "id": "14d5dfc8",
      "metadata": {
        "id": "14d5dfc8"
      },
      "source": [
        "# Week 13: Classification II\n",
        "\n",
        "Beauty Kabore\n"
      ]
    },
    {
      "cell_type": "markdown",
      "id": "1148ca0d",
      "metadata": {
        "id": "1148ca0d"
      },
      "source": [
        "## Binary Logistic Regression\n",
        "\n",
        "$y = \\beta_0 + \\beta_1X_1 + ... + \\beta_nX_n$\n",
        "\n",
        "$p = \\large{\\frac{1}{1 + e^{-(\\beta_0 + \\beta_1 X_1 + \\beta_2 X_2)}}}$\n",
        "\n",
        "$f(x) = \\large{\\frac{1}{1 + e^{-x}}}$\n",
        "\n",
        "* x = $\\beta_0 + \\beta_1X_1 + \\beta_2X_2$\n",
        "* If $x > 0$ then $\\frac{1}{1 + e^{-x}} > .5$\n",
        "* If $x < 0$ then $\\frac{1}{1 + e^{-x}} < .5$\n",
        "\n",
        "The algorithm transforms the numbers ( -∞ to +∞ ) to values between 0 and 1 in the shape of an S-curve."
      ]
    },
    {
      "cell_type": "code",
      "execution_count": null,
      "id": "1848068d",
      "metadata": {
        "id": "1848068d",
        "outputId": "a7c92841-62ca-4084-9056-e96819f390ab",
        "colab": {
          "base_uri": "https://localhost:8080/",
          "height": 501
        }
      },
      "outputs": [
        {
          "output_type": "stream",
          "name": "stdout",
          "text": [
            "Optimization terminated successfully.\n",
            "         Current function value: 0.242088\n",
            "         Iterations 8\n"
          ]
        },
        {
          "output_type": "display_data",
          "data": {
            "text/plain": [
              "<Figure size 640x480 with 1 Axes>"
            ],
            "image/png": "[encoded data removed]"
          },
          "metadata": {}
        }
      ],
      "source": [
        "import math\n",
        "import numpy as np\n",
        "import pandas as pd\n",
        "import matplotlib.pyplot as plt\n",
        "from sklearn.datasets import make_classification\n",
        "from statsmodels.formula.api import logit\n",
        "\n",
        "def logistic_function(row):\n",
        "    b0 = model.params.Intercept\n",
        "    b1 = model.params.X_1\n",
        "    b2 = model.params.X_2\n",
        "\n",
        "    x1 = row['X_1']\n",
        "    x2 = row['X_2']\n",
        "\n",
        "    return 1 / (1 + np.exp(-(b0+(b1*x1)+(b2*x2))))\n",
        "\n",
        "features, binary_class = make_classification(n_samples=1000, n_features=2,\n",
        "                                             n_informative=2, n_redundant=0,\n",
        "                                             n_clusters_per_class=1, random_state=42)\n",
        "\n",
        "df = pd.DataFrame(features)\n",
        "df.columns = ['X_1', 'X_2']\n",
        "df['Class'] = binary_class\n",
        "model = logit(formula='Class ~ X_1 + X_2', data=df).fit()\n",
        "\n",
        "df['p'] = df.apply(logistic_function, axis=1)\n",
        "df['Predicted'] =  df['p'].apply(lambda x: 0 if x < .5 else 1)\n",
        "df['Odds'] = df['p']/(1 - df['p'])\n",
        "df['Log Odds'] = df['Odds'].apply(lambda x: math.log(x))\n",
        "\n",
        "df.plot.scatter(x='Log Odds', y='p', marker='.', label='Sigmoid Values', c=df['Class'], cmap='winter', colorbar=False)\n",
        "plt.axhline(y=.5, color='red', linestyle='dashed', label='Threshold')\n",
        "plt.legend()\n",
        "plt.show()"
      ]
    },
    {
      "cell_type": "markdown",
      "source": [
        "## Data Science Fiction"
      ],
      "metadata": {
        "id": "cxK-KQG5n63G"
      },
      "id": "cxK-KQG5n63G"
    },
    {
      "cell_type": "code",
      "source": [
        "import pandas as pd\n",
        "\n",
        "df = pd.read_csv('https://raw.githubusercontent.com/gitmystuff/Datasets/main/data_science_fiction.csv', index_col=0)\n",
        "print(df.shape)\n",
        "print(df.info())\n",
        "df.head()"
      ],
      "metadata": {
        "colab": {
          "base_uri": "https://localhost:8080/",
          "height": 764
        },
        "id": "jvBUM3tHppAv",
        "outputId": "0a146698-7b5c-4ec7-9ef9-e10b4f22666f"
      },
      "id": "jvBUM3tHppAv",
      "execution_count": null,
      "outputs": [
        {
          "output_type": "stream",
          "name": "stdout",
          "text": [
            "(1008, 20)\n",
            "<class 'pandas.core.frame.DataFrame'>\n",
            "Index: 1008 entries, 0 to 1007\n",
            "Data columns (total 20 columns):\n",
            " #   Column           Non-Null Count  Dtype  \n",
            "---  ------           --------------  -----  \n",
            " 0   moon_col_1       1008 non-null   object \n",
            " 1   saturn           1008 non-null   int64  \n",
            " 2   jupiter          1008 non-null   int64  \n",
            " 3   collaboration    1005 non-null   float64\n",
            " 4   earth            1008 non-null   float64\n",
            " 5   emot_vol         1003 non-null   float64\n",
            " 6   resourcefulness  1006 non-null   float64\n",
            " 7   ingenuity        1003 non-null   float64\n",
            " 8   mars             1008 non-null   float64\n",
            " 9   chron_dist       1006 non-null   float64\n",
            " 10  moon_col_2       1008 non-null   float64\n",
            " 11  env_destr        1005 non-null   float64\n",
            " 12  sex              1004 non-null   object \n",
            " 13  brain_wave       1008 non-null   object \n",
            " 14  given_name       1008 non-null   object \n",
            " 15  surname          1008 non-null   object \n",
            " 16  zipcode          1008 non-null   int64  \n",
            " 17  date_of_birth    1008 non-null   object \n",
            " 18  state            1005 non-null   object \n",
            " 19  class            1008 non-null   int64  \n",
            "dtypes: float64(9), int64(4), object(7)\n",
            "memory usage: 165.4+ KB\n",
            "None\n"
          ]
        },
        {
          "output_type": "execute_result",
          "data": {
            "text/plain": [
              "  moon_col_1  saturn  jupiter  collaboration  earth  emot_vol  \\\n",
              "0   mountain    2520    25531       1.871016   1.87 -0.943410   \n",
              "1   mountain    1848    22012       1.059565   1.06 -0.337253   \n",
              "2   mountain    1497    15326       1.654911   1.65 -1.407970   \n",
              "3   mountain    2769    15079      -0.075044  -0.08 -1.699400   \n",
              "4   mountain    1244    28038      -0.762473  -0.76 -1.366091   \n",
              "\n",
              "   resourcefulness  ingenuity  mars  chron_dist  moon_col_2  env_destr  \\\n",
              "0         1.871016   1.086506  1.87    1.871016        0.03   0.452337   \n",
              "1         1.059565   0.949748  1.06    1.059565        0.03   0.394683   \n",
              "2         1.654911   0.012663  1.65    1.654911        0.03  -0.003179   \n",
              "3         0.075044   2.777259 -0.08   -0.075044        0.03   1.150172   \n",
              "4         0.762473   1.223753 -0.76   -0.762473        0.03   0.505893   \n",
              "\n",
              "      sex brain_wave   given_name    surname  zipcode date_of_birth  \\\n",
              "0  'seed'      ALPHA      Antonio      Brown    74169    2001-06-12   \n",
              "1  'seed'       BETA  Christopher     Hudson    96144    1965-02-17   \n",
              "2   'egg'      DELTA       Joanna  Frederick    64990    1938-03-23   \n",
              "3  'seed'      ALPHA       Jeremy     Brewer    51974    1924-04-26   \n",
              "4   'egg'      ALPHA       Teresa       Wade    24246    1942-09-09   \n",
              "\n",
              "             state  class  \n",
              "0   'North Dakota'      1  \n",
              "1       'Michigan'      1  \n",
              "2  'West Virginia'      1  \n",
              "3     'California'      0  \n",
              "4         'Kansas'      0  "
            ],
            "text/html": [
              "\n",
              "  <div id=\"df-374837bf-5100-4134-a415-adabe8418ce5\" class=\"colab-df-container\">\n",
              "    <div>\n",
              "<style scoped>\n",
              "    .dataframe tbody tr th:only-of-type {\n",
              "        vertical-align: middle;\n",
              "    }\n",
              "\n",
              "    .dataframe tbody tr th {\n",
              "        vertical-align: top;\n",
              "    }\n",
              "\n",
              "    .dataframe thead th {\n",
              "        text-align: right;\n",
              "    }\n",
              "</style>\n",
              "<table border=\"1\" class=\"dataframe\">\n",
              "  <thead>\n",
              "    <tr style=\"text-align: right;\">\n",
              "      <th></th>\n",
              "      <th>moon_col_1</th>\n",
              "      <th>saturn</th>\n",
              "      <th>jupiter</th>\n",
              "      <th>collaboration</th>\n",
              "      <th>earth</th>\n",
              "      <th>emot_vol</th>\n",
              "      <th>resourcefulness</th>\n",
              "      <th>ingenuity</th>\n",
              "      <th>mars</th>\n",
              "      <th>chron_dist</th>\n",
              "      <th>moon_col_2</th>\n",
              "      <th>env_destr</th>\n",
              "      <th>sex</th>\n",
              "      <th>brain_wave</th>\n",
              "      <th>given_name</th>\n",
              "      <th>surname</th>\n",
              "      <th>zipcode</th>\n",
              "      <th>date_of_birth</th>\n",
              "      <th>state</th>\n",
              "      <th>class</th>\n",
              "    </tr>\n",
              "  </thead>\n",
              "  <tbody>\n",
              "    <tr>\n",
              "      <th>0</th>\n",
              "      <td>mountain</td>\n",
              "      <td>2520</td>\n",
              "      <td>25531</td>\n",
              "      <td>1.871016</td>\n",
              "      <td>1.87</td>\n",
              "      <td>-0.943410</td>\n",
              "      <td>1.871016</td>\n",
              "      <td>1.086506</td>\n",
              "      <td>1.87</td>\n",
              "      <td>1.871016</td>\n",
              "      <td>0.03</td>\n",
              "      <td>0.452337</td>\n",
              "      <td>'seed'</td>\n",
              "      <td>ALPHA</td>\n",
              "      <td>Antonio</td>\n",
              "      <td>Brown</td>\n",
              "      <td>74169</td>\n",
              "      <td>2001-06-12</td>\n",
              "      <td>'North Dakota'</td>\n",
              "      <td>1</td>\n",
              "    </tr>\n",
              "    <tr>\n",
              "      <th>1</th>\n",
              "      <td>mountain</td>\n",
              "      <td>1848</td>\n",
              "      <td>22012</td>\n",
              "      <td>1.059565</td>\n",
              "      <td>1.06</td>\n",
              "      <td>-0.337253</td>\n",
              "      <td>1.059565</td>\n",
              "      <td>0.949748</td>\n",
              "      <td>1.06</td>\n",
              "      <td>1.059565</td>\n",
              "      <td>0.03</td>\n",
              "      <td>0.394683</td>\n",
              "      <td>'seed'</td>\n",
              "      <td>BETA</td>\n",
              "      <td>Christopher</td>\n",
              "      <td>Hudson</td>\n",
              "      <td>96144</td>\n",
              "      <td>1965-02-17</td>\n",
              "      <td>'Michigan'</td>\n",
              "      <td>1</td>\n",
              "    </tr>\n",
              "    <tr>\n",
              "      <th>2</th>\n",
              "      <td>mountain</td>\n",
              "      <td>1497</td>\n",
              "      <td>15326</td>\n",
              "      <td>1.654911</td>\n",
              "      <td>1.65</td>\n",
              "      <td>-1.407970</td>\n",
              "      <td>1.654911</td>\n",
              "      <td>0.012663</td>\n",
              "      <td>1.65</td>\n",
              "      <td>1.654911</td>\n",
              "      <td>0.03</td>\n",
              "      <td>-0.003179</td>\n",
              "      <td>'egg'</td>\n",
              "      <td>DELTA</td>\n",
              "      <td>Joanna</td>\n",
              "      <td>Frederick</td>\n",
              "      <td>64990</td>\n",
              "      <td>1938-03-23</td>\n",
              "      <td>'West Virginia'</td>\n",
              "      <td>1</td>\n",
              "    </tr>\n",
              "    <tr>\n",
              "      <th>3</th>\n",
              "      <td>mountain</td>\n",
              "      <td>2769</td>\n",
              "      <td>15079</td>\n",
              "      <td>-0.075044</td>\n",
              "      <td>-0.08</td>\n",
              "      <td>-1.699400</td>\n",
              "      <td>0.075044</td>\n",
              "      <td>2.777259</td>\n",
              "      <td>-0.08</td>\n",
              "      <td>-0.075044</td>\n",
              "      <td>0.03</td>\n",
              "      <td>1.150172</td>\n",
              "      <td>'seed'</td>\n",
              "      <td>ALPHA</td>\n",
              "      <td>Jeremy</td>\n",
              "      <td>Brewer</td>\n",
              "      <td>51974</td>\n",
              "      <td>1924-04-26</td>\n",
              "      <td>'California'</td>\n",
              "      <td>0</td>\n",
              "    </tr>\n",
              "    <tr>\n",
              "      <th>4</th>\n",
              "      <td>mountain</td>\n",
              "      <td>1244</td>\n",
              "      <td>28038</td>\n",
              "      <td>-0.762473</td>\n",
              "      <td>-0.76</td>\n",
              "      <td>-1.366091</td>\n",
              "      <td>0.762473</td>\n",
              "      <td>1.223753</td>\n",
              "      <td>-0.76</td>\n",
              "      <td>-0.762473</td>\n",
              "      <td>0.03</td>\n",
              "      <td>0.505893</td>\n",
              "      <td>'egg'</td>\n",
              "      <td>ALPHA</td>\n",
              "      <td>Teresa</td>\n",
              "      <td>Wade</td>\n",
              "      <td>24246</td>\n",
              "      <td>1942-09-09</td>\n",
              "      <td>'Kansas'</td>\n",
              "      <td>0</td>\n",
              "    </tr>\n",
              "  </tbody>\n",
              "</table>\n",
              "</div>\n",
              "    <div class=\"colab-df-buttons\">\n",
              "\n",
              "  <div class=\"colab-df-container\">\n",
              "    <button class=\"colab-df-convert\" onclick=\"convertToInteractive('df-374837bf-5100-4134-a415-adabe8418ce5')\"\n",
              "            title=\"Convert this dataframe to an interactive table.\"\n",
              "            style=\"display:none;\">\n",
              "\n",
              "  <svg xmlns=\"http://www.w3.org/2000/svg\" height=\"24px\" viewBox=\"0 -960 960 960\">\n",
              "    <path d=\"M120-120v-720h720v720H120Zm60-500h600v-160H180v160Zm220 220h160v-160H400v160Zm0 220h160v-160H400v160ZM180-400h160v-160H180v160Zm440 0h160v-160H620v160ZM180-180h160v-160H180v160Zm440 0h160v-160H620v160Z\"/>\n",
              "  </svg>\n",
              "    </button>\n",
              "\n",
              "  <style>\n",
              "    .colab-df-container {\n",
              "      display:flex;\n",
              "      gap: 12px;\n",
              "    }\n",
              "\n",
              "    .colab-df-convert {\n",
              "      background-color: #E8F0FE;\n",
              "      border: none;\n",
              "      border-radius: 50%;\n",
              "      cursor: pointer;\n",
              "      display: none;\n",
              "      fill: #1967D2;\n",
              "      height: 32px;\n",
              "      padding: 0 0 0 0;\n",
              "      width: 32px;\n",
              "    }\n",
              "\n",
              "    .colab-df-convert:hover {\n",
              "      background-color: #E2EBFA;\n",
              "      box-shadow: 0px 1px 2px rgba(60, 64, 67, 0.3), 0px 1px 3px 1px rgba(60, 64, 67, 0.15);\n",
              "      fill: #174EA6;\n",
              "    }\n",
              "\n",
              "    .colab-df-buttons div {\n",
              "      margin-bottom: 4px;\n",
              "    }\n",
              "\n",
              "    [theme=dark] .colab-df-convert {\n",
              "      background-color: #3B4455;\n",
              "      fill: #D2E3FC;\n",
              "    }\n",
              "\n",
              "    [theme=dark] .colab-df-convert:hover {\n",
              "      background-color: #434B5C;\n",
              "      box-shadow: 0px 1px 3px 1px rgba(0, 0, 0, 0.15);\n",
              "      filter: drop-shadow(0px 1px 2px rgba(0, 0, 0, 0.3));\n",
              "      fill: #FFFFFF;\n",
              "    }\n",
              "  </style>\n",
              "\n",
              "    <script>\n",
              "      const buttonEl =\n",
              "        document.querySelector('#df-374837bf-5100-4134-a415-adabe8418ce5 button.colab-df-convert');\n",
              "      buttonEl.style.display =\n",
              "        google.colab.kernel.accessAllowed ? 'block' : 'none';\n",
              "\n",
              "      async function convertToInteractive(key) {\n",
              "        const element = document.querySelector('#df-374837bf-5100-4134-a415-adabe8418ce5');\n",
              "        const dataTable =\n",
              "          await google.colab.kernel.invokeFunction('convertToInteractive',\n",
              "                                                    [key], {});\n",
              "        if (!dataTable) return;\n",
              "\n",
              "        const docLinkHtml = 'Like what you see? Visit the ' +\n",
              "          '<a target=\"_blank\" href=https://colab.research.google.com/notebooks/data_table.ipynb>data table notebook</a>'\n",
              "          + ' to learn more about interactive tables.';\n",
              "        element.innerHTML = '';\n",
              "        dataTable['output_type'] = 'display_data';\n",
              "        await google.colab.output.renderOutput(dataTable, element);\n",
              "        const docLink = document.createElement('div');\n",
              "        docLink.innerHTML = docLinkHtml;\n",
              "        element.appendChild(docLink);\n",
              "      }\n",
              "    </script>\n",
              "  </div>\n",
              "\n",
              "\n",
              "<div id=\"df-c7f231ab-b7b1-4ffe-b4f9-f2bd77585dc9\">\n",
              "  <button class=\"colab-df-quickchart\" onclick=\"quickchart('df-c7f231ab-b7b1-4ffe-b4f9-f2bd77585dc9')\"\n",
              "            title=\"Suggest charts\"\n",
              "            style=\"display:none;\">\n",
              "\n",
              "<svg xmlns=\"http://www.w3.org/2000/svg\" height=\"24px\"viewBox=\"0 0 24 24\"\n",
              "     width=\"24px\">\n",
              "    <g>\n",
              "        <path d=\"M19 3H5c-1.1 0-2 .9-2 2v14c0 1.1.9 2 2 2h14c1.1 0 2-.9 2-2V5c0-1.1-.9-2-2-2zM9 17H7v-7h2v7zm4 0h-2V7h2v10zm4 0h-2v-4h2v4z\"/>\n",
              "    </g>\n",
              "</svg>\n",
              "  </button>\n",
              "\n",
              "<style>\n",
              "  .colab-df-quickchart {\n",
              "      --bg-color: #E8F0FE;\n",
              "      --fill-color: #1967D2;\n",
              "      --hover-bg-color: #E2EBFA;\n",
              "      --hover-fill-color: #174EA6;\n",
              "      --disabled-fill-color: #AAA;\n",
              "      --disabled-bg-color: #DDD;\n",
              "  }\n",
              "\n",
              "  [theme=dark] .colab-df-quickchart {\n",
              "      --bg-color: #3B4455;\n",
              "      --fill-color: #D2E3FC;\n",
              "      --hover-bg-color: #434B5C;\n",
              "      --hover-fill-color: #FFFFFF;\n",
              "      --disabled-bg-color: #3B4455;\n",
              "      --disabled-fill-color: #666;\n",
              "  }\n",
              "\n",
              "  .colab-df-quickchart {\n",
              "    background-color: var(--bg-color);\n",
              "    border: none;\n",
              "    border-radius: 50%;\n",
              "    cursor: pointer;\n",
              "    display: none;\n",
              "    fill: var(--fill-color);\n",
              "    height: 32px;\n",
              "    padding: 0;\n",
              "    width: 32px;\n",
              "  }\n",
              "\n",
              "  .colab-df-quickchart:hover {\n",
              "    background-color: var(--hover-bg-color);\n",
              "    box-shadow: 0 1px 2px rgba(60, 64, 67, 0.3), 0 1px 3px 1px rgba(60, 64, 67, 0.15);\n",
              "    fill: var(--button-hover-fill-color);\n",
              "  }\n",
              "\n",
              "  .colab-df-quickchart-complete:disabled,\n",
              "  .colab-df-quickchart-complete:disabled:hover {\n",
              "    background-color: var(--disabled-bg-color);\n",
              "    fill: var(--disabled-fill-color);\n",
              "    box-shadow: none;\n",
              "  }\n",
              "\n",
              "  .colab-df-spinner {\n",
              "    border: 2px solid var(--fill-color);\n",
              "    border-color: transparent;\n",
              "    border-bottom-color: var(--fill-color);\n",
              "    animation:\n",
              "      spin 1s steps(1) infinite;\n",
              "  }\n",
              "\n",
              "  @keyframes spin {\n",
              "    0% {\n",
              "      border-color: transparent;\n",
              "      border-bottom-color: var(--fill-color);\n",
              "      border-left-color: var(--fill-color);\n",
              "    }\n",
              "    20% {\n",
              "      border-color: transparent;\n",
              "      border-left-color: var(--fill-color);\n",
              "      border-top-color: var(--fill-color);\n",
              "    }\n",
              "    30% {\n",
              "      border-color: transparent;\n",
              "      border-left-color: var(--fill-color);\n",
              "      border-top-color: var(--fill-color);\n",
              "      border-right-color: var(--fill-color);\n",
              "    }\n",
              "    40% {\n",
              "      border-color: transparent;\n",
              "      border-right-color: var(--fill-color);\n",
              "      border-top-color: var(--fill-color);\n",
              "    }\n",
              "    60% {\n",
              "      border-color: transparent;\n",
              "      border-right-color: var(--fill-color);\n",
              "    }\n",
              "    80% {\n",
              "      border-color: transparent;\n",
              "      border-right-color: var(--fill-color);\n",
              "      border-bottom-color: var(--fill-color);\n",
              "    }\n",
              "    90% {\n",
              "      border-color: transparent;\n",
              "      border-bottom-color: var(--fill-color);\n",
              "    }\n",
              "  }\n",
              "</style>\n",
              "\n",
              "  <script>\n",
              "    async function quickchart(key) {\n",
              "      const quickchartButtonEl =\n",
              "        document.querySelector('#' + key + ' button');\n",
              "      quickchartButtonEl.disabled = true;  // To prevent multiple clicks.\n",
              "      quickchartButtonEl.classList.add('colab-df-spinner');\n",
              "      try {\n",
              "        const charts = await google.colab.kernel.invokeFunction(\n",
              "            'suggestCharts', [key], {});\n",
              "      } catch (error) {\n",
              "        console.error('Error during call to suggestCharts:', error);\n",
              "      }\n",
              "      quickchartButtonEl.classList.remove('colab-df-spinner');\n",
              "      quickchartButtonEl.classList.add('colab-df-quickchart-complete');\n",
              "    }\n",
              "    (() => {\n",
              "      let quickchartButtonEl =\n",
              "        document.querySelector('#df-c7f231ab-b7b1-4ffe-b4f9-f2bd77585dc9 button');\n",
              "      quickchartButtonEl.style.display =\n",
              "        google.colab.kernel.accessAllowed ? 'block' : 'none';\n",
              "    })();\n",
              "  </script>\n",
              "</div>\n",
              "\n",
              "    </div>\n",
              "  </div>\n"
            ],
            "application/vnd.google.colaboratory.intrinsic+json": {
              "type": "dataframe",
              "variable_name": "df",
              "summary": "{\n  \"name\": \"df\",\n  \"rows\": 1008,\n  \"fields\": [\n    {\n      \"column\": \"moon_col_1\",\n      \"properties\": {\n        \"dtype\": \"category\",\n        \"num_unique_values\": 2,\n        \"samples\": [\n          \"crater\",\n          \"mountain\"\n        ],\n        \"semantic_type\": \"\",\n        \"description\": \"\"\n      }\n    },\n    {\n      \"column\": \"saturn\",\n      \"properties\": {\n        \"dtype\": \"number\",\n        \"std\": 574,\n        \"min\": 1002,\n        \"max\": 2997,\n        \"num_unique_values\": 1000,\n        \"samples\": [\n          2517,\n          1492\n        ],\n        \"semantic_type\": \"\",\n        \"description\": \"\"\n      }\n    },\n    {\n      \"column\": \"jupiter\",\n      \"properties\": {\n        \"dtype\": \"number\",\n        \"std\": 5911,\n        \"min\": 10017,\n        \"max\": 29967,\n        \"num_unique_values\": 1000,\n        \"samples\": [\n          26444,\n          23529\n        ],\n        \"semantic_type\": \"\",\n        \"description\": \"\"\n      }\n    },\n    {\n      \"column\": \"collaboration\",\n      \"properties\": {\n        \"dtype\": \"number\",\n        \"std\": 1.2260177314614944,\n        \"min\": -2.850971449868199,\n        \"max\": 3.342864069511592,\n        \"num_unique_values\": 997,\n        \"samples\": [\n          -0.5914262653766327,\n          0.1676683406258643\n        ],\n        \"semantic_type\": \"\",\n        \"description\": \"\"\n      }\n    },\n    {\n      \"column\": \"earth\",\n      \"properties\": {\n        \"dtype\": \"number\",\n        \"std\": 1.2260451880304566,\n        \"min\": -2.85,\n        \"max\": 3.34,\n        \"num_unique_values\": 411,\n        \"samples\": [\n          0.08,\n          -0.34\n        ],\n        \"semantic_type\": \"\",\n        \"description\": \"\"\n      }\n    },\n    {\n      \"column\": \"emot_vol\",\n      \"properties\": {\n        \"dtype\": \"number\",\n        \"std\": 0.5963646480605534,\n        \"min\": -4.03506054278913,\n        \"max\": -0.0030670552279829,\n        \"num_unique_values\": 995,\n        \"samples\": [\n          -1.3234276876215287,\n          -0.2261076145632697\n        ],\n        \"semantic_type\": \"\",\n        \"description\": \"\"\n      }\n    },\n    {\n      \"column\": \"resourcefulness\",\n      \"properties\": {\n        \"dtype\": \"number\",\n        \"std\": 0.6503922236652256,\n        \"min\": -0.0181484162101148,\n        \"max\": 3.342864069511592,\n        \"num_unique_values\": 998,\n        \"samples\": [\n          1.1360195361270635,\n          0.2084877305200685\n        ],\n        \"semantic_type\": \"\",\n        \"description\": \"\"\n      }\n    },\n    {\n      \"column\": \"ingenuity\",\n      \"properties\": {\n        \"dtype\": \"number\",\n        \"std\": 0.8368372978039985,\n        \"min\": -0.0062421475398195,\n        \"max\": 4.138715401007325,\n        \"num_unique_values\": 995,\n        \"samples\": [\n          0.6872880813278267,\n          0.2081324419114035\n        ],\n        \"semantic_type\": \"\",\n        \"description\": \"\"\n      }\n    },\n    {\n      \"column\": \"mars\",\n      \"properties\": {\n        \"dtype\": \"number\",\n        \"std\": 1.2260451880304566,\n        \"min\": -2.85,\n        \"max\": 3.34,\n        \"num_unique_values\": 411,\n        \"samples\": [\n          0.08,\n          -0.34\n        ],\n        \"semantic_type\": \"\",\n        \"description\": \"\"\n      }\n    },\n    {\n      \"column\": \"chron_dist\",\n      \"properties\": {\n        \"dtype\": \"number\",\n        \"std\": 1.2261186551853351,\n        \"min\": -2.850971449868199,\n        \"max\": 3.342864069511592,\n        \"num_unique_values\": 998,\n        \"samples\": [\n          -0.847404142451928,\n          0.2084877305200685\n        ],\n        \"semantic_type\": \"\",\n        \"description\": \"\"\n      }\n    },\n    {\n      \"column\": \"moon_col_2\",\n      \"properties\": {\n        \"dtype\": \"number\",\n        \"std\": 1.3884676757262223e-17,\n        \"min\": 0.03,\n        \"max\": 0.03,\n        \"num_unique_values\": 1,\n        \"samples\": [\n          0.03\n        ],\n        \"semantic_type\": \"\",\n        \"description\": \"\"\n      }\n    },\n    {\n      \"column\": \"env_destr\",\n      \"properties\": {\n        \"dtype\": \"number\",\n        \"std\": 0.44315059915298843,\n        \"min\": -1.0276923373459232,\n        \"max\": 1.714987128459353,\n        \"num_unique_values\": 997,\n        \"samples\": [\n          0.4998971128827894\n        ],\n        \"semantic_type\": \"\",\n        \"description\": \"\"\n      }\n    },\n    {\n      \"column\": \"sex\",\n      \"properties\": {\n        \"dtype\": \"category\",\n        \"num_unique_values\": 2,\n        \"samples\": [\n          \"'egg'\"\n        ],\n        \"semantic_type\": \"\",\n        \"description\": \"\"\n      }\n    },\n    {\n      \"column\": \"brain_wave\",\n      \"properties\": {\n        \"dtype\": \"category\",\n        \"num_unique_values\": 4,\n        \"samples\": [\n          \"BETA\"\n        ],\n        \"semantic_type\": \"\",\n        \"description\": \"\"\n      }\n    },\n    {\n      \"column\": \"given_name\",\n      \"properties\": {\n        \"dtype\": \"category\",\n        \"num_unique_values\": 357,\n        \"samples\": [\n          \"Carrie\"\n        ],\n        \"semantic_type\": \"\",\n        \"description\": \"\"\n      }\n    },\n    {\n      \"column\": \"surname\",\n      \"properties\": {\n        \"dtype\": \"string\",\n        \"num_unique_values\": 508,\n        \"samples\": [\n          \"Kim\"\n        ],\n        \"semantic_type\": \"\",\n        \"description\": \"\"\n      }\n    },\n    {\n      \"column\": \"zipcode\",\n      \"properties\": {\n        \"dtype\": \"number\",\n        \"std\": 28224,\n        \"min\": 547,\n        \"max\": 99928,\n        \"num_unique_values\": 995,\n        \"samples\": [\n          6072\n        ],\n        \"semantic_type\": \"\",\n        \"description\": \"\"\n      }\n    },\n    {\n      \"column\": \"date_of_birth\",\n      \"properties\": {\n        \"dtype\": \"object\",\n        \"num_unique_values\": 991,\n        \"samples\": [\n          \"1960-06-02\"\n        ],\n        \"semantic_type\": \"\",\n        \"description\": \"\"\n      }\n    },\n    {\n      \"column\": \"state\",\n      \"properties\": {\n        \"dtype\": \"category\",\n        \"num_unique_values\": 50,\n        \"samples\": [\n          \"'Georgia'\"\n        ],\n        \"semantic_type\": \"\",\n        \"description\": \"\"\n      }\n    },\n    {\n      \"column\": \"class\",\n      \"properties\": {\n        \"dtype\": \"number\",\n        \"std\": 0,\n        \"min\": 0,\n        \"max\": 1,\n        \"num_unique_values\": 2,\n        \"samples\": [\n          0\n        ],\n        \"semantic_type\": \"\",\n        \"description\": \"\"\n      }\n    }\n  ]\n}"
            }
          },
          "metadata": {},
          "execution_count": 48
        }
      ]
    },
    {
      "cell_type": "markdown",
      "source": [
        "### Data Prep"
      ],
      "metadata": {
        "id": "oHTmJ_N4pw9z"
      },
      "id": "oHTmJ_N4pw9z"
    },
    {
      "cell_type": "code",
      "source": [
        "! git clone https://github.com/gitmystuff/preppy.git"
      ],
      "metadata": {
        "colab": {
          "base_uri": "https://localhost:8080/"
        },
        "id": "scalw50frc7T",
        "outputId": "b45d2dab-b853-4d73-dd59-b7fe2a9910b4"
      },
      "id": "scalw50frc7T",
      "execution_count": null,
      "outputs": [
        {
          "output_type": "stream",
          "name": "stdout",
          "text": [
            "fatal: destination path 'preppy' already exists and is not an empty directory.\n"
          ]
        }
      ]
    },
    {
      "cell_type": "code",
      "source": [
        "from preppy.version import __version__\n",
        "\n",
        "print(__version__)"
      ],
      "metadata": {
        "colab": {
          "base_uri": "https://localhost:8080/"
        },
        "id": "yEiue1X-rhyr",
        "outputId": "4a228600-04d9-43f3-e3c4-e61100dc5dd0"
      },
      "id": "yEiue1X-rhyr",
      "execution_count": null,
      "outputs": [
        {
          "output_type": "stream",
          "name": "stdout",
          "text": [
            "PrepPy Version: 0.1.0\n"
          ]
        }
      ]
    },
    {
      "cell_type": "code",
      "source": [
        "# check for constants\n",
        "import preppy.utils as utils\n",
        "\n",
        "consts = utils.functions.identify_consts(df)\n",
        "print(consts)"
      ],
      "metadata": {
        "colab": {
          "base_uri": "https://localhost:8080/"
        },
        "id": "9RgXfLZlZtjJ",
        "outputId": "0a0b484c-5bee-452d-aaee-3ebe3844aa63"
      },
      "execution_count": null,
      "outputs": [
        {
          "output_type": "stream",
          "name": "stdout",
          "text": [
            "['moon_col_2']\n"
          ]
        }
      ],
      "id": "9RgXfLZlZtjJ"
    },
    {
      "cell_type": "code",
      "source": [
        "quasi_consts = utils.functions.identify_quasi_consts(df)\n",
        "print(quasi_consts)"
      ],
      "metadata": {
        "colab": {
          "base_uri": "https://localhost:8080/"
        },
        "id": "GBj63IbKUFhn",
        "outputId": "911b2507-f759-4a37-a7ea-e63478fb5286"
      },
      "id": "GBj63IbKUFhn",
      "execution_count": null,
      "outputs": [
        {
          "output_type": "stream",
          "name": "stdout",
          "text": [
            "['moon_col_1', 'moon_col_2']\n"
          ]
        }
      ]
    },
    {
      "cell_type": "code",
      "source": [
        "df.drop(quasi_consts, axis=1, inplace=True)"
      ],
      "metadata": {
        "id": "osHvWjypb5mw"
      },
      "id": "osHvWjypb5mw",
      "execution_count": null,
      "outputs": []
    },
    {
      "cell_type": "code",
      "source": [
        "# quasi constant values (sometimes these may be boolean features)\n",
        "quasi_consts = []\n",
        "for val in df.columns.sort_values():\n",
        "    if (len(df[val].unique()) < 3 and max(df[val].value_counts(normalize=True)) > .95): # maybe .99?\n",
        "        quasi_consts.append(val)\n",
        "\n",
        "quasi_consts"
      ],
      "metadata": {
        "colab": {
          "base_uri": "https://localhost:8080/"
        },
        "id": "pXt86h9Ixtwy",
        "outputId": "c3d918b4-d703-412f-aebb-f307b934b779"
      },
      "id": "pXt86h9Ixtwy",
      "execution_count": null,
      "outputs": [
        {
          "output_type": "execute_result",
          "data": {
            "text/plain": [
              "[]"
            ]
          },
          "metadata": {},
          "execution_count": 54
        }
      ]
    },
    {
      "cell_type": "code",
      "source": [
        "# duplicate rows\n",
        "df[df.duplicated(keep=False)]\n",
        "utils.functions.check_row_duplicates(df)"
      ],
      "metadata": {
        "colab": {
          "base_uri": "https://localhost:8080/"
        },
        "id": "EcMLB_-u5XCo",
        "outputId": "bfa2ad89-a2a3-4750-cc1e-ea78100b9c55"
      },
      "execution_count": null,
      "outputs": [
        {
          "output_type": "execute_result",
          "data": {
            "text/plain": [
              "16"
            ]
          },
          "metadata": {},
          "execution_count": 55
        }
      ],
      "id": "EcMLB_-u5XCo"
    },
    {
      "cell_type": "code",
      "source": [
        "df.shape"
      ],
      "metadata": {
        "colab": {
          "base_uri": "https://localhost:8080/"
        },
        "id": "aC0nL2xVVDq9",
        "outputId": "527f7667-d13d-4790-fe83-587ba5b658ad"
      },
      "id": "aC0nL2xVVDq9",
      "execution_count": null,
      "outputs": [
        {
          "output_type": "execute_result",
          "data": {
            "text/plain": [
              "(1008, 18)"
            ]
          },
          "metadata": {},
          "execution_count": 56
        }
      ]
    },
    {
      "cell_type": "code",
      "source": [
        "# drop duplicate rows\n",
        "df.drop_duplicates(inplace=True)"
      ],
      "metadata": {
        "id": "DTdC9Ljk5ear"
      },
      "execution_count": null,
      "outputs": [],
      "id": "DTdC9Ljk5ear"
    },
    {
      "cell_type": "code",
      "source": [
        "df.shape"
      ],
      "metadata": {
        "colab": {
          "base_uri": "https://localhost:8080/"
        },
        "id": "6u_Kb0QRVTL-",
        "outputId": "c90ae3d9-8dba-41da-8385-5d4ad2a5f2ac"
      },
      "id": "6u_Kb0QRVTL-",
      "execution_count": null,
      "outputs": [
        {
          "output_type": "execute_result",
          "data": {
            "text/plain": [
              "(1000, 18)"
            ]
          },
          "metadata": {},
          "execution_count": 58
        }
      ]
    },
    {
      "cell_type": "code",
      "source": [
        "# check of duplicate columns\n",
        "duplicate_features = []\n",
        "for i in range(0, len(df.columns)):\n",
        "    orig = df.columns[i]\n",
        "\n",
        "    for dupe in df.columns[i + 1:]:\n",
        "        if df[orig].equals(df[dupe]):\n",
        "            duplicate_features.append(dupe)\n",
        "\n",
        "duplicate_features"
      ],
      "metadata": {
        "colab": {
          "base_uri": "https://localhost:8080/"
        },
        "id": "MVLr41p_5ga3",
        "outputId": "77230c05-91c7-436e-fc00-974a34ee1c1a"
      },
      "execution_count": null,
      "outputs": [
        {
          "output_type": "execute_result",
          "data": {
            "text/plain": [
              "['mars']"
            ]
          },
          "metadata": {},
          "execution_count": 59
        }
      ],
      "id": "MVLr41p_5ga3"
    },
    {
      "cell_type": "code",
      "source": [
        "df.drop(duplicate_features, axis=1, inplace=True)"
      ],
      "metadata": {
        "id": "5rCClFPhO33b"
      },
      "execution_count": null,
      "outputs": [],
      "id": "5rCClFPhO33b"
    },
    {
      "cell_type": "markdown",
      "source": [
        "### OHE"
      ],
      "metadata": {
        "id": "Qv9Tz3M5pzAv"
      },
      "id": "Qv9Tz3M5pzAv"
    },
    {
      "cell_type": "code",
      "source": [
        "df['zipcode'] = df['zipcode'].astype('object')"
      ],
      "metadata": {
        "id": "q2XwHFcmA9z2"
      },
      "execution_count": null,
      "outputs": [],
      "id": "q2XwHFcmA9z2"
    },
    {
      "cell_type": "code",
      "source": [
        "df.info()"
      ],
      "metadata": {
        "colab": {
          "base_uri": "https://localhost:8080/"
        },
        "id": "UcQvEtabWEwX",
        "outputId": "2315faaf-0da5-4e21-9a49-9b8a70e8d662"
      },
      "id": "UcQvEtabWEwX",
      "execution_count": null,
      "outputs": [
        {
          "output_type": "stream",
          "name": "stdout",
          "text": [
            "<class 'pandas.core.frame.DataFrame'>\n",
            "Index: 1000 entries, 0 to 1007\n",
            "Data columns (total 17 columns):\n",
            " #   Column           Non-Null Count  Dtype  \n",
            "---  ------           --------------  -----  \n",
            " 0   saturn           1000 non-null   int64  \n",
            " 1   jupiter          1000 non-null   int64  \n",
            " 2   collaboration    997 non-null    float64\n",
            " 3   earth            1000 non-null   float64\n",
            " 4   emot_vol         995 non-null    float64\n",
            " 5   resourcefulness  998 non-null    float64\n",
            " 6   ingenuity        995 non-null    float64\n",
            " 7   chron_dist       998 non-null    float64\n",
            " 8   env_destr        997 non-null    float64\n",
            " 9   sex              996 non-null    object \n",
            " 10  brain_wave       1000 non-null   object \n",
            " 11  given_name       1000 non-null   object \n",
            " 12  surname          1000 non-null   object \n",
            " 13  zipcode          1000 non-null   object \n",
            " 14  date_of_birth    1000 non-null   object \n",
            " 15  state            997 non-null    object \n",
            " 16  class            1000 non-null   int64  \n",
            "dtypes: float64(7), int64(3), object(7)\n",
            "memory usage: 140.6+ KB\n"
          ]
        }
      ]
    },
    {
      "cell_type": "code",
      "source": [
        "for feat in df.select_dtypes('object'):\n",
        "  print(f'{feat} has {len(df[feat].value_counts())} unique labels')"
      ],
      "metadata": {
        "colab": {
          "base_uri": "https://localhost:8080/"
        },
        "id": "O0OrjKDZCO5n",
        "outputId": "fe82a156-436a-4905-f336-a2023d0eeded"
      },
      "execution_count": null,
      "outputs": [
        {
          "output_type": "stream",
          "name": "stdout",
          "text": [
            "sex has 2 unique labels\n",
            "brain_wave has 4 unique labels\n",
            "given_name has 357 unique labels\n",
            "surname has 508 unique labels\n",
            "zipcode has 995 unique labels\n",
            "date_of_birth has 991 unique labels\n",
            "state has 50 unique labels\n"
          ]
        }
      ],
      "id": "O0OrjKDZCO5n"
    },
    {
      "cell_type": "code",
      "source": [
        "from sklearn.preprocessing import OneHotEncoder\n",
        "\n",
        "cat_features = []\n",
        "for feat in df.select_dtypes('object'):\n",
        "  if len(df[feat].value_counts()) < 3:\n",
        "    df[feat] = df[feat].map({df[feat].value_counts().index[0]: 0, df[feat].value_counts().index[1]: 1})\n",
        "  elif 2 < len(df[feat].value_counts()) < 6:\n",
        "    cat_features.append(feat)\n",
        "  elif len(df[feat].value_counts()) > 5:\n",
        "    freq = df.groupby(feat).size()/len(df)\n",
        "    df[feat] = df[feat].map(freq)\n",
        "\n",
        "ohe = OneHotEncoder(categories='auto', drop='first', sparse_output=False, handle_unknown='ignore')\n",
        "ohe_df = ohe.fit_transform(df[cat_features])\n",
        "ohe_df = pd.DataFrame(ohe_df, columns=ohe.get_feature_names_out(cat_features))\n",
        "df.index = df.index\n",
        "df = df.join(ohe_df)\n",
        "df.drop(cat_features, axis=1, inplace=True)"
      ],
      "metadata": {
        "id": "Y62ZAZMbD980"
      },
      "execution_count": null,
      "outputs": [],
      "id": "Y62ZAZMbD980"
    },
    {
      "cell_type": "markdown",
      "source": [
        "### Missing Values"
      ],
      "metadata": {
        "id": "2cI4JEniQn_r"
      },
      "id": "2cI4JEniQn_r"
    },
    {
      "cell_type": "code",
      "source": [
        "# check for nulls\n",
        "df.isnull().sum()"
      ],
      "metadata": {
        "colab": {
          "base_uri": "https://localhost:8080/"
        },
        "id": "zIx4I7Cj5tSX",
        "outputId": "486aeb58-c6cf-4b62-ea13-7f05eb7e5821"
      },
      "execution_count": null,
      "outputs": [
        {
          "output_type": "execute_result",
          "data": {
            "text/plain": [
              "saturn              0\n",
              "jupiter             0\n",
              "collaboration       3\n",
              "earth               0\n",
              "emot_vol            5\n",
              "resourcefulness     2\n",
              "ingenuity           5\n",
              "chron_dist          2\n",
              "env_destr           3\n",
              "sex                 4\n",
              "given_name          0\n",
              "surname             0\n",
              "zipcode             0\n",
              "date_of_birth       0\n",
              "state               3\n",
              "class               0\n",
              "brain_wave_BETA     8\n",
              "brain_wave_DELTA    8\n",
              "brain_wave_THETA    8\n",
              "dtype: int64"
            ]
          },
          "metadata": {},
          "execution_count": 65
        }
      ],
      "id": "zIx4I7Cj5tSX"
    },
    {
      "cell_type": "code",
      "source": [
        "df[df.columns[df.isnull().sum() > 1]].info()"
      ],
      "metadata": {
        "colab": {
          "base_uri": "https://localhost:8080/"
        },
        "id": "xbxNs38p58ZF",
        "outputId": "3ee7c7b5-65c9-4094-ecc6-d9cb4a249e25"
      },
      "execution_count": null,
      "outputs": [
        {
          "output_type": "stream",
          "name": "stdout",
          "text": [
            "<class 'pandas.core.frame.DataFrame'>\n",
            "Index: 1000 entries, 0 to 1007\n",
            "Data columns (total 11 columns):\n",
            " #   Column            Non-Null Count  Dtype  \n",
            "---  ------            --------------  -----  \n",
            " 0   collaboration     997 non-null    float64\n",
            " 1   emot_vol          995 non-null    float64\n",
            " 2   resourcefulness   998 non-null    float64\n",
            " 3   ingenuity         995 non-null    float64\n",
            " 4   chron_dist        998 non-null    float64\n",
            " 5   env_destr         997 non-null    float64\n",
            " 6   sex               996 non-null    float64\n",
            " 7   state             997 non-null    float64\n",
            " 8   brain_wave_BETA   992 non-null    float64\n",
            " 9   brain_wave_DELTA  992 non-null    float64\n",
            " 10  brain_wave_THETA  992 non-null    float64\n",
            "dtypes: float64(11)\n",
            "memory usage: 126.0 KB\n"
          ]
        }
      ],
      "id": "xbxNs38p58ZF"
    },
    {
      "cell_type": "code",
      "source": [
        "for feat in df.columns[df.isnull().sum() > 1]:\n",
        "  if df[feat].dtype == 'object':\n",
        "    print('object', feat)\n",
        "    df[feat].fillna(df[feat].mode()[0], inplace=True)\n",
        "  else:\n",
        "    print('numeric', feat, df[feat].skew())\n",
        "    if abs(df[feat].skew()) < .8:\n",
        "      df[feat].fillna(round(df[feat].mean(), 2), inplace=True)\n",
        "    else:\n",
        "      df[feat].fillna(df[feat].median(), inplace=True)\n",
        "\n",
        "df.isnull().sum()"
      ],
      "metadata": {
        "colab": {
          "base_uri": "https://localhost:8080/"
        },
        "id": "ta4qBIBi7P7J",
        "outputId": "2d469bd9-e8b2-4a3d-c06e-625bcdbc5b72"
      },
      "execution_count": null,
      "outputs": [
        {
          "output_type": "stream",
          "name": "stdout",
          "text": [
            "numeric collaboration 0.18000985957131968\n",
            "numeric emot_vol -0.30814982535064\n",
            "numeric resourcefulness 0.5453550078164151\n",
            "numeric ingenuity 0.7059064582896115\n",
            "numeric chron_dist 0.17363943566576429\n",
            "numeric env_destr -0.048913417980882314\n",
            "numeric sex 0.0\n",
            "numeric state 0.1388262398262411\n",
            "numeric brain_wave_BETA 1.266003831315825\n",
            "numeric brain_wave_DELTA 1.0425534091379487\n",
            "numeric brain_wave_THETA 1.2134563233821458\n"
          ]
        },
        {
          "output_type": "execute_result",
          "data": {
            "text/plain": [
              "saturn              0\n",
              "jupiter             0\n",
              "collaboration       0\n",
              "earth               0\n",
              "emot_vol            0\n",
              "resourcefulness     0\n",
              "ingenuity           0\n",
              "chron_dist          0\n",
              "env_destr           0\n",
              "sex                 0\n",
              "given_name          0\n",
              "surname             0\n",
              "zipcode             0\n",
              "date_of_birth       0\n",
              "state               0\n",
              "class               0\n",
              "brain_wave_BETA     0\n",
              "brain_wave_DELTA    0\n",
              "brain_wave_THETA    0\n",
              "dtype: int64"
            ]
          },
          "metadata": {},
          "execution_count": 67
        }
      ],
      "id": "ta4qBIBi7P7J"
    },
    {
      "cell_type": "markdown",
      "source": [
        "### Descriptive Statistics\n",
        "\n"
      ],
      "metadata": {
        "id": "mEeQNKUyo2UB"
      },
      "id": "mEeQNKUyo2UB"
    },
    {
      "cell_type": "code",
      "source": [
        "df.describe()"
      ],
      "metadata": {
        "id": "DTAnbIwupEjs",
        "colab": {
          "base_uri": "https://localhost:8080/",
          "height": 320
        },
        "outputId": "f76a7a1a-4aec-4bb0-8aa1-aba4a827106a"
      },
      "id": "DTAnbIwupEjs",
      "execution_count": null,
      "outputs": [
        {
          "output_type": "execute_result",
          "data": {
            "text/plain": [
              "            saturn       jupiter  collaboration        earth     emot_vol  \\\n",
              "count  1000.000000   1000.000000    1000.000000  1000.000000  1000.000000   \n",
              "mean   2006.335000  19891.257000      -0.012658    -0.012660    -1.213293   \n",
              "std     575.653613   5904.223265       1.223482     1.225364     0.594472   \n",
              "min    1002.000000  10017.000000      -2.850971    -2.850000    -4.035061   \n",
              "25%    1495.500000  14762.250000      -0.978298    -0.982500    -1.543481   \n",
              "50%    2012.500000  19752.000000      -0.094093    -0.100000    -1.331564   \n",
              "75%    2491.500000  24930.000000       0.973550     0.972500    -0.859215   \n",
              "max    2997.000000  29967.000000       3.342864     3.340000    -0.003067   \n",
              "\n",
              "       resourcefulness    ingenuity   chron_dist    env_destr          sex  \\\n",
              "count      1000.000000  1000.000000  1000.000000  1000.000000  1000.000000   \n",
              "mean          1.036453     1.218239    -0.010313     0.424566     0.500000   \n",
              "std           0.651161     0.836488     1.224208     0.443719     0.499249   \n",
              "min          -0.018148    -0.006242    -2.850971    -1.027692     0.000000   \n",
              "25%           0.498473     0.545948    -0.975712     0.125543     0.000000   \n",
              "50%           0.978181     1.094760    -0.085163     0.421292     0.500000   \n",
              "75%           1.484419     1.739888     0.973550     0.713994     1.000000   \n",
              "max           3.342864     4.138715     3.342864     1.714987     1.000000   \n",
              "\n",
              "        given_name      surname     zipcode  date_of_birth        state  \\\n",
              "count  1000.000000  1000.000000  1000.00000    1000.000000  1000.000000   \n",
              "mean      0.006268     0.004068     0.00101       0.001018     0.020949   \n",
              "std       0.005557     0.004050     0.00010       0.000133     0.004523   \n",
              "min       0.001000     0.001000     0.00100       0.001000     0.013000   \n",
              "25%       0.002000     0.001000     0.00100       0.001000     0.018000   \n",
              "50%       0.005000     0.002000     0.00100       0.001000     0.020000   \n",
              "75%       0.009000     0.005000     0.00100       0.001000     0.024000   \n",
              "max       0.023000     0.018000     0.00200       0.002000     0.030000   \n",
              "\n",
              "            class  brain_wave_BETA  brain_wave_DELTA  brain_wave_THETA  \n",
              "count  1000.00000      1000.000000       1000.000000       1000.000000  \n",
              "mean      0.50000         0.231000          0.267000          0.239000  \n",
              "std       0.50025         0.421683          0.442614          0.426686  \n",
              "min       0.00000         0.000000          0.000000          0.000000  \n",
              "25%       0.00000         0.000000          0.000000          0.000000  \n",
              "50%       0.50000         0.000000          0.000000          0.000000  \n",
              "75%       1.00000         0.000000          1.000000          0.000000  \n",
              "max       1.00000         1.000000          1.000000          1.000000  "
            ],
            "text/html": [
              "\n",
              "  <div id=\"df-8567c141-bf43-41d9-93c6-3712416d6bd4\" class=\"colab-df-container\">\n",
              "    <div>\n",
              "<style scoped>\n",
              "    .dataframe tbody tr th:only-of-type {\n",
              "        vertical-align: middle;\n",
              "    }\n",
              "\n",
              "    .dataframe tbody tr th {\n",
              "        vertical-align: top;\n",
              "    }\n",
              "\n",
              "    .dataframe thead th {\n",
              "        text-align: right;\n",
              "    }\n",
              "</style>\n",
              "<table border=\"1\" class=\"dataframe\">\n",
              "  <thead>\n",
              "    <tr style=\"text-align: right;\">\n",
              "      <th></th>\n",
              "      <th>saturn</th>\n",
              "      <th>jupiter</th>\n",
              "      <th>collaboration</th>\n",
              "      <th>earth</th>\n",
              "      <th>emot_vol</th>\n",
              "      <th>resourcefulness</th>\n",
              "      <th>ingenuity</th>\n",
              "      <th>chron_dist</th>\n",
              "      <th>env_destr</th>\n",
              "      <th>sex</th>\n",
              "      <th>given_name</th>\n",
              "      <th>surname</th>\n",
              "      <th>zipcode</th>\n",
              "      <th>date_of_birth</th>\n",
              "      <th>state</th>\n",
              "      <th>class</th>\n",
              "      <th>brain_wave_BETA</th>\n",
              "      <th>brain_wave_DELTA</th>\n",
              "      <th>brain_wave_THETA</th>\n",
              "    </tr>\n",
              "  </thead>\n",
              "  <tbody>\n",
              "    <tr>\n",
              "      <th>count</th>\n",
              "      <td>1000.000000</td>\n",
              "      <td>1000.000000</td>\n",
              "      <td>1000.000000</td>\n",
              "      <td>1000.000000</td>\n",
              "      <td>1000.000000</td>\n",
              "      <td>1000.000000</td>\n",
              "      <td>1000.000000</td>\n",
              "      <td>1000.000000</td>\n",
              "      <td>1000.000000</td>\n",
              "      <td>1000.000000</td>\n",
              "      <td>1000.000000</td>\n",
              "      <td>1000.000000</td>\n",
              "      <td>1000.00000</td>\n",
              "      <td>1000.000000</td>\n",
              "      <td>1000.000000</td>\n",
              "      <td>1000.00000</td>\n",
              "      <td>1000.000000</td>\n",
              "      <td>1000.000000</td>\n",
              "      <td>1000.000000</td>\n",
              "    </tr>\n",
              "    <tr>\n",
              "      <th>mean</th>\n",
              "      <td>2006.335000</td>\n",
              "      <td>19891.257000</td>\n",
              "      <td>-0.012658</td>\n",
              "      <td>-0.012660</td>\n",
              "      <td>-1.213293</td>\n",
              "      <td>1.036453</td>\n",
              "      <td>1.218239</td>\n",
              "      <td>-0.010313</td>\n",
              "      <td>0.424566</td>\n",
              "      <td>0.500000</td>\n",
              "      <td>0.006268</td>\n",
              "      <td>0.004068</td>\n",
              "      <td>0.00101</td>\n",
              "      <td>0.001018</td>\n",
              "      <td>0.020949</td>\n",
              "      <td>0.50000</td>\n",
              "      <td>0.231000</td>\n",
              "      <td>0.267000</td>\n",
              "      <td>0.239000</td>\n",
              "    </tr>\n",
              "    <tr>\n",
              "      <th>std</th>\n",
              "      <td>575.653613</td>\n",
              "      <td>5904.223265</td>\n",
              "      <td>1.223482</td>\n",
              "      <td>1.225364</td>\n",
              "      <td>0.594472</td>\n",
              "      <td>0.651161</td>\n",
              "      <td>0.836488</td>\n",
              "      <td>1.224208</td>\n",
              "      <td>0.443719</td>\n",
              "      <td>0.499249</td>\n",
              "      <td>0.005557</td>\n",
              "      <td>0.004050</td>\n",
              "      <td>0.00010</td>\n",
              "      <td>0.000133</td>\n",
              "      <td>0.004523</td>\n",
              "      <td>0.50025</td>\n",
              "      <td>0.421683</td>\n",
              "      <td>0.442614</td>\n",
              "      <td>0.426686</td>\n",
              "    </tr>\n",
              "    <tr>\n",
              "      <th>min</th>\n",
              "      <td>1002.000000</td>\n",
              "      <td>10017.000000</td>\n",
              "      <td>-2.850971</td>\n",
              "      <td>-2.850000</td>\n",
              "      <td>-4.035061</td>\n",
              "      <td>-0.018148</td>\n",
              "      <td>-0.006242</td>\n",
              "      <td>-2.850971</td>\n",
              "      <td>-1.027692</td>\n",
              "      <td>0.000000</td>\n",
              "      <td>0.001000</td>\n",
              "      <td>0.001000</td>\n",
              "      <td>0.00100</td>\n",
              "      <td>0.001000</td>\n",
              "      <td>0.013000</td>\n",
              "      <td>0.00000</td>\n",
              "      <td>0.000000</td>\n",
              "      <td>0.000000</td>\n",
              "      <td>0.000000</td>\n",
              "    </tr>\n",
              "    <tr>\n",
              "      <th>25%</th>\n",
              "      <td>1495.500000</td>\n",
              "      <td>14762.250000</td>\n",
              "      <td>-0.978298</td>\n",
              "      <td>-0.982500</td>\n",
              "      <td>-1.543481</td>\n",
              "      <td>0.498473</td>\n",
              "      <td>0.545948</td>\n",
              "      <td>-0.975712</td>\n",
              "      <td>0.125543</td>\n",
              "      <td>0.000000</td>\n",
              "      <td>0.002000</td>\n",
              "      <td>0.001000</td>\n",
              "      <td>0.00100</td>\n",
              "      <td>0.001000</td>\n",
              "      <td>0.018000</td>\n",
              "      <td>0.00000</td>\n",
              "      <td>0.000000</td>\n",
              "      <td>0.000000</td>\n",
              "      <td>0.000000</td>\n",
              "    </tr>\n",
              "    <tr>\n",
              "      <th>50%</th>\n",
              "      <td>2012.500000</td>\n",
              "      <td>19752.000000</td>\n",
              "      <td>-0.094093</td>\n",
              "      <td>-0.100000</td>\n",
              "      <td>-1.331564</td>\n",
              "      <td>0.978181</td>\n",
              "      <td>1.094760</td>\n",
              "      <td>-0.085163</td>\n",
              "      <td>0.421292</td>\n",
              "      <td>0.500000</td>\n",
              "      <td>0.005000</td>\n",
              "      <td>0.002000</td>\n",
              "      <td>0.00100</td>\n",
              "      <td>0.001000</td>\n",
              "      <td>0.020000</td>\n",
              "      <td>0.50000</td>\n",
              "      <td>0.000000</td>\n",
              "      <td>0.000000</td>\n",
              "      <td>0.000000</td>\n",
              "    </tr>\n",
              "    <tr>\n",
              "      <th>75%</th>\n",
              "      <td>2491.500000</td>\n",
              "      <td>24930.000000</td>\n",
              "      <td>0.973550</td>\n",
              "      <td>0.972500</td>\n",
              "      <td>-0.859215</td>\n",
              "      <td>1.484419</td>\n",
              "      <td>1.739888</td>\n",
              "      <td>0.973550</td>\n",
              "      <td>0.713994</td>\n",
              "      <td>1.000000</td>\n",
              "      <td>0.009000</td>\n",
              "      <td>0.005000</td>\n",
              "      <td>0.00100</td>\n",
              "      <td>0.001000</td>\n",
              "      <td>0.024000</td>\n",
              "      <td>1.00000</td>\n",
              "      <td>0.000000</td>\n",
              "      <td>1.000000</td>\n",
              "      <td>0.000000</td>\n",
              "    </tr>\n",
              "    <tr>\n",
              "      <th>max</th>\n",
              "      <td>2997.000000</td>\n",
              "      <td>29967.000000</td>\n",
              "      <td>3.342864</td>\n",
              "      <td>3.340000</td>\n",
              "      <td>-0.003067</td>\n",
              "      <td>3.342864</td>\n",
              "      <td>4.138715</td>\n",
              "      <td>3.342864</td>\n",
              "      <td>1.714987</td>\n",
              "      <td>1.000000</td>\n",
              "      <td>0.023000</td>\n",
              "      <td>0.018000</td>\n",
              "      <td>0.00200</td>\n",
              "      <td>0.002000</td>\n",
              "      <td>0.030000</td>\n",
              "      <td>1.00000</td>\n",
              "      <td>1.000000</td>\n",
              "      <td>1.000000</td>\n",
              "      <td>1.000000</td>\n",
              "    </tr>\n",
              "  </tbody>\n",
              "</table>\n",
              "</div>\n",
              "    <div class=\"colab-df-buttons\">\n",
              "\n",
              "  <div class=\"colab-df-container\">\n",
              "    <button class=\"colab-df-convert\" onclick=\"convertToInteractive('df-8567c141-bf43-41d9-93c6-3712416d6bd4')\"\n",
              "            title=\"Convert this dataframe to an interactive table.\"\n",
              "            style=\"display:none;\">\n",
              "\n",
              "  <svg xmlns=\"http://www.w3.org/2000/svg\" height=\"24px\" viewBox=\"0 -960 960 960\">\n",
              "    <path d=\"M120-120v-720h720v720H120Zm60-500h600v-160H180v160Zm220 220h160v-160H400v160Zm0 220h160v-160H400v160ZM180-400h160v-160H180v160Zm440 0h160v-160H620v160ZM180-180h160v-160H180v160Zm440 0h160v-160H620v160Z\"/>\n",
              "  </svg>\n",
              "    </button>\n",
              "\n",
              "  <style>\n",
              "    .colab-df-container {\n",
              "      display:flex;\n",
              "      gap: 12px;\n",
              "    }\n",
              "\n",
              "    .colab-df-convert {\n",
              "      background-color: #E8F0FE;\n",
              "      border: none;\n",
              "      border-radius: 50%;\n",
              "      cursor: pointer;\n",
              "      display: none;\n",
              "      fill: #1967D2;\n",
              "      height: 32px;\n",
              "      padding: 0 0 0 0;\n",
              "      width: 32px;\n",
              "    }\n",
              "\n",
              "    .colab-df-convert:hover {\n",
              "      background-color: #E2EBFA;\n",
              "      box-shadow: 0px 1px 2px rgba(60, 64, 67, 0.3), 0px 1px 3px 1px rgba(60, 64, 67, 0.15);\n",
              "      fill: #174EA6;\n",
              "    }\n",
              "\n",
              "    .colab-df-buttons div {\n",
              "      margin-bottom: 4px;\n",
              "    }\n",
              "\n",
              "    [theme=dark] .colab-df-convert {\n",
              "      background-color: #3B4455;\n",
              "      fill: #D2E3FC;\n",
              "    }\n",
              "\n",
              "    [theme=dark] .colab-df-convert:hover {\n",
              "      background-color: #434B5C;\n",
              "      box-shadow: 0px 1px 3px 1px rgba(0, 0, 0, 0.15);\n",
              "      filter: drop-shadow(0px 1px 2px rgba(0, 0, 0, 0.3));\n",
              "      fill: #FFFFFF;\n",
              "    }\n",
              "  </style>\n",
              "\n",
              "    <script>\n",
              "      const buttonEl =\n",
              "        document.querySelector('#df-8567c141-bf43-41d9-93c6-3712416d6bd4 button.colab-df-convert');\n",
              "      buttonEl.style.display =\n",
              "        google.colab.kernel.accessAllowed ? 'block' : 'none';\n",
              "\n",
              "      async function convertToInteractive(key) {\n",
              "        const element = document.querySelector('#df-8567c141-bf43-41d9-93c6-3712416d6bd4');\n",
              "        const dataTable =\n",
              "          await google.colab.kernel.invokeFunction('convertToInteractive',\n",
              "                                                    [key], {});\n",
              "        if (!dataTable) return;\n",
              "\n",
              "        const docLinkHtml = 'Like what you see? Visit the ' +\n",
              "          '<a target=\"_blank\" href=https://colab.research.google.com/notebooks/data_table.ipynb>data table notebook</a>'\n",
              "          + ' to learn more about interactive tables.';\n",
              "        element.innerHTML = '';\n",
              "        dataTable['output_type'] = 'display_data';\n",
              "        await google.colab.output.renderOutput(dataTable, element);\n",
              "        const docLink = document.createElement('div');\n",
              "        docLink.innerHTML = docLinkHtml;\n",
              "        element.appendChild(docLink);\n",
              "      }\n",
              "    </script>\n",
              "  </div>\n",
              "\n",
              "\n",
              "<div id=\"df-bb37cec3-6d23-4c60-b4d4-ce44e6dee519\">\n",
              "  <button class=\"colab-df-quickchart\" onclick=\"quickchart('df-bb37cec3-6d23-4c60-b4d4-ce44e6dee519')\"\n",
              "            title=\"Suggest charts\"\n",
              "            style=\"display:none;\">\n",
              "\n",
              "<svg xmlns=\"http://www.w3.org/2000/svg\" height=\"24px\"viewBox=\"0 0 24 24\"\n",
              "     width=\"24px\">\n",
              "    <g>\n",
              "        <path d=\"M19 3H5c-1.1 0-2 .9-2 2v14c0 1.1.9 2 2 2h14c1.1 0 2-.9 2-2V5c0-1.1-.9-2-2-2zM9 17H7v-7h2v7zm4 0h-2V7h2v10zm4 0h-2v-4h2v4z\"/>\n",
              "    </g>\n",
              "</svg>\n",
              "  </button>\n",
              "\n",
              "<style>\n",
              "  .colab-df-quickchart {\n",
              "      --bg-color: #E8F0FE;\n",
              "      --fill-color: #1967D2;\n",
              "      --hover-bg-color: #E2EBFA;\n",
              "      --hover-fill-color: #174EA6;\n",
              "      --disabled-fill-color: #AAA;\n",
              "      --disabled-bg-color: #DDD;\n",
              "  }\n",
              "\n",
              "  [theme=dark] .colab-df-quickchart {\n",
              "      --bg-color: #3B4455;\n",
              "      --fill-color: #D2E3FC;\n",
              "      --hover-bg-color: #434B5C;\n",
              "      --hover-fill-color: #FFFFFF;\n",
              "      --disabled-bg-color: #3B4455;\n",
              "      --disabled-fill-color: #666;\n",
              "  }\n",
              "\n",
              "  .colab-df-quickchart {\n",
              "    background-color: var(--bg-color);\n",
              "    border: none;\n",
              "    border-radius: 50%;\n",
              "    cursor: pointer;\n",
              "    display: none;\n",
              "    fill: var(--fill-color);\n",
              "    height: 32px;\n",
              "    padding: 0;\n",
              "    width: 32px;\n",
              "  }\n",
              "\n",
              "  .colab-df-quickchart:hover {\n",
              "    background-color: var(--hover-bg-color);\n",
              "    box-shadow: 0 1px 2px rgba(60, 64, 67, 0.3), 0 1px 3px 1px rgba(60, 64, 67, 0.15);\n",
              "    fill: var(--button-hover-fill-color);\n",
              "  }\n",
              "\n",
              "  .colab-df-quickchart-complete:disabled,\n",
              "  .colab-df-quickchart-complete:disabled:hover {\n",
              "    background-color: var(--disabled-bg-color);\n",
              "    fill: var(--disabled-fill-color);\n",
              "    box-shadow: none;\n",
              "  }\n",
              "\n",
              "  .colab-df-spinner {\n",
              "    border: 2px solid var(--fill-color);\n",
              "    border-color: transparent;\n",
              "    border-bottom-color: var(--fill-color);\n",
              "    animation:\n",
              "      spin 1s steps(1) infinite;\n",
              "  }\n",
              "\n",
              "  @keyframes spin {\n",
              "    0% {\n",
              "      border-color: transparent;\n",
              "      border-bottom-color: var(--fill-color);\n",
              "      border-left-color: var(--fill-color);\n",
              "    }\n",
              "    20% {\n",
              "      border-color: transparent;\n",
              "      border-left-color: var(--fill-color);\n",
              "      border-top-color: var(--fill-color);\n",
              "    }\n",
              "    30% {\n",
              "      border-color: transparent;\n",
              "      border-left-color: var(--fill-color);\n",
              "      border-top-color: var(--fill-color);\n",
              "      border-right-color: var(--fill-color);\n",
              "    }\n",
              "    40% {\n",
              "      border-color: transparent;\n",
              "      border-right-color: var(--fill-color);\n",
              "      border-top-color: var(--fill-color);\n",
              "    }\n",
              "    60% {\n",
              "      border-color: transparent;\n",
              "      border-right-color: var(--fill-color);\n",
              "    }\n",
              "    80% {\n",
              "      border-color: transparent;\n",
              "      border-right-color: var(--fill-color);\n",
              "      border-bottom-color: var(--fill-color);\n",
              "    }\n",
              "    90% {\n",
              "      border-color: transparent;\n",
              "      border-bottom-color: var(--fill-color);\n",
              "    }\n",
              "  }\n",
              "</style>\n",
              "\n",
              "  <script>\n",
              "    async function quickchart(key) {\n",
              "      const quickchartButtonEl =\n",
              "        document.querySelector('#' + key + ' button');\n",
              "      quickchartButtonEl.disabled = true;  // To prevent multiple clicks.\n",
              "      quickchartButtonEl.classList.add('colab-df-spinner');\n",
              "      try {\n",
              "        const charts = await google.colab.kernel.invokeFunction(\n",
              "            'suggestCharts', [key], {});\n",
              "      } catch (error) {\n",
              "        console.error('Error during call to suggestCharts:', error);\n",
              "      }\n",
              "      quickchartButtonEl.classList.remove('colab-df-spinner');\n",
              "      quickchartButtonEl.classList.add('colab-df-quickchart-complete');\n",
              "    }\n",
              "    (() => {\n",
              "      let quickchartButtonEl =\n",
              "        document.querySelector('#df-bb37cec3-6d23-4c60-b4d4-ce44e6dee519 button');\n",
              "      quickchartButtonEl.style.display =\n",
              "        google.colab.kernel.accessAllowed ? 'block' : 'none';\n",
              "    })();\n",
              "  </script>\n",
              "</div>\n",
              "\n",
              "    </div>\n",
              "  </div>\n"
            ],
            "application/vnd.google.colaboratory.intrinsic+json": {
              "type": "dataframe",
              "summary": "{\n  \"name\": \"df\",\n  \"rows\": 8,\n  \"fields\": [\n    {\n      \"column\": \"saturn\",\n      \"properties\": {\n        \"dtype\": \"number\",\n        \"std\": 826.637776434311,\n        \"min\": 575.6536127367367,\n        \"max\": 2997.0,\n        \"num_unique_values\": 8,\n        \"samples\": [\n          2006.335,\n          2012.5,\n          1000.0\n        ],\n        \"semantic_type\": \"\",\n        \"description\": \"\"\n      }\n    },\n    {\n      \"column\": \"jupiter\",\n      \"properties\": {\n        \"dtype\": \"number\",\n        \"std\": 9768.02366483071,\n        \"min\": 1000.0,\n        \"max\": 29967.0,\n        \"num_unique_values\": 8,\n        \"samples\": [\n          19891.257,\n          19752.0,\n          1000.0\n        ],\n        \"semantic_type\": \"\",\n        \"description\": \"\"\n      }\n    },\n    {\n      \"column\": \"collaboration\",\n      \"properties\": {\n        \"dtype\": \"number\",\n        \"std\": 353.47689824089633,\n        \"min\": -2.850971449868199,\n        \"max\": 1000.0,\n        \"num_unique_values\": 8,\n        \"samples\": [\n          -0.012657677119367973,\n          -0.09409339580509296,\n          1000.0\n        ],\n        \"semantic_type\": \"\",\n        \"description\": \"\"\n      }\n    },\n    {\n      \"column\": \"earth\",\n      \"properties\": {\n        \"dtype\": \"number\",\n        \"std\": 353.47746096300335,\n        \"min\": -2.85,\n        \"max\": 1000.0,\n        \"num_unique_values\": 8,\n        \"samples\": [\n          -0.012659999999999994,\n          -0.1,\n          1000.0\n        ],\n        \"semantic_type\": \"\",\n        \"description\": \"\"\n      }\n    },\n    {\n      \"column\": \"emot_vol\",\n      \"properties\": {\n        \"dtype\": \"number\",\n        \"std\": 353.9798221523602,\n        \"min\": -4.03506054278913,\n        \"max\": 1000.0,\n        \"num_unique_values\": 8,\n        \"samples\": [\n          -1.2132928464934385,\n          -1.3315635987922256,\n          1000.0\n        ],\n        \"semantic_type\": \"\",\n        \"description\": \"\"\n      }\n    },\n    {\n      \"column\": \"resourcefulness\",\n      \"properties\": {\n        \"dtype\": \"number\",\n        \"std\": 353.15208877019234,\n        \"min\": -0.0181484162101148,\n        \"max\": 1000.0,\n        \"num_unique_values\": 8,\n        \"samples\": [\n          1.0364531776971937,\n          0.9781806849250456,\n          1000.0\n        ],\n        \"semantic_type\": \"\",\n        \"description\": \"\"\n      }\n    },\n    {\n      \"column\": \"ingenuity\",\n      \"properties\": {\n        \"dtype\": \"number\",\n        \"std\": 353.0723204891053,\n        \"min\": -0.0062421475398195,\n        \"max\": 1000.0,\n        \"num_unique_values\": 8,\n        \"samples\": [\n          1.2182392648105909,\n          1.0947601534707512,\n          1000.0\n        ],\n        \"semantic_type\": \"\",\n        \"description\": \"\"\n      }\n    },\n    {\n      \"column\": \"chron_dist\",\n      \"properties\": {\n        \"dtype\": \"number\",\n        \"std\": 353.4761591785643,\n        \"min\": -2.850971449868199,\n        \"max\": 1000.0,\n        \"num_unique_values\": 8,\n        \"samples\": [\n          -0.010313373913242543,\n          -0.0851627812020309,\n          1000.0\n        ],\n        \"semantic_type\": \"\",\n        \"description\": \"\"\n      }\n    },\n    {\n      \"column\": \"env_destr\",\n      \"properties\": {\n        \"dtype\": \"number\",\n        \"std\": 353.4119377346801,\n        \"min\": -1.0276923373459232,\n        \"max\": 1000.0,\n        \"num_unique_values\": 8,\n        \"samples\": [\n          0.4245656936616161,\n          0.42129184442942,\n          1000.0\n        ],\n        \"semantic_type\": \"\",\n        \"description\": \"\"\n      }\n    },\n    {\n      \"column\": \"sex\",\n      \"properties\": {\n        \"dtype\": \"number\",\n        \"std\": 353.3768539767194,\n        \"min\": 0.0,\n        \"max\": 1000.0,\n        \"num_unique_values\": 5,\n        \"samples\": [\n          0.5,\n          1.0,\n          0.49924868477468143\n        ],\n        \"semantic_type\": \"\",\n        \"description\": \"\"\n      }\n    },\n    {\n      \"column\": \"given_name\",\n      \"properties\": {\n        \"dtype\": \"number\",\n        \"std\": 353.5507731250751,\n        \"min\": 0.001,\n        \"max\": 1000.0,\n        \"num_unique_values\": 8,\n        \"samples\": [\n          0.006268000000000001,\n          0.005,\n          1000.0\n        ],\n        \"semantic_type\": \"\",\n        \"description\": \"\"\n      }\n    },\n    {\n      \"column\": \"surname\",\n      \"properties\": {\n        \"dtype\": \"number\",\n        \"std\": 353.55161692619254,\n        \"min\": 0.001,\n        \"max\": 1000.0,\n        \"num_unique_values\": 7,\n        \"samples\": [\n          1000.0,\n          0.0040680000000000004,\n          0.005\n        ],\n        \"semantic_type\": \"\",\n        \"description\": \"\"\n      }\n    },\n    {\n      \"column\": \"zipcode\",\n      \"properties\": {\n        \"dtype\": \"number\",\n        \"std\": 353.5530315072124,\n        \"min\": 9.95485304256668e-05,\n        \"max\": 1000.0,\n        \"num_unique_values\": 5,\n        \"samples\": [\n          0.0010100000000000005,\n          0.002,\n          9.95485304256668e-05\n        ],\n        \"semantic_type\": \"\",\n        \"description\": \"\"\n      }\n    },\n    {\n      \"column\": \"date_of_birth\",\n      \"properties\": {\n        \"dtype\": \"number\",\n        \"std\": 353.5530294126936,\n        \"min\": 0.0001330176442946337,\n        \"max\": 1000.0,\n        \"num_unique_values\": 5,\n        \"samples\": [\n          0.0010180000000000005,\n          0.002,\n          0.0001330176442946337\n        ],\n        \"semantic_type\": \"\",\n        \"description\": \"\"\n      }\n    },\n    {\n      \"column\": \"state\",\n      \"properties\": {\n        \"dtype\": \"number\",\n        \"std\": 353.54680085717314,\n        \"min\": 0.004522704263364327,\n        \"max\": 1000.0,\n        \"num_unique_values\": 8,\n        \"samples\": [\n          0.020949000000000006,\n          0.02,\n          1000.0\n        ],\n        \"semantic_type\": \"\",\n        \"description\": \"\"\n      }\n    },\n    {\n      \"column\": \"class\",\n      \"properties\": {\n        \"dtype\": \"number\",\n        \"std\": 353.3768033931272,\n        \"min\": 0.0,\n        \"max\": 1000.0,\n        \"num_unique_values\": 5,\n        \"samples\": [\n          0.5,\n          1.0,\n          0.5002501876563868\n        ],\n        \"semantic_type\": \"\",\n        \"description\": \"\"\n      }\n    },\n    {\n      \"column\": \"brain_wave_BETA\",\n      \"properties\": {\n        \"dtype\": \"number\",\n        \"std\": 353.470087424906,\n        \"min\": 0.0,\n        \"max\": 1000.0,\n        \"num_unique_values\": 5,\n        \"samples\": [\n          0.231,\n          1.0,\n          0.42168331341993703\n        ],\n        \"semantic_type\": \"\",\n        \"description\": \"\"\n      }\n    },\n    {\n      \"column\": \"brain_wave_DELTA\",\n      \"properties\": {\n        \"dtype\": \"number\",\n        \"std\": 353.4167806701136,\n        \"min\": 0.0,\n        \"max\": 1000.0,\n        \"num_unique_values\": 5,\n        \"samples\": [\n          0.267,\n          1.0,\n          0.44261372200475996\n        ],\n        \"semantic_type\": \"\",\n        \"description\": \"\"\n      }\n    },\n    {\n      \"column\": \"brain_wave_THETA\",\n      \"properties\": {\n        \"dtype\": \"number\",\n        \"std\": 353.46943105523223,\n        \"min\": 0.0,\n        \"max\": 1000.0,\n        \"num_unique_values\": 5,\n        \"samples\": [\n          0.239,\n          1.0,\n          0.42668613881993056\n        ],\n        \"semantic_type\": \"\",\n        \"description\": \"\"\n      }\n    }\n  ]\n}"
            }
          },
          "metadata": {},
          "execution_count": 68
        }
      ]
    },
    {
      "cell_type": "code",
      "source": [
        "# normal curve\n",
        "import numpy as np\n",
        "import matplotlib.pyplot as plt\n",
        "from scipy import stats\n",
        "\n",
        "X = stats.norm.rvs(size=100000)\n",
        "X.sort()\n",
        "\n",
        "parameters = stats.norm.fit(X)\n",
        "mu, sigma = parameters\n",
        "\n",
        "print('The area between -3 and 3 is considered to contains 99.73% of the area in the curve')\n",
        "print('The area between -2 and 2 is considered to contains 95.44% of the area in the curve')\n",
        "print('The area between -1 and 1 is considered to contains 68.26% of the area in the curve')\n",
        "print('The blue line is the expected average of the normal distribution at 50%')\n",
        "print()\n",
        "print('Mean: ', np.mean(X))\n",
        "print('Median: ', np.median(X))\n",
        "print('Mode?', X[1])\n",
        "print('Variance: ', np.var(X))\n",
        "print('Standard Deviation: ', np.std(X))\n",
        "print()\n",
        "\n",
        "print(f'The corresponding percentile for 1 standard deviation above the mean (z) is {stats.norm.cdf(1, loc=mu, scale=sigma)}%.')\n",
        "print(f'a z score for 84%  is {stats.norm.ppf(0.84, loc=mu, scale=sigma)} and,')\n",
        "print(f'a z score for 50% is {np.round(stats.norm.ppf(0.5, loc=mu, scale=sigma), 2)}')\n",
        "print('for normal distributions.')\n",
        "print()\n",
        "\n",
        "fig, ax = plt.subplots()\n",
        "ax.plot(X, stats.norm.pdf(X, loc=mu, scale=sigma))\n",
        "ax.hist(X, bins=25, density=True, color='lightgray', alpha=0.5)\n",
        "ax.set_xlabel('z scores')\n",
        "# ax.set_ylabel('pdf(x)')\n",
        "ax.set_xlim(-4, 4)\n",
        "ax.grid(True)\n",
        "\n",
        "plt.vlines(x=-3, ymin=0, ymax=stats.norm.pdf(-3, loc=mu, scale=sigma), color='black')\n",
        "plt.vlines(x=-2, ymin=0, ymax=stats.norm.pdf(-2, loc=mu, scale=sigma), color='red')\n",
        "plt.vlines(x=-1, ymin=0, ymax=stats.norm.pdf(-1, loc=mu, scale=sigma), color='green')\n",
        "plt.vlines(x=0, ymin=0, ymax=stats.norm.pdf(0, loc=mu, scale=sigma), color='blue')\n",
        "plt.vlines(x=1, ymin=0, ymax=stats.norm.pdf(1, loc=mu, scale=sigma), color='green')\n",
        "plt.vlines(x=2, ymin=0, ymax=stats.norm.pdf(2, loc=mu, scale=sigma), color='red')\n",
        "plt.vlines(x=3, ymin=0, ymax=stats.norm.pdf(3, loc=mu, scale=sigma), color='black')\n",
        "plt.yticks([])\n",
        "\n",
        "plt.title('Normal Curve with 68-95-99.7 rule')\n",
        "plt.show()"
      ],
      "metadata": {
        "colab": {
          "base_uri": "https://localhost:8080/",
          "height": 750
        },
        "id": "aq-rZgwOpLy9",
        "outputId": "813ad3f0-6558-4742-88cf-22fa433fd829"
      },
      "id": "aq-rZgwOpLy9",
      "execution_count": null,
      "outputs": [
        {
          "output_type": "stream",
          "name": "stdout",
          "text": [
            "The area between -3 and 3 is considered to contains 99.73% of the area in the curve\n",
            "The area between -2 and 2 is considered to contains 95.44% of the area in the curve\n",
            "The area between -1 and 1 is considered to contains 68.26% of the area in the curve\n",
            "The blue line is the expected average of the normal distribution at 50%\n",
            "\n",
            "Mean:  0.004516693271713848\n",
            "Median:  0.0021337498941353325\n",
            "Mode? -4.332003650900775\n",
            "Variance:  1.0004440862067867\n",
            "Standard Deviation:  1.0002220184572956\n",
            "\n",
            "The corresponding percentile for 1 standard deviation above the mean (z) is 0.8401956555173543%.\n",
            "a z score for 84%  is 0.9991953644865427 and,\n",
            "a z score for 50% is 0.0\n",
            "for normal distributions.\n",
            "\n"
          ]
        },
        {
          "output_type": "display_data",
          "data": {
            "text/plain": [
              "<Figure size 640x480 with 1 Axes>"
            ],
            "image/png": "[encoded data removed]"
          },
          "metadata": {}
        }
      ]
    },
    {
      "cell_type": "code",
      "source": [
        "# cdf ppf playground\n",
        "import numpy as np\n",
        "from scipy import stats\n",
        "\n",
        "def given_z(z, tail=1):\n",
        "  if tail == 1:\n",
        "    return np.round(stats.norm.cdf(z), 2)\n",
        "  elif tail == 2:\n",
        "    pass\n",
        "\n",
        "def given_perc(perc, tail=1):\n",
        "  if tail == 1:\n",
        "    return np.round(stats.norm.ppf(perc), 2)\n",
        "  elif tail == 2:\n",
        "    return np.round(stats.norm.ppf((1+perc)/2), 2)\n",
        "\n",
        "print(given_z(1.64, 1))\n",
        "print(given_perc(.95, 2))"
      ],
      "metadata": {
        "id": "Xbl5PY6KrDAq",
        "colab": {
          "base_uri": "https://localhost:8080/"
        },
        "outputId": "0e125859-359b-4b7d-a674-a2ebd62e6d2d"
      },
      "id": "Xbl5PY6KrDAq",
      "execution_count": null,
      "outputs": [
        {
          "output_type": "stream",
          "name": "stdout",
          "text": [
            "0.95\n",
            "1.96\n"
          ]
        }
      ]
    },
    {
      "cell_type": "markdown",
      "source": [
        "### Scaling and Outliers"
      ],
      "metadata": {
        "id": "xt90QbHlRza5"
      },
      "id": "xt90QbHlRza5"
    },
    {
      "cell_type": "code",
      "source": [
        "df._get_numeric_data().idxmax(1)[0]"
      ],
      "metadata": {
        "colab": {
          "base_uri": "https://localhost:8080/",
          "height": 35
        },
        "id": "F7t76Iwm_8gn",
        "outputId": "dd4f8a7f-a738-4641-e569-08105fb38fa9"
      },
      "execution_count": null,
      "outputs": [
        {
          "output_type": "execute_result",
          "data": {
            "text/plain": [
              "'jupiter'"
            ],
            "application/vnd.google.colaboratory.intrinsic+json": {
              "type": "string"
            }
          },
          "metadata": {},
          "execution_count": 71
        }
      ],
      "id": "F7t76Iwm_8gn"
    },
    {
      "cell_type": "code",
      "source": [
        "from sklearn.preprocessing import StandardScaler\n",
        "\n",
        "feat = str(df._get_numeric_data().idxmax(1)[0])\n",
        "scaler = StandardScaler()\n",
        "df[feat] = scaler.fit_transform(df[[feat]].values)"
      ],
      "metadata": {
        "id": "3ek184KqBej3"
      },
      "execution_count": null,
      "outputs": [],
      "id": "3ek184KqBej3"
    },
    {
      "cell_type": "code",
      "source": [
        "from sklearn.preprocessing import MinMaxScaler\n",
        "\n",
        "feat = str(df._get_numeric_data().idxmax(1)[0])\n",
        "scaler = MinMaxScaler()\n",
        "df[feat] = scaler.fit_transform(df[[feat]].values)"
      ],
      "metadata": {
        "id": "DknoQZwFBhSH"
      },
      "execution_count": null,
      "outputs": [],
      "id": "DknoQZwFBhSH"
    },
    {
      "cell_type": "code",
      "source": [
        "for feat in df._get_numeric_data().columns[1:]:\n",
        "    q1 = df[feat].quantile(0.25)\n",
        "    q3 = df[feat].quantile(0.75)\n",
        "    iqr = q3 - q1\n",
        "    lower_fence = (q1 - 1.5 * iqr)\n",
        "    upper_fence = (q3 + 1.5 * iqr)\n",
        "    lower_count = df[feat][df[feat] < lower_fence].count()\n",
        "    upper_count = df[feat][df[feat] > upper_fence].count()\n",
        "    print(f'{feat} outliers = {lower_count + upper_count}: lower_fence: {lower_fence}, upper_fence: {upper_fence}, lower_count: {lower_count}, upper_count: {upper_count}')"
      ],
      "metadata": {
        "colab": {
          "base_uri": "https://localhost:8080/"
        },
        "id": "8vZN6NFVBuOd",
        "outputId": "2a9f2377-bc57-4814-e9c2-11820b318f23"
      },
      "execution_count": null,
      "outputs": [
        {
          "output_type": "stream",
          "name": "stdout",
          "text": [
            "jupiter outliers = 0: lower_fence: -3.4536007617583793, upper_fence: 3.4383050722449546, lower_count: 0, upper_count: 0\n",
            "collaboration outliers = 0: lower_fence: -3.9060691690182088, upper_fence: 3.9013212890569635, lower_count: 0, upper_count: 0\n",
            "earth outliers = 0: lower_fence: -3.9149999999999996, upper_fence: 3.9049999999999994, lower_count: 0, upper_count: 0\n",
            "emot_vol outliers = 22: lower_fence: -2.5698810142249924, upper_fence: 0.16718486541401778, lower_count: 22, upper_count: 0\n",
            "resourcefulness outliers = 7: lower_fence: -0.9804458644981733, upper_fence: 2.9633376061272756, lower_count: 0, upper_count: 7\n",
            "ingenuity outliers = 11: lower_fence: -1.244961786699443, upper_fence: 3.5307981404300315, lower_count: 0, upper_count: 11\n",
            "chron_dist outliers = 0: lower_fence: -3.8996051362443267, upper_fence: 3.897442869392634, lower_count: 0, upper_count: 0\n",
            "env_destr outliers = 10: lower_fence: -0.7571333396376203, upper_fence: 1.5966696334364001, lower_count: 5, upper_count: 5\n",
            "sex outliers = 0: lower_fence: -1.5, upper_fence: 2.5, lower_count: 0, upper_count: 0\n",
            "given_name outliers = 43: lower_fence: -0.008499999999999999, upper_fence: 0.019499999999999997, lower_count: 0, upper_count: 43\n",
            "surname outliers = 87: lower_fence: -0.005, upper_fence: 0.011, lower_count: 0, upper_count: 87\n",
            "zipcode outliers = 10: lower_fence: 0.001, upper_fence: 0.001, lower_count: 0, upper_count: 10\n",
            "date_of_birth outliers = 18: lower_fence: 0.001, upper_fence: 0.001, lower_count: 0, upper_count: 18\n",
            "state outliers = 0: lower_fence: 0.008999999999999996, upper_fence: 0.033, lower_count: 0, upper_count: 0\n",
            "class outliers = 0: lower_fence: -1.5, upper_fence: 2.5, lower_count: 0, upper_count: 0\n",
            "brain_wave_BETA outliers = 231: lower_fence: 0.0, upper_fence: 0.0, lower_count: 0, upper_count: 231\n",
            "brain_wave_DELTA outliers = 0: lower_fence: -1.5, upper_fence: 2.5, lower_count: 0, upper_count: 0\n",
            "brain_wave_THETA outliers = 239: lower_fence: 0.0, upper_fence: 0.0, lower_count: 0, upper_count: 239\n"
          ]
        }
      ],
      "id": "8vZN6NFVBuOd"
    },
    {
      "cell_type": "code",
      "source": [
        "print(df.shape)\n",
        "df.info()"
      ],
      "metadata": {
        "colab": {
          "base_uri": "https://localhost:8080/"
        },
        "id": "JJ2PoLMNHD6L",
        "outputId": "42c6b795-2e45-4934-b1a6-9ae0d82befa5"
      },
      "execution_count": null,
      "outputs": [
        {
          "output_type": "stream",
          "name": "stdout",
          "text": [
            "(1000, 19)\n",
            "<class 'pandas.core.frame.DataFrame'>\n",
            "Index: 1000 entries, 0 to 1007\n",
            "Data columns (total 19 columns):\n",
            " #   Column            Non-Null Count  Dtype  \n",
            "---  ------            --------------  -----  \n",
            " 0   saturn            1000 non-null   float64\n",
            " 1   jupiter           1000 non-null   float64\n",
            " 2   collaboration     1000 non-null   float64\n",
            " 3   earth             1000 non-null   float64\n",
            " 4   emot_vol          1000 non-null   float64\n",
            " 5   resourcefulness   1000 non-null   float64\n",
            " 6   ingenuity         1000 non-null   float64\n",
            " 7   chron_dist        1000 non-null   float64\n",
            " 8   env_destr         1000 non-null   float64\n",
            " 9   sex               1000 non-null   float64\n",
            " 10  given_name        1000 non-null   float64\n",
            " 11  surname           1000 non-null   float64\n",
            " 12  zipcode           1000 non-null   float64\n",
            " 13  date_of_birth     1000 non-null   float64\n",
            " 14  state             1000 non-null   float64\n",
            " 15  class             1000 non-null   int64  \n",
            " 16  brain_wave_BETA   1000 non-null   float64\n",
            " 17  brain_wave_DELTA  1000 non-null   float64\n",
            " 18  brain_wave_THETA  1000 non-null   float64\n",
            "dtypes: float64(18), int64(1)\n",
            "memory usage: 188.5 KB\n"
          ]
        }
      ],
      "id": "JJ2PoLMNHD6L"
    },
    {
      "cell_type": "markdown",
      "source": [
        "### Modeling"
      ],
      "metadata": {
        "id": "KqKON0t_p1_3"
      },
      "id": "KqKON0t_p1_3"
    },
    {
      "cell_type": "code",
      "source": [
        "from sklearn.model_selection import train_test_split\n",
        "\n",
        "# X_train, X_test split\n",
        "X_train, X_test, y_train, y_test = train_test_split(df.drop('class', axis=1), df['class'], test_size=0.30)"
      ],
      "metadata": {
        "id": "TcOmnNeGM4Zs"
      },
      "execution_count": null,
      "outputs": [],
      "id": "TcOmnNeGM4Zs"
    },
    {
      "cell_type": "code",
      "source": [
        "# Create model\n",
        "from sklearn.linear_model import LogisticRegression\n",
        "\n",
        "model = LogisticRegression(solver='liblinear')\n",
        "model.fit(X_train,y_train)\n",
        "predictions = model.predict(X_test)"
      ],
      "metadata": {
        "id": "oJSMZfqUNFaK"
      },
      "execution_count": null,
      "outputs": [],
      "id": "oJSMZfqUNFaK"
    },
    {
      "cell_type": "code",
      "source": [
        "print(model.score(X_train, y_train))\n",
        "print(model.score(X_test, y_test))"
      ],
      "metadata": {
        "colab": {
          "base_uri": "https://localhost:8080/"
        },
        "id": "eP_8pUktb8Pa",
        "outputId": "ea6b1415-58da-48c7-80f2-85f8076a3b18"
      },
      "id": "eP_8pUktb8Pa",
      "execution_count": null,
      "outputs": [
        {
          "output_type": "stream",
          "name": "stdout",
          "text": [
            "0.9042857142857142\n",
            "0.9033333333333333\n"
          ]
        }
      ]
    },
    {
      "cell_type": "code",
      "source": [
        "# confusion matrix\n",
        "from sklearn.metrics import roc_curve, roc_auc_score, confusion_matrix, classification_report\n",
        "\n",
        "print(confusion_matrix(y_test, predictions))\n",
        "print(classification_report(y_test, predictions, labels=[0, 1]))"
      ],
      "metadata": {
        "id": "4QAmSXAFNhqs",
        "colab": {
          "base_uri": "https://localhost:8080/"
        },
        "outputId": "9ede1ac7-e730-429c-e92d-9b97a89c0875"
      },
      "execution_count": null,
      "outputs": [
        {
          "output_type": "stream",
          "name": "stdout",
          "text": [
            "[[142   6]\n",
            " [ 23 129]]\n",
            "              precision    recall  f1-score   support\n",
            "\n",
            "           0       0.86      0.96      0.91       148\n",
            "           1       0.96      0.85      0.90       152\n",
            "\n",
            "    accuracy                           0.90       300\n",
            "   macro avg       0.91      0.90      0.90       300\n",
            "weighted avg       0.91      0.90      0.90       300\n",
            "\n"
          ]
        }
      ],
      "id": "4QAmSXAFNhqs"
    },
    {
      "cell_type": "markdown",
      "source": [
        "### ROC AUC and Youden"
      ],
      "metadata": {
        "id": "QBZqyFYzWNoJ"
      },
      "id": "QBZqyFYzWNoJ"
    },
    {
      "cell_type": "code",
      "source": [
        "# plot ROC, and Youden's J\n",
        "import matplotlib.pyplot as plt\n",
        "from sklearn.metrics import roc_auc_score, roc_curve\n",
        "import math\n",
        "\n",
        "tn, fp, fn, tp = confusion_matrix(y_test, predictions).ravel()\n",
        "\n",
        "def calculateDistance(x1,y1,x2,y2):\n",
        "    dist = math.sqrt((x2 - x1)**2 + (y2 - y1)**2)\n",
        "    return dist\n",
        "\n",
        "optimum_fpr = fp/(tn+fp)\n",
        "optimum_tpr = tp/(fn+tp)\n",
        "\n",
        "logit_roc_auc = roc_auc_score(y_test, predictions)\n",
        "fpr, tpr, thresholds = roc_curve(y_test, model.predict_proba(X_test)[:,1])\n",
        "plt.plot(fpr, tpr, label=f'ROC / Area Under Curve = logit_roc_auc0.2f')\n",
        "plt.plot([0, 1], [0, 1],'k--')\n",
        "plt.scatter(optimum_fpr, optimum_tpr, c='red')\n",
        "plt.plot([optimum_fpr, optimum_fpr], [optimum_tpr, optimum_fpr], 'r--', label='Youden\\'s J = %0.2f'\n",
        "         % calculateDistance(optimum_fpr, optimum_fpr, optimum_tpr, optimum_fpr))\n",
        "plt.title('Receiver Operating Characteristic')\n",
        "plt.xlabel('False Positive Rate')\n",
        "plt.ylabel('True Positive Rate')\n",
        "plt.legend(loc=\"lower right\")\n",
        "\n",
        "plt.tight_layout()"
      ],
      "metadata": {
        "id": "M3Tyl1KCToMz",
        "colab": {
          "base_uri": "https://localhost:8080/",
          "height": 487
        },
        "outputId": "f3bad58d-92f3-49ab-8c9a-2b5ccbfc2c22"
      },
      "execution_count": null,
      "outputs": [
        {
          "output_type": "display_data",
          "data": {
            "text/plain": [
              "<Figure size 640x480 with 1 Axes>"
            ],
            "image/png": "[encoded data removed]"
          },
          "metadata": {}
        }
      ],
      "id": "M3Tyl1KCToMz"
    },
    {
      "cell_type": "markdown",
      "source": [
        "## Model Evaluation\n",
        "\n",
        "* https://www.linkedin.com/pulse/using-confusion-matrices-quantify-cost-being-wrong-bill-schmarzo/\n",
        "* https://towardsdatascience.com/demystifying-confusion-matrix-29f3037b0cfa\n",
        "* https://towardsdatascience.com/understanding-the-confusion-matrix-and-its-business-applications-c4e8aaf37f42"
      ],
      "metadata": {
        "id": "UND6mn6gYBw2"
      },
      "id": "UND6mn6gYBw2"
    },
    {
      "cell_type": "markdown",
      "id": "a337a642",
      "metadata": {
        "id": "a337a642"
      },
      "source": [
        "### The Confusion Matrix\n",
        "\n",
        "Suppose we have some tabular data and each observation is labeled either a 0 or 1. Our goal is to create a model and predict whether new data will be labelled a 0 or a 1.\n",
        "\n",
        "**True Positive (TP)**: An outcome that is labeled 1 and in reality is a 1\n",
        "\n",
        "**False Positive (FP)**: An outcome that labeled 1 and in reality is a 0\n",
        "\n",
        "**True Negative (TN)**: An outcome that is labeled 0 and in reality is a 0\n",
        "\n",
        "**False Negative (FN)**: An outcome that is labeled 0 and in reality is a 1\n",
        "\n",
        "**Accuracy**: (TP + TN) / (TP + FP + TN + FN)\n",
        "\n",
        "**Precision**: TP / (TP + FP), a measure of quality\n",
        "\n",
        "**Recall**: TP / (TP + FN), a measure of quantity\n",
        "\n"
      ]
    },
    {
      "cell_type": "code",
      "source": [
        "# calculate accuracy, precision, recall\n",
        "tn, fp, fn, tp = confusion_matrix(y_test, predictions).ravel()\n",
        "print('accuracy', (tn+tp)/(tn+fn+tp+fp))\n",
        "print('precision', tp/(tp+fp))\n",
        "print('recall', tp/(tp+fn))"
      ],
      "metadata": {
        "id": "YLZjcmomd6kV",
        "colab": {
          "base_uri": "https://localhost:8080/"
        },
        "outputId": "d8982644-cfc5-4369-e17b-3c3b52094b0e"
      },
      "id": "YLZjcmomd6kV",
      "execution_count": null,
      "outputs": [
        {
          "output_type": "stream",
          "name": "stdout",
          "text": [
            "accuracy 0.9033333333333333\n",
            "precision 0.9555555555555556\n",
            "recall 0.8486842105263158\n"
          ]
        }
      ]
    },
    {
      "cell_type": "markdown",
      "source": [
        "### Type I and Type II Errors\n",
        "\n",
        "https://towardsdatascience.com/statistics-for-data-scientists-f2456d26c5a5\n",
        "\n",
        "Type I Error means rejecting the True null hypothesis and accepting the alternate hypothesis. It is a false positive. A smoke detector detecting smoke when there is no smoke.\n",
        "Type II Error means accepting the null hypothesis when an alternate hypothesis is true. It is a false negative. When fire alarm fails to detect fire.\n",
        "\n",
        "### Alpha and Beta Level\n",
        "\n",
        "Alpha level is also known as the significance level, α. It is the probability of making the wrong decision,i.e., rejecting the null hypothesis when it is true. Low alpha levels mean that we need strong evidence to be able to reject the null hypothesis. This means that alpha level of 1% requires more statistical evidence than 5%.\n",
        "\n",
        "Why is 0.05 (5%) used as significance level so commonly?\n",
        "\n",
        "The smaller the alpha level, the little is the chance to reject True Null hypothesis. And, also the smaller is the chance to reject the False null hypothesis, because of the tiny area. The more you try to avoid Type I Error, the more you are likely to make a Type II Error.\n",
        "\n",
        "A confidence level is 1 - α, which means accepting the null hypothesis when it is True.\n",
        "Beta level means the probability of making a Type II Error, i.e., rejecting the Alternate hypothesis when it is True.\n",
        "\n",
        "### Confustion Matrix\n",
        "\n",
        "In the field of machine learning and specifically the problem of statistical classification, a confusion matrix, also known as an error matrix, is a specific table layout that allows visualization of the performance of an algorithm, typically a supervised learning one (in unsupervised learning it is usually called a matching matrix)... It is a special kind of contingency table, with two dimensions (\"actual\" and \"predicted\"), and identical sets of \"classes\" in both dimensions (each combination of dimension and class is a variable in the contingency table). They provide our True Negatives, False Positives, False Negatives, and True Positives, from which we derive Accuracy, Precision, and Recall.\n",
        "\n",
        "https://en.wikipedia.org/wiki/Confusion_matrix\n",
        "\n",
        "**Note**: Because of the of the output sklearn provides, we will structure our table different from what Wikipedia says.\n",
        "\n",
        "Confused? Please be aware of the distinction. In this course we will be using the sklearn matrix. There is a way to change the rows and columns to match Wikipedia's matrix by adding labels: confusion_matrix(y_test, predictions, labels=\\[1, 0\\])."
      ],
      "metadata": {
        "id": "ti19ssbydipj"
      },
      "id": "ti19ssbydipj"
    },
    {
      "cell_type": "code",
      "execution_count": null,
      "id": "e88e170c",
      "metadata": {
        "id": "e88e170c",
        "colab": {
          "base_uri": "https://localhost:8080/",
          "height": 206
        },
        "outputId": "84d05476-06c3-423a-a90e-6f8016355edb"
      },
      "outputs": [
        {
          "output_type": "execute_result",
          "data": {
            "text/plain": [
              "   Feature_1  Feature_2  Target\n",
              "0  -1.355723   0.932216       0\n",
              "1  -1.448966   0.628289       0\n",
              "2  -0.259349  -0.792658       0\n",
              "3   0.815272  -0.205096       1\n",
              "4   1.430197   1.342170       1"
            ],
            "text/html": [
              "\n",
              "  <div id=\"df-6b57728a-cd8d-41d8-b6b4-9df7eb87df14\" class=\"colab-df-container\">\n",
              "    <div>\n",
              "<style scoped>\n",
              "    .dataframe tbody tr th:only-of-type {\n",
              "        vertical-align: middle;\n",
              "    }\n",
              "\n",
              "    .dataframe tbody tr th {\n",
              "        vertical-align: top;\n",
              "    }\n",
              "\n",
              "    .dataframe thead th {\n",
              "        text-align: right;\n",
              "    }\n",
              "</style>\n",
              "<table border=\"1\" class=\"dataframe\">\n",
              "  <thead>\n",
              "    <tr style=\"text-align: right;\">\n",
              "      <th></th>\n",
              "      <th>Feature_1</th>\n",
              "      <th>Feature_2</th>\n",
              "      <th>Target</th>\n",
              "    </tr>\n",
              "  </thead>\n",
              "  <tbody>\n",
              "    <tr>\n",
              "      <th>0</th>\n",
              "      <td>-1.355723</td>\n",
              "      <td>0.932216</td>\n",
              "      <td>0</td>\n",
              "    </tr>\n",
              "    <tr>\n",
              "      <th>1</th>\n",
              "      <td>-1.448966</td>\n",
              "      <td>0.628289</td>\n",
              "      <td>0</td>\n",
              "    </tr>\n",
              "    <tr>\n",
              "      <th>2</th>\n",
              "      <td>-0.259349</td>\n",
              "      <td>-0.792658</td>\n",
              "      <td>0</td>\n",
              "    </tr>\n",
              "    <tr>\n",
              "      <th>3</th>\n",
              "      <td>0.815272</td>\n",
              "      <td>-0.205096</td>\n",
              "      <td>1</td>\n",
              "    </tr>\n",
              "    <tr>\n",
              "      <th>4</th>\n",
              "      <td>1.430197</td>\n",
              "      <td>1.342170</td>\n",
              "      <td>1</td>\n",
              "    </tr>\n",
              "  </tbody>\n",
              "</table>\n",
              "</div>\n",
              "    <div class=\"colab-df-buttons\">\n",
              "\n",
              "  <div class=\"colab-df-container\">\n",
              "    <button class=\"colab-df-convert\" onclick=\"convertToInteractive('df-6b57728a-cd8d-41d8-b6b4-9df7eb87df14')\"\n",
              "            title=\"Convert this dataframe to an interactive table.\"\n",
              "            style=\"display:none;\">\n",
              "\n",
              "  <svg xmlns=\"http://www.w3.org/2000/svg\" height=\"24px\" viewBox=\"0 -960 960 960\">\n",
              "    <path d=\"M120-120v-720h720v720H120Zm60-500h600v-160H180v160Zm220 220h160v-160H400v160Zm0 220h160v-160H400v160ZM180-400h160v-160H180v160Zm440 0h160v-160H620v160ZM180-180h160v-160H180v160Zm440 0h160v-160H620v160Z\"/>\n",
              "  </svg>\n",
              "    </button>\n",
              "\n",
              "  <style>\n",
              "    .colab-df-container {\n",
              "      display:flex;\n",
              "      gap: 12px;\n",
              "    }\n",
              "\n",
              "    .colab-df-convert {\n",
              "      background-color: #E8F0FE;\n",
              "      border: none;\n",
              "      border-radius: 50%;\n",
              "      cursor: pointer;\n",
              "      display: none;\n",
              "      fill: #1967D2;\n",
              "      height: 32px;\n",
              "      padding: 0 0 0 0;\n",
              "      width: 32px;\n",
              "    }\n",
              "\n",
              "    .colab-df-convert:hover {\n",
              "      background-color: #E2EBFA;\n",
              "      box-shadow: 0px 1px 2px rgba(60, 64, 67, 0.3), 0px 1px 3px 1px rgba(60, 64, 67, 0.15);\n",
              "      fill: #174EA6;\n",
              "    }\n",
              "\n",
              "    .colab-df-buttons div {\n",
              "      margin-bottom: 4px;\n",
              "    }\n",
              "\n",
              "    [theme=dark] .colab-df-convert {\n",
              "      background-color: #3B4455;\n",
              "      fill: #D2E3FC;\n",
              "    }\n",
              "\n",
              "    [theme=dark] .colab-df-convert:hover {\n",
              "      background-color: #434B5C;\n",
              "      box-shadow: 0px 1px 3px 1px rgba(0, 0, 0, 0.15);\n",
              "      filter: drop-shadow(0px 1px 2px rgba(0, 0, 0, 0.3));\n",
              "      fill: #FFFFFF;\n",
              "    }\n",
              "  </style>\n",
              "\n",
              "    <script>\n",
              "      const buttonEl =\n",
              "        document.querySelector('#df-6b57728a-cd8d-41d8-b6b4-9df7eb87df14 button.colab-df-convert');\n",
              "      buttonEl.style.display =\n",
              "        google.colab.kernel.accessAllowed ? 'block' : 'none';\n",
              "\n",
              "      async function convertToInteractive(key) {\n",
              "        const element = document.querySelector('#df-6b57728a-cd8d-41d8-b6b4-9df7eb87df14');\n",
              "        const dataTable =\n",
              "          await google.colab.kernel.invokeFunction('convertToInteractive',\n",
              "                                                    [key], {});\n",
              "        if (!dataTable) return;\n",
              "\n",
              "        const docLinkHtml = 'Like what you see? Visit the ' +\n",
              "          '<a target=\"_blank\" href=https://colab.research.google.com/notebooks/data_table.ipynb>data table notebook</a>'\n",
              "          + ' to learn more about interactive tables.';\n",
              "        element.innerHTML = '';\n",
              "        dataTable['output_type'] = 'display_data';\n",
              "        await google.colab.output.renderOutput(dataTable, element);\n",
              "        const docLink = document.createElement('div');\n",
              "        docLink.innerHTML = docLinkHtml;\n",
              "        element.appendChild(docLink);\n",
              "      }\n",
              "    </script>\n",
              "  </div>\n",
              "\n",
              "\n",
              "<div id=\"df-bf1c8c07-076c-45db-91ee-5ba25790931f\">\n",
              "  <button class=\"colab-df-quickchart\" onclick=\"quickchart('df-bf1c8c07-076c-45db-91ee-5ba25790931f')\"\n",
              "            title=\"Suggest charts\"\n",
              "            style=\"display:none;\">\n",
              "\n",
              "<svg xmlns=\"http://www.w3.org/2000/svg\" height=\"24px\"viewBox=\"0 0 24 24\"\n",
              "     width=\"24px\">\n",
              "    <g>\n",
              "        <path d=\"M19 3H5c-1.1 0-2 .9-2 2v14c0 1.1.9 2 2 2h14c1.1 0 2-.9 2-2V5c0-1.1-.9-2-2-2zM9 17H7v-7h2v7zm4 0h-2V7h2v10zm4 0h-2v-4h2v4z\"/>\n",
              "    </g>\n",
              "</svg>\n",
              "  </button>\n",
              "\n",
              "<style>\n",
              "  .colab-df-quickchart {\n",
              "      --bg-color: #E8F0FE;\n",
              "      --fill-color: #1967D2;\n",
              "      --hover-bg-color: #E2EBFA;\n",
              "      --hover-fill-color: #174EA6;\n",
              "      --disabled-fill-color: #AAA;\n",
              "      --disabled-bg-color: #DDD;\n",
              "  }\n",
              "\n",
              "  [theme=dark] .colab-df-quickchart {\n",
              "      --bg-color: #3B4455;\n",
              "      --fill-color: #D2E3FC;\n",
              "      --hover-bg-color: #434B5C;\n",
              "      --hover-fill-color: #FFFFFF;\n",
              "      --disabled-bg-color: #3B4455;\n",
              "      --disabled-fill-color: #666;\n",
              "  }\n",
              "\n",
              "  .colab-df-quickchart {\n",
              "    background-color: var(--bg-color);\n",
              "    border: none;\n",
              "    border-radius: 50%;\n",
              "    cursor: pointer;\n",
              "    display: none;\n",
              "    fill: var(--fill-color);\n",
              "    height: 32px;\n",
              "    padding: 0;\n",
              "    width: 32px;\n",
              "  }\n",
              "\n",
              "  .colab-df-quickchart:hover {\n",
              "    background-color: var(--hover-bg-color);\n",
              "    box-shadow: 0 1px 2px rgba(60, 64, 67, 0.3), 0 1px 3px 1px rgba(60, 64, 67, 0.15);\n",
              "    fill: var(--button-hover-fill-color);\n",
              "  }\n",
              "\n",
              "  .colab-df-quickchart-complete:disabled,\n",
              "  .colab-df-quickchart-complete:disabled:hover {\n",
              "    background-color: var(--disabled-bg-color);\n",
              "    fill: var(--disabled-fill-color);\n",
              "    box-shadow: none;\n",
              "  }\n",
              "\n",
              "  .colab-df-spinner {\n",
              "    border: 2px solid var(--fill-color);\n",
              "    border-color: transparent;\n",
              "    border-bottom-color: var(--fill-color);\n",
              "    animation:\n",
              "      spin 1s steps(1) infinite;\n",
              "  }\n",
              "\n",
              "  @keyframes spin {\n",
              "    0% {\n",
              "      border-color: transparent;\n",
              "      border-bottom-color: var(--fill-color);\n",
              "      border-left-color: var(--fill-color);\n",
              "    }\n",
              "    20% {\n",
              "      border-color: transparent;\n",
              "      border-left-color: var(--fill-color);\n",
              "      border-top-color: var(--fill-color);\n",
              "    }\n",
              "    30% {\n",
              "      border-color: transparent;\n",
              "      border-left-color: var(--fill-color);\n",
              "      border-top-color: var(--fill-color);\n",
              "      border-right-color: var(--fill-color);\n",
              "    }\n",
              "    40% {\n",
              "      border-color: transparent;\n",
              "      border-right-color: var(--fill-color);\n",
              "      border-top-color: var(--fill-color);\n",
              "    }\n",
              "    60% {\n",
              "      border-color: transparent;\n",
              "      border-right-color: var(--fill-color);\n",
              "    }\n",
              "    80% {\n",
              "      border-color: transparent;\n",
              "      border-right-color: var(--fill-color);\n",
              "      border-bottom-color: var(--fill-color);\n",
              "    }\n",
              "    90% {\n",
              "      border-color: transparent;\n",
              "      border-bottom-color: var(--fill-color);\n",
              "    }\n",
              "  }\n",
              "</style>\n",
              "\n",
              "  <script>\n",
              "    async function quickchart(key) {\n",
              "      const quickchartButtonEl =\n",
              "        document.querySelector('#' + key + ' button');\n",
              "      quickchartButtonEl.disabled = true;  // To prevent multiple clicks.\n",
              "      quickchartButtonEl.classList.add('colab-df-spinner');\n",
              "      try {\n",
              "        const charts = await google.colab.kernel.invokeFunction(\n",
              "            'suggestCharts', [key], {});\n",
              "      } catch (error) {\n",
              "        console.error('Error during call to suggestCharts:', error);\n",
              "      }\n",
              "      quickchartButtonEl.classList.remove('colab-df-spinner');\n",
              "      quickchartButtonEl.classList.add('colab-df-quickchart-complete');\n",
              "    }\n",
              "    (() => {\n",
              "      let quickchartButtonEl =\n",
              "        document.querySelector('#df-bf1c8c07-076c-45db-91ee-5ba25790931f button');\n",
              "      quickchartButtonEl.style.display =\n",
              "        google.colab.kernel.accessAllowed ? 'block' : 'none';\n",
              "    })();\n",
              "  </script>\n",
              "</div>\n",
              "\n",
              "    </div>\n",
              "  </div>\n"
            ],
            "application/vnd.google.colaboratory.intrinsic+json": {
              "type": "dataframe",
              "variable_name": "df",
              "summary": "{\n  \"name\": \"df\",\n  \"rows\": 1000,\n  \"fields\": [\n    {\n      \"column\": \"Feature_1\",\n      \"properties\": {\n        \"dtype\": \"number\",\n        \"std\": 1.4046250431162741,\n        \"min\": -4.2942513217687175,\n        \"max\": 3.121590939320713,\n        \"num_unique_values\": 1000,\n        \"samples\": [\n          1.2134743307881093,\n          1.4457053601756988,\n          -2.768989442665923\n        ],\n        \"semantic_type\": \"\",\n        \"description\": \"\"\n      }\n    },\n    {\n      \"column\": \"Feature_2\",\n      \"properties\": {\n        \"dtype\": \"number\",\n        \"std\": 1.0366145843927108,\n        \"min\": -2.259024508484018,\n        \"max\": 4.295845438104047,\n        \"num_unique_values\": 1000,\n        \"samples\": [\n          0.3258809595165969,\n          1.8082290550746918,\n          1.4634665518739447\n        ],\n        \"semantic_type\": \"\",\n        \"description\": \"\"\n      }\n    },\n    {\n      \"column\": \"Target\",\n      \"properties\": {\n        \"dtype\": \"number\",\n        \"std\": 0,\n        \"min\": 0,\n        \"max\": 1,\n        \"num_unique_values\": 2,\n        \"samples\": [\n          1,\n          0\n        ],\n        \"semantic_type\": \"\",\n        \"description\": \"\"\n      }\n    }\n  ]\n}"
            }
          },
          "metadata": {},
          "execution_count": 82
        }
      ],
      "source": [
        "import numpy as np\n",
        "import pandas as pd\n",
        "from sklearn.datasets import make_classification\n",
        "import matplotlib.pyplot as plt\n",
        "\n",
        "# Create dataset\n",
        "n = 1000 # number of observations\n",
        "f = 2 # number of features\n",
        "inform = 2 # number of meaningful features\n",
        "features, binary_class = make_classification(n_samples=n, n_features=f,\n",
        "                                             n_informative=inform, n_redundant=0,\n",
        "                                             n_clusters_per_class=1, random_state=13)\n",
        "\n",
        "# Create a dataframe of the features and add the binary class (label, output)\n",
        "df = pd.DataFrame(features)\n",
        "df.columns = ['Feature_1', 'Feature_2']\n",
        "df['Target'] = binary_class\n",
        "df.head()"
      ]
    },
    {
      "cell_type": "code",
      "execution_count": null,
      "id": "6a61283f",
      "metadata": {
        "id": "6a61283f"
      },
      "outputs": [],
      "source": [
        "from sklearn.model_selection import train_test_split\n",
        "\n",
        "# X_train, X_test split\n",
        "X_train, X_test, y_train, y_test = train_test_split(df.drop('Target', axis=1), df['Target'], test_size=0.20)\n",
        "\n",
        "from sklearn.preprocessing import StandardScaler\n",
        "sc = StandardScaler()\n",
        "X_train = sc.fit_transform(X_train)\n",
        "X_test = sc.transform(X_test)"
      ]
    },
    {
      "cell_type": "code",
      "execution_count": null,
      "id": "66005c9b",
      "metadata": {
        "id": "66005c9b"
      },
      "outputs": [],
      "source": [
        "# Create model\n",
        "from sklearn.linear_model import LogisticRegression\n",
        "\n",
        "model = LogisticRegression(solver='liblinear')\n",
        "model.fit(X_train,y_train)\n",
        "predictions = model.predict(X_test)"
      ]
    },
    {
      "cell_type": "markdown",
      "id": "66b7e244",
      "metadata": {
        "id": "66b7e244"
      },
      "source": [
        "**The Solver (liblinear)**: Solvers are used to minimize the loss function which in turn provides our best coefficients. Please see the documentation to learn about the five different solvers.\n",
        "\n",
        "https://scikit-learn.org/stable/modules/generated/sklearn.linear_model.LogisticRegression.html\n"
      ]
    },
    {
      "cell_type": "code",
      "execution_count": null,
      "id": "0d6c34b5",
      "metadata": {
        "id": "0d6c34b5",
        "colab": {
          "base_uri": "https://localhost:8080/"
        },
        "outputId": "9d9b5816-4366-4412-b01d-9be6401d4fe9"
      },
      "outputs": [
        {
          "output_type": "stream",
          "name": "stdout",
          "text": [
            "Confusion Matrix\n",
            "[[78 18]\n",
            " [14 90]]\n",
            "\n",
            "Here is what the numbers represent from the sklLearn output\n",
            "\n",
            "                 predicted\n",
            "                   |  0  |  1\n",
            "           --------------------\n",
            "           class 0 | TN  |  FP\n",
            "  actual   --------------------\n",
            "           class 1 | FN  |  TP\n",
            "\n",
            "\n",
            "Here is what the numbers represent from the Wikipedia article\n",
            "\n",
            "                 actual\n",
            "                   |  1  |  0\n",
            "           --------------------\n",
            "           class 1 | TP  |  FP\n",
            "predicted  --------------------\n",
            "           class 0 | FN  |  TN\n",
            "\n"
          ]
        }
      ],
      "source": [
        "# View confusion matrix\n",
        "from sklearn.metrics import roc_curve, roc_auc_score, confusion_matrix, classification_report\n",
        "\n",
        "tn, fp, fn, tp = confusion_matrix(y_test, predictions).ravel()\n",
        "print('Confusion Matrix')\n",
        "print(confusion_matrix(y_test, predictions))\n",
        "print()\n",
        "print('Here is what the numbers represent from the sklLearn output')\n",
        "print('''\n",
        "                 predicted\n",
        "                   |  0  |  1\n",
        "           --------------------\n",
        "           class 0 | TN  |  FP\n",
        "  actual   --------------------\n",
        "           class 1 | FN  |  TP\n",
        "''')\n",
        "print()\n",
        "print('Here is what the numbers represent from the Wikipedia article')\n",
        "print('''\n",
        "                 actual\n",
        "                   |  1  |  0\n",
        "           --------------------\n",
        "           class 1 | TP  |  FP\n",
        "predicted  --------------------\n",
        "           class 0 | FN  |  TN\n",
        "''')"
      ]
    },
    {
      "cell_type": "code",
      "execution_count": null,
      "id": "f7f60915",
      "metadata": {
        "id": "f7f60915",
        "colab": {
          "base_uri": "https://localhost:8080/",
          "height": 174
        },
        "outputId": "cb2474a1-f9b9-4143-d454-af120c4bf284"
      },
      "outputs": [
        {
          "output_type": "execute_result",
          "data": {
            "text/plain": [
              "Predicted   0    1  All\n",
              "Actual                 \n",
              "0          78   18   96\n",
              "1          14   90  104\n",
              "All        92  108  200"
            ],
            "text/html": [
              "\n",
              "  <div id=\"df-ac091fcd-8f34-4098-8ce4-c81cbb53ed17\" class=\"colab-df-container\">\n",
              "    <div>\n",
              "<style scoped>\n",
              "    .dataframe tbody tr th:only-of-type {\n",
              "        vertical-align: middle;\n",
              "    }\n",
              "\n",
              "    .dataframe tbody tr th {\n",
              "        vertical-align: top;\n",
              "    }\n",
              "\n",
              "    .dataframe thead th {\n",
              "        text-align: right;\n",
              "    }\n",
              "</style>\n",
              "<table border=\"1\" class=\"dataframe\">\n",
              "  <thead>\n",
              "    <tr style=\"text-align: right;\">\n",
              "      <th>Predicted</th>\n",
              "      <th>0</th>\n",
              "      <th>1</th>\n",
              "      <th>All</th>\n",
              "    </tr>\n",
              "    <tr>\n",
              "      <th>Actual</th>\n",
              "      <th></th>\n",
              "      <th></th>\n",
              "      <th></th>\n",
              "    </tr>\n",
              "  </thead>\n",
              "  <tbody>\n",
              "    <tr>\n",
              "      <th>0</th>\n",
              "      <td>78</td>\n",
              "      <td>18</td>\n",
              "      <td>96</td>\n",
              "    </tr>\n",
              "    <tr>\n",
              "      <th>1</th>\n",
              "      <td>14</td>\n",
              "      <td>90</td>\n",
              "      <td>104</td>\n",
              "    </tr>\n",
              "    <tr>\n",
              "      <th>All</th>\n",
              "      <td>92</td>\n",
              "      <td>108</td>\n",
              "      <td>200</td>\n",
              "    </tr>\n",
              "  </tbody>\n",
              "</table>\n",
              "</div>\n",
              "    <div class=\"colab-df-buttons\">\n",
              "\n",
              "  <div class=\"colab-df-container\">\n",
              "    <button class=\"colab-df-convert\" onclick=\"convertToInteractive('df-ac091fcd-8f34-4098-8ce4-c81cbb53ed17')\"\n",
              "            title=\"Convert this dataframe to an interactive table.\"\n",
              "            style=\"display:none;\">\n",
              "\n",
              "  <svg xmlns=\"http://www.w3.org/2000/svg\" height=\"24px\" viewBox=\"0 -960 960 960\">\n",
              "    <path d=\"M120-120v-720h720v720H120Zm60-500h600v-160H180v160Zm220 220h160v-160H400v160Zm0 220h160v-160H400v160ZM180-400h160v-160H180v160Zm440 0h160v-160H620v160ZM180-180h160v-160H180v160Zm440 0h160v-160H620v160Z\"/>\n",
              "  </svg>\n",
              "    </button>\n",
              "\n",
              "  <style>\n",
              "    .colab-df-container {\n",
              "      display:flex;\n",
              "      gap: 12px;\n",
              "    }\n",
              "\n",
              "    .colab-df-convert {\n",
              "      background-color: #E8F0FE;\n",
              "      border: none;\n",
              "      border-radius: 50%;\n",
              "      cursor: pointer;\n",
              "      display: none;\n",
              "      fill: #1967D2;\n",
              "      height: 32px;\n",
              "      padding: 0 0 0 0;\n",
              "      width: 32px;\n",
              "    }\n",
              "\n",
              "    .colab-df-convert:hover {\n",
              "      background-color: #E2EBFA;\n",
              "      box-shadow: 0px 1px 2px rgba(60, 64, 67, 0.3), 0px 1px 3px 1px rgba(60, 64, 67, 0.15);\n",
              "      fill: #174EA6;\n",
              "    }\n",
              "\n",
              "    .colab-df-buttons div {\n",
              "      margin-bottom: 4px;\n",
              "    }\n",
              "\n",
              "    [theme=dark] .colab-df-convert {\n",
              "      background-color: #3B4455;\n",
              "      fill: #D2E3FC;\n",
              "    }\n",
              "\n",
              "    [theme=dark] .colab-df-convert:hover {\n",
              "      background-color: #434B5C;\n",
              "      box-shadow: 0px 1px 3px 1px rgba(0, 0, 0, 0.15);\n",
              "      filter: drop-shadow(0px 1px 2px rgba(0, 0, 0, 0.3));\n",
              "      fill: #FFFFFF;\n",
              "    }\n",
              "  </style>\n",
              "\n",
              "    <script>\n",
              "      const buttonEl =\n",
              "        document.querySelector('#df-ac091fcd-8f34-4098-8ce4-c81cbb53ed17 button.colab-df-convert');\n",
              "      buttonEl.style.display =\n",
              "        google.colab.kernel.accessAllowed ? 'block' : 'none';\n",
              "\n",
              "      async function convertToInteractive(key) {\n",
              "        const element = document.querySelector('#df-ac091fcd-8f34-4098-8ce4-c81cbb53ed17');\n",
              "        const dataTable =\n",
              "          await google.colab.kernel.invokeFunction('convertToInteractive',\n",
              "                                                    [key], {});\n",
              "        if (!dataTable) return;\n",
              "\n",
              "        const docLinkHtml = 'Like what you see? Visit the ' +\n",
              "          '<a target=\"_blank\" href=https://colab.research.google.com/notebooks/data_table.ipynb>data table notebook</a>'\n",
              "          + ' to learn more about interactive tables.';\n",
              "        element.innerHTML = '';\n",
              "        dataTable['output_type'] = 'display_data';\n",
              "        await google.colab.output.renderOutput(dataTable, element);\n",
              "        const docLink = document.createElement('div');\n",
              "        docLink.innerHTML = docLinkHtml;\n",
              "        element.appendChild(docLink);\n",
              "      }\n",
              "    </script>\n",
              "  </div>\n",
              "\n",
              "\n",
              "<div id=\"df-4298bb93-b55a-4527-bdb9-3c8d76427e37\">\n",
              "  <button class=\"colab-df-quickchart\" onclick=\"quickchart('df-4298bb93-b55a-4527-bdb9-3c8d76427e37')\"\n",
              "            title=\"Suggest charts\"\n",
              "            style=\"display:none;\">\n",
              "\n",
              "<svg xmlns=\"http://www.w3.org/2000/svg\" height=\"24px\"viewBox=\"0 0 24 24\"\n",
              "     width=\"24px\">\n",
              "    <g>\n",
              "        <path d=\"M19 3H5c-1.1 0-2 .9-2 2v14c0 1.1.9 2 2 2h14c1.1 0 2-.9 2-2V5c0-1.1-.9-2-2-2zM9 17H7v-7h2v7zm4 0h-2V7h2v10zm4 0h-2v-4h2v4z\"/>\n",
              "    </g>\n",
              "</svg>\n",
              "  </button>\n",
              "\n",
              "<style>\n",
              "  .colab-df-quickchart {\n",
              "      --bg-color: #E8F0FE;\n",
              "      --fill-color: #1967D2;\n",
              "      --hover-bg-color: #E2EBFA;\n",
              "      --hover-fill-color: #174EA6;\n",
              "      --disabled-fill-color: #AAA;\n",
              "      --disabled-bg-color: #DDD;\n",
              "  }\n",
              "\n",
              "  [theme=dark] .colab-df-quickchart {\n",
              "      --bg-color: #3B4455;\n",
              "      --fill-color: #D2E3FC;\n",
              "      --hover-bg-color: #434B5C;\n",
              "      --hover-fill-color: #FFFFFF;\n",
              "      --disabled-bg-color: #3B4455;\n",
              "      --disabled-fill-color: #666;\n",
              "  }\n",
              "\n",
              "  .colab-df-quickchart {\n",
              "    background-color: var(--bg-color);\n",
              "    border: none;\n",
              "    border-radius: 50%;\n",
              "    cursor: pointer;\n",
              "    display: none;\n",
              "    fill: var(--fill-color);\n",
              "    height: 32px;\n",
              "    padding: 0;\n",
              "    width: 32px;\n",
              "  }\n",
              "\n",
              "  .colab-df-quickchart:hover {\n",
              "    background-color: var(--hover-bg-color);\n",
              "    box-shadow: 0 1px 2px rgba(60, 64, 67, 0.3), 0 1px 3px 1px rgba(60, 64, 67, 0.15);\n",
              "    fill: var(--button-hover-fill-color);\n",
              "  }\n",
              "\n",
              "  .colab-df-quickchart-complete:disabled,\n",
              "  .colab-df-quickchart-complete:disabled:hover {\n",
              "    background-color: var(--disabled-bg-color);\n",
              "    fill: var(--disabled-fill-color);\n",
              "    box-shadow: none;\n",
              "  }\n",
              "\n",
              "  .colab-df-spinner {\n",
              "    border: 2px solid var(--fill-color);\n",
              "    border-color: transparent;\n",
              "    border-bottom-color: var(--fill-color);\n",
              "    animation:\n",
              "      spin 1s steps(1) infinite;\n",
              "  }\n",
              "\n",
              "  @keyframes spin {\n",
              "    0% {\n",
              "      border-color: transparent;\n",
              "      border-bottom-color: var(--fill-color);\n",
              "      border-left-color: var(--fill-color);\n",
              "    }\n",
              "    20% {\n",
              "      border-color: transparent;\n",
              "      border-left-color: var(--fill-color);\n",
              "      border-top-color: var(--fill-color);\n",
              "    }\n",
              "    30% {\n",
              "      border-color: transparent;\n",
              "      border-left-color: var(--fill-color);\n",
              "      border-top-color: var(--fill-color);\n",
              "      border-right-color: var(--fill-color);\n",
              "    }\n",
              "    40% {\n",
              "      border-color: transparent;\n",
              "      border-right-color: var(--fill-color);\n",
              "      border-top-color: var(--fill-color);\n",
              "    }\n",
              "    60% {\n",
              "      border-color: transparent;\n",
              "      border-right-color: var(--fill-color);\n",
              "    }\n",
              "    80% {\n",
              "      border-color: transparent;\n",
              "      border-right-color: var(--fill-color);\n",
              "      border-bottom-color: var(--fill-color);\n",
              "    }\n",
              "    90% {\n",
              "      border-color: transparent;\n",
              "      border-bottom-color: var(--fill-color);\n",
              "    }\n",
              "  }\n",
              "</style>\n",
              "\n",
              "  <script>\n",
              "    async function quickchart(key) {\n",
              "      const quickchartButtonEl =\n",
              "        document.querySelector('#' + key + ' button');\n",
              "      quickchartButtonEl.disabled = true;  // To prevent multiple clicks.\n",
              "      quickchartButtonEl.classList.add('colab-df-spinner');\n",
              "      try {\n",
              "        const charts = await google.colab.kernel.invokeFunction(\n",
              "            'suggestCharts', [key], {});\n",
              "      } catch (error) {\n",
              "        console.error('Error during call to suggestCharts:', error);\n",
              "      }\n",
              "      quickchartButtonEl.classList.remove('colab-df-spinner');\n",
              "      quickchartButtonEl.classList.add('colab-df-quickchart-complete');\n",
              "    }\n",
              "    (() => {\n",
              "      let quickchartButtonEl =\n",
              "        document.querySelector('#df-4298bb93-b55a-4527-bdb9-3c8d76427e37 button');\n",
              "      quickchartButtonEl.style.display =\n",
              "        google.colab.kernel.accessAllowed ? 'block' : 'none';\n",
              "    })();\n",
              "  </script>\n",
              "</div>\n",
              "\n",
              "    </div>\n",
              "  </div>\n"
            ],
            "application/vnd.google.colaboratory.intrinsic+json": {
              "type": "dataframe",
              "summary": "{\n  \"name\": \"pd\",\n  \"rows\": 3,\n  \"fields\": [\n    {\n      \"column\": \"Actual\",\n      \"properties\": {\n        \"dtype\": \"string\",\n        \"num_unique_values\": 3,\n        \"samples\": [\n          0,\n          1,\n          \"All\"\n        ],\n        \"semantic_type\": \"\",\n        \"description\": \"\"\n      }\n    },\n    {\n      \"column\": 0,\n      \"properties\": {\n        \"dtype\": \"number\",\n        \"std\": 41,\n        \"min\": 14,\n        \"max\": 92,\n        \"num_unique_values\": 3,\n        \"samples\": [\n          78,\n          14,\n          92\n        ],\n        \"semantic_type\": \"\",\n        \"description\": \"\"\n      }\n    },\n    {\n      \"column\": 1,\n      \"properties\": {\n        \"dtype\": \"number\",\n        \"std\": 47,\n        \"min\": 18,\n        \"max\": 108,\n        \"num_unique_values\": 3,\n        \"samples\": [\n          18,\n          90,\n          108\n        ],\n        \"semantic_type\": \"\",\n        \"description\": \"\"\n      }\n    },\n    {\n      \"column\": \"All\",\n      \"properties\": {\n        \"dtype\": \"number\",\n        \"std\": 57,\n        \"min\": 96,\n        \"max\": 200,\n        \"num_unique_values\": 3,\n        \"samples\": [\n          96,\n          104,\n          200\n        ],\n        \"semantic_type\": \"\",\n        \"description\": \"\"\n      }\n    }\n  ]\n}"
            }
          },
          "metadata": {},
          "execution_count": 86
        }
      ],
      "source": [
        "# Compare with crosstab\n",
        "pd.crosstab(y_test, predictions, rownames=['Actual'], colnames=['Predicted'],margins=True)"
      ]
    },
    {
      "cell_type": "code",
      "execution_count": null,
      "id": "54508921",
      "metadata": {
        "id": "54508921",
        "colab": {
          "base_uri": "https://localhost:8080/",
          "height": 472
        },
        "outputId": "1c784a9d-3306-4ea9-b68d-3aa8aa5b3140"
      },
      "outputs": [
        {
          "output_type": "display_data",
          "data": {
            "text/plain": [
              "<Figure size 640x480 with 1 Axes>"
            ],
            "image/png": "[encoded data removed]"
          },
          "metadata": {}
        }
      ],
      "source": [
        "# review our plot\n",
        "from matplotlib.colors import ListedColormap\n",
        "\n",
        "X_set, y_set = X_test, y_test\n",
        "X1, X2 = np.meshgrid(np.arange(start = X_set[:, 0].min() - 1, stop = X_set[:, 0].max() + 1, step = 0.01),\n",
        "                     np.arange(start = X_set[:, 1].min() - 1, stop = X_set[:, 1].max() + 1, step = 0.01))\n",
        "\n",
        "plt.contourf(X1, X2, model.predict(np.array([X1.ravel(), X2.ravel()]).T).reshape(X1.shape),\n",
        "             alpha = 0.75, cmap = ListedColormap(('green', 'yellow')))\n",
        "\n",
        "plt.xlim(X1.min(), X1.max())\n",
        "plt.ylim(X2.min(), X2.max())\n",
        "\n",
        "for i, j in enumerate(np.unique(y_set)):\n",
        "    plt.scatter(X_set[y_set == j, 0], X_set[y_set == j, 1],\n",
        "                color = ListedColormap(('blue', 'red'))(i), label = j)\n",
        "\n",
        "plt.title('Logistic Regression (Test Set)')\n",
        "plt.xlabel('Domain')\n",
        "plt.ylabel('Range')\n",
        "plt.legend()\n",
        "plt.show()"
      ]
    },
    {
      "cell_type": "code",
      "execution_count": null,
      "id": "85920841",
      "metadata": {
        "id": "85920841",
        "colab": {
          "base_uri": "https://localhost:8080/",
          "height": 499
        },
        "outputId": "bf513d4e-a601-436f-cd81-503b95eb4083"
      },
      "outputs": [
        {
          "output_type": "display_data",
          "data": {
            "text/plain": [
              "<Figure size 1000x500 with 2 Axes>"
            ],
            "image/png": "[encoded data removed]"
          },
          "metadata": {}
        }
      ],
      "source": [
        "# Compare KDE plots for probabilities and normed probabilities\n",
        "import seaborn as sns\n",
        "import scipy\n",
        "\n",
        "import warnings\n",
        "warnings.filterwarnings('ignore')\n",
        "\n",
        "fig, (ax1, ax2) = plt.subplots(1,2, figsize=(10,5))\n",
        "\n",
        "probs=model.predict_proba(X_test)[:,1]\n",
        "sns.kdeplot(probs[y_test==0], shade=False, color='blue', label='Class 0', ax=ax1);\n",
        "sns.kdeplot(probs[y_test==1], shade=False, color='red', label='Class 1', ax=ax1);\n",
        "ax1.axvline(x=.5, color='black')\n",
        "ax1.set_title('Probabilities')\n",
        "ax1.set(xlabel='Probabilities', ylabel='Probability Density')\n",
        "\n",
        "mean = probs[y_test==0].mean()\n",
        "std = probs[y_test==0].std()\n",
        "x = np.linspace(probs[y_test==0].min(), probs[y_test==0].max(), 100)\n",
        "y = scipy.stats.norm.pdf(x,mean,std)\n",
        "ax2.plot(x, y, color='blue', label='Class 0')\n",
        "\n",
        "mean = probs[y_test==1].mean()\n",
        "std = probs[y_test==1].std()\n",
        "x = np.linspace(probs[y_test==1].min(), probs[y_test==1].max(), 100)\n",
        "y = scipy.stats.norm.pdf(x,mean,std)\n",
        "ax2.plot(x, y, color='red', label='Class 1')\n",
        "\n",
        "x_threshold = 0.5\n",
        "ax2.axvline(x=x_threshold,color='black')\n",
        "\n",
        "ax2.set_title('Probabilities (Normalized)')\n",
        "ax2.set(xlabel='Probabilities', ylabel='Probability Density')\n",
        "\n",
        "ax1.legend(loc='upper center')\n",
        "ax2.legend(loc='upper center')\n",
        "plt.tight_layout()\n",
        "plt.show()"
      ]
    },
    {
      "cell_type": "code",
      "execution_count": null,
      "id": "55fa2341",
      "metadata": {
        "id": "55fa2341",
        "colab": {
          "base_uri": "https://localhost:8080/",
          "height": 487
        },
        "outputId": "ea9101aa-c9f8-41a1-9ab4-ec9c7fe0e433"
      },
      "outputs": [
        {
          "output_type": "display_data",
          "data": {
            "text/plain": [
              "<Figure size 640x480 with 1 Axes>"
            ],
            "image/png": "[encoded data removed]"
          },
          "metadata": {}
        }
      ],
      "source": [
        "# visualize TN, FN, FP, TP\n",
        "import math\n",
        "import matplotlib.patches as mpatches\n",
        "\n",
        "x_threshold = 0.5\n",
        "tn, fp, fn, tp = confusion_matrix(y_test,predictions).ravel()\n",
        "\n",
        "mean_0 = probs[y_test==0].mean()\n",
        "std_0 = probs[y_test==0].std()\n",
        "x_0 = np.linspace(probs[y_test==0].min(), probs[y_test==0].max(), 100)\n",
        "y_0 = scipy.stats.norm.pdf(x_0,mean_0,std_0)\n",
        "\n",
        "mean_1 = probs[y_test==1].mean()\n",
        "std_1 = probs[y_test==1].std()\n",
        "x_1 = np.linspace(probs[y_test==1].min(), probs[y_test==1].max(), 100)\n",
        "y_1 = scipy.stats.norm.pdf(x_1,mean_1,std_1)\n",
        "\n",
        "plt.plot(x_0, y_0, color='black')\n",
        "plt.fill_between(x_0, y_0, color='blue', alpha=1)\n",
        "\n",
        "plt.plot(x,y, color='black')\n",
        "plt.fill_between(x_1, y_1, color='red', alpha=1)\n",
        "\n",
        "ptx_0 = np.linspace(x_threshold, probs[y_test==0].max(), 100)\n",
        "pty_0 = scipy.stats.norm.pdf(ptx_0,mean_0,std_0)\n",
        "plt.fill_between(ptx_0, pty_0, color='yellow', alpha=1)\n",
        "\n",
        "ptx_1 = np.linspace(probs[y_test==1].min(), x_threshold, 100)\n",
        "pty_1 = scipy.stats.norm.pdf(ptx_1,mean_1,std_1)\n",
        "plt.fill_between(ptx_1, pty_1, color='green', alpha=1)\n",
        "\n",
        "tn_patch = mpatches.Patch(color='blue', label='True Negatives (TN): ' + str(tn))\n",
        "fp_patch = mpatches.Patch(color='yellow', label='False Positives (FP): ' + str(fp))\n",
        "fn_patch = mpatches.Patch(color='green', label='False Negatives (FN): ' + str(fn))\n",
        "tp_patch = mpatches.Patch(color='red', label='True Positives (TP): ' + str(tp))\n",
        "plt.legend(handles=[tn_patch,fp_patch,fn_patch,tp_patch], loc=2)\n",
        "\n",
        "plt.title('Probability Distributions with Threshold',fontsize=10)\n",
        "plt.axvline(x=x_threshold,color='black')\n",
        "plt.xlabel('Value')\n",
        "plt.ylabel('Density')\n",
        "\n",
        "plt.tight_layout()"
      ]
    },
    {
      "cell_type": "markdown",
      "id": "a6a4f31b",
      "metadata": {
        "id": "a6a4f31b"
      },
      "source": [
        "### The Classification Report\n",
        "\n",
        "Consider a fraudualent credit card dataset where there may be a 1 (for fraudulent activity) per 1000 0s of normal activity. We wouldn't need to build a predictive model to make correct predictions 99% of the time. The data itself lets us do that. We need metrics that tell us that the model we build is learning about the relevant data and that it predicts what it is suppose to predict. This gets back to our Precision Recall Tradeoff.\n",
        "\n",
        "**Precision**: The sum of observations correctly classified as positive out of the total observations classified as positive. From the formula, tp / (tp + fp), we can see we want to mimimize fp (false positives), or type I errors, which is sounding an alarm when there is no fire.\n",
        "\n",
        "**Recall**: The sum of observations correctly classified as positive out of the total actual positives. From the forumula, tp / (tp + fn), we can see we want to minimize fn (false negatives), or type II errors, which is not sounding an alarm when there is a fire."
      ]
    },
    {
      "cell_type": "code",
      "execution_count": null,
      "id": "e3691916",
      "metadata": {
        "id": "e3691916",
        "colab": {
          "base_uri": "https://localhost:8080/"
        },
        "outputId": "578a9bdf-f7a5-4736-96ee-7bc2a3a30053"
      },
      "outputs": [
        {
          "output_type": "stream",
          "name": "stdout",
          "text": [
            "[[78 18]\n",
            " [14 90]]\n",
            "              precision    recall  f1-score   support\n",
            "\n",
            "           0       0.85      0.81      0.83        96\n",
            "           1       0.83      0.87      0.85       104\n",
            "\n",
            "    accuracy                           0.84       200\n",
            "   macro avg       0.84      0.84      0.84       200\n",
            "weighted avg       0.84      0.84      0.84       200\n",
            "\n"
          ]
        }
      ],
      "source": [
        "from sklearn.metrics import classification_report, confusion_matrix\n",
        "\n",
        "print(confusion_matrix(y_test, predictions))\n",
        "print(classification_report(y_test, predictions, labels=[0, 1]))"
      ]
    },
    {
      "cell_type": "markdown",
      "id": "240381d0",
      "metadata": {
        "id": "240381d0"
      },
      "source": [
        "We know about accuracy, precision, and recall and we've talked about f1-score as being the harmonic mean of precision and recall (f1 score = 2 * (precision * recall) / (precision + recall)).\n",
        "\n",
        "* support: the number of observations labeled 0 or 1 (remember the pie chart we made of the target?)\n",
        "* macro avg: the average between the two classes (e.g. (prec 0 + prec 1) / 2\n",
        "* weighted avg: the average between the two classes taking into account the number of their observations (e.g. ((prec0 * score0) + (prec 1 * score1)) / total)\n",
        "\n",
        "A classification report provides a little more information by providing metrics for each class. For example, for class 0, our recall is higher than our precision, which tells us that there are fewer false negatives than false positives in class 0."
      ]
    },
    {
      "cell_type": "markdown",
      "id": "de7fb3b2",
      "metadata": {
        "id": "de7fb3b2"
      },
      "source": [
        "### Underfitting and Overfitting\n",
        "\n",
        "In statistics, overfitting is \"the production of an analysis that corresponds too closely or exactly to a particular set of data, and may therefore fail to fit additional data or predict future observations reliably\". An overfitted model is a statistical model that contains more parameters than can be justified by the data.\n",
        "\n",
        "<img src='https://docs.aws.amazon.com/images/machine-learning/latest/dg/images/mlconcepts_image5.png' alt='underfitting overfitting' />\n",
        "\n",
        "https://docs.aws.amazon.com/machine-learning/latest/dg/model-fit-underfitting-vs-overfitting.html\n",
        "\n",
        "If you're overfitting, or you are getting great training scores and poor  test scores, you might be overfitting so try removing the lesser performing features. The model is just memorizing the training data.\n",
        "\n",
        "Underfitting occurs when a statistical model cannot adequately capture the underlying structure of the data. An under-fitted model is a model where some parameters or terms that would appear in a correctly specified model are missing.[2] Under-fitting would occur, for example, when fitting a linear model to non-linear data. Such a model will tend to have poor predictive performance.\n",
        "\n",
        "If you're underfitting, or you are getting poor training scores and test scores, you might be underfitting so try adding more data or more features.\n",
        "\n",
        "https://en.wikipedia.org/wiki/Overfitting"
      ]
    },
    {
      "cell_type": "markdown",
      "id": "958ec329",
      "metadata": {
        "id": "958ec329"
      },
      "source": [
        "### Bias Variance Tradeoff\n",
        "\n",
        "In statistics and machine learning, the bias–variance tradeoff is the property of a model that the variance of the parameter estimates across samples can be reduced by increasing the bias in the estimated parameters. The bias–variance dilemma or bias–variance problem is the conflict in trying to simultaneously minimize these two sources of error that prevent supervised learning algorithms from generalizing beyond their training set.\n",
        "\n",
        "https://en.wikipedia.org/wiki/Bias%E2%80%93variance_tradeoff\n",
        "\n",
        "Please become familiar with this image:\n",
        "\n",
        "<img src='https://www.kdnuggets.com/wp-content/uploads/bias-and-variance.jpg' alt='bias variance tradeoff' />\n",
        "\n",
        "Please read the article responsible for the image:\n",
        "\n",
        "https://www.kdnuggets.com/2016/08/bias-variance-tradeoff-overview.html\n",
        "\n",
        "#### A Formula\n",
        "\n",
        "$E[(\\hat{y} - y)^2] = E[(\\hat{y} - E[\\hat{y})^2] + (E[\\hat{y}] - y)^2$\n",
        "<br />MSE = Variance + Bias^2\n",
        "* where y = given y, (ground truth)\n",
        "* $\\hat{y}$ = prediction\n",
        "* $E[\\hat{y}]$ = expected value or average of predictions\n",
        "* error = $\\frac{fp + fn}{total}$\n",
        "* Bias = error in training\n",
        "* Variance = range of predictions, how much an estimate of the target function will change if different data was is\n",
        "\n",
        "<table width='50%' style='margin-right: 100%'>\n",
        "    <tr>\n",
        "        <td>Training Error</td>\n",
        "        <td>1%</td>\n",
        "        <td>15%</td>\n",
        "        <td>16%</td>\n",
        "        <td>1%</td>\n",
        "    </tr>\n",
        "    <tr>\n",
        "        <td>Testing Error</td>\n",
        "        <td>15%</td>\n",
        "        <td>16%</td>\n",
        "        <td>33%</td>\n",
        "        <td>1%</td>\n",
        "    </tr>\n",
        "    <tr>\n",
        "        <td></td>\n",
        "        <td>lo bias</td>\n",
        "        <td>hi bias</td>\n",
        "        <td>hi bias</td>\n",
        "        <td>lo bias</td>\n",
        "    </tr>\n",
        "    <tr>\n",
        "        <td></td>\n",
        "        <td>hi var</td>\n",
        "        <td>lo var</td>\n",
        "        <td>hi var</td>\n",
        "        <td>lo var</td>\n",
        "    </tr>\n",
        "</table>\n",
        "\n",
        "https://www.mastersindatascience.org/learning/difference-between-bias-and-variance/"
      ]
    },
    {
      "cell_type": "markdown",
      "id": "8b04dcf2",
      "metadata": {
        "id": "8b04dcf2"
      },
      "source": [
        "### Precision Recall Tradeoff\n",
        "\n",
        "In pattern recognition, information retrieval and classification (machine learning), precision (also called positive predictive value) is the fraction of relevant instances among the retrieved instances, while recall (also known as sensitivity) is the fraction of relevant instances that were retrieved. Both precision and recall are therefore based on relevance... Accuracy can be a misleading metric for imbalanced data sets. Consider a sample with 95 negative and 5 positive values. Classifying all values as negative in this case gives 0.95 accuracy score.\n",
        "\n",
        "https://en.wikipedia.org/wiki/Precision_and_recall\n",
        "\n",
        "In cases of imbalanced data, precision, recall, and f1 score become useful metrics. Precision tells us the proportion of data that was predicted was actually predicted correctly. Recall, also known as the True Positive Rate, is the probability that an actual positive will be predicted to be positive.\n",
        "\n",
        "Precision (also called positive predictive value) is the fraction of relevant instances among the retrieved instances, while recall (also known as sensitivity) is the fraction of relevant instances that were retrieved. Both precision and recall are therefore based on relevance.\n",
        "\n",
        "https://en.wikipedia.org/wiki/Precision_and_recall\n",
        "\n",
        "<img src='https://miro.medium.com/v2/resize:fit:640/format:webp/1*GM10sFuFBAbhwBt2scuP1g.png' alt='precision recall tradeoff' />\n",
        "\n",
        "https://datascience-george.medium.com/the-precision-recall-trade-off-aa295faba140\n",
        "\n",
        "The following is a visualization of our true negatives, false positives, false negatives, and true positives from the data set generated with make_classification."
      ]
    },
    {
      "cell_type": "code",
      "execution_count": null,
      "id": "bd34a890",
      "metadata": {
        "scrolled": true,
        "id": "bd34a890",
        "colab": {
          "base_uri": "https://localhost:8080/"
        },
        "outputId": "b198631e-5eed-467e-fbf2-e52c1a4b662f"
      },
      "outputs": [
        {
          "output_type": "stream",
          "name": "stdout",
          "text": [
            "Confusion Matrix\n",
            "\n",
            "\n",
            "           survived predicted\n",
            "                   |  0   |  1\n",
            "           -----------------------  -----------------------------------------\n",
            "           no      | 78  |  18     fpr (type I error)  | tnr\n",
            "  actual   -----------------------  -----------------------------------------\n",
            "           yes     | 14   |  90     tpr (recall)        | fnr (type II error)\n",
            "\n",
            "                    for   | precision\n",
            "           ----------------------------\n",
            "                    npv   | fdr\n",
            "\n",
            "\n"
          ]
        }
      ],
      "source": [
        "tn, fp, fn, tp = confusion_matrix(y_test, predictions).ravel()\n",
        "print('Confusion Matrix')\n",
        "print()\n",
        "print(f'''\n",
        "           survived predicted\n",
        "                   |  0   |  1\n",
        "           -----------------------  -----------------------------------------\n",
        "           no      | {tn}  |  {fp}     fpr (type I error)  | tnr\n",
        "  actual   -----------------------  -----------------------------------------\n",
        "           yes     | {fn}   |  {tp}     tpr (recall)        | fnr (type II error)\n",
        "\n",
        "                    for   | precision\n",
        "           ----------------------------\n",
        "                    npv   | fdr\n",
        "\n",
        "''')"
      ]
    },
    {
      "cell_type": "markdown",
      "id": "11e9c355",
      "metadata": {
        "id": "11e9c355"
      },
      "source": [
        "### Metrics\n",
        "\n",
        "* tn = pred 0 actual 0\n",
        "* fp = pred 1 actual 0\n",
        "* fn = pred 0 actual 1\n",
        "* tp = pred 1 actual 1\n",
        "* acc(uracy) = $\\frac{tn + tp}{total}$\n",
        "* error = $\\frac{fp + fn}{total}$\n",
        "* prev(alence) = $\\frac{fn + tp}{total}$\n",
        "* queue = $\\frac{fp + tp}{total}$\n",
        "* tpr = $\\frac{tp}{tp + fn}$\n",
        "    * true positive rate\n",
        "    * recall\n",
        "    * sensitivity\n",
        "    * prob of detection\n",
        "    * 1 - fnr\n",
        "* fnr = $\\frac{fn}{tp + fn}$\n",
        "    * false negative rate\n",
        "    * type II error\n",
        "    * 1 - tpr\n",
        "* tnr = $\\frac{tn}{tn + fp}$\n",
        "    * true negative rate\n",
        "    * specificity\n",
        "    * 1 - fpr\n",
        "* fpr = $\\frac{fp}{tn + fp}$\n",
        "    * false positive rate\n",
        "    * type I error\n",
        "    * fall out\n",
        "    * prob of false claim\n",
        "    * 1 - tnr\n",
        "* ppv = $\\frac{tp}{tp + fp}$\n",
        "    * positive predicted value\n",
        "    * precision\n",
        "    * 1 - fdr\n",
        "* fdr = $\\frac{fp}{tp + fp}$\n",
        "    * false discovery rate\n",
        "    * 1 - ppv\n",
        "* npv = $\\frac{tn}{tn + fn}$\n",
        "    * negative predicted value\n",
        "    * 1 - for\n",
        "* for = $\\frac{fn}{tn + fn}$\n",
        "    * false omission rate\n",
        "    * 1 - npv\n",
        "* liklihood ratio+ (lr+) = $\\frac{tpr}{fpr}$\n",
        "    * roc\n",
        "* liklihood ratio- (lr-) = $\\frac{fnr}{tnr}$\n",
        "* diagnostic odds ratio = $\\frac{lr+}{lr-}$\n",
        "* f1 score = 2 * $\\frac{precision-recall}{precision+recall}$\n",
        "* Youden's J = sensitivity + specificity - 1 = tpr - fpr\n",
        "* Matthew's Correlation Coefficient = $\\frac{(tp*tn)-(fp*tp)}{\\sqrt{(tp+fp)(tp+fn)(tn+fp)(tn+fn)}}$\n",
        "  "
      ]
    },
    {
      "cell_type": "markdown",
      "id": "ff6c95dc",
      "metadata": {
        "id": "ff6c95dc"
      },
      "source": [
        "## Model Comparisons"
      ]
    },
    {
      "cell_type": "code",
      "execution_count": null,
      "id": "5d590f9d",
      "metadata": {
        "id": "5d590f9d",
        "colab": {
          "base_uri": "https://localhost:8080/"
        },
        "outputId": "c4251570-1d1a-413a-bd70-3243639584a6"
      },
      "outputs": [
        {
          "output_type": "stream",
          "name": "stdout",
          "text": [
            "(400, 5)\n",
            "    User ID  Gender   Age  EstimatedSalary  Purchased\n",
            "0  15624510    Male  19.0          19000.0          0\n",
            "1  15810944    Male  35.0          20000.0          0\n",
            "2  15668575  Female  26.0          43000.0          0\n",
            "3  15603246  Female  27.0          57000.0          0\n",
            "4  15804002    Male  19.0          76000.0          0\n",
            "<class 'pandas.core.frame.DataFrame'>\n",
            "RangeIndex: 400 entries, 0 to 399\n",
            "Data columns (total 5 columns):\n",
            " #   Column           Non-Null Count  Dtype  \n",
            "---  ------           --------------  -----  \n",
            " 0   User ID          400 non-null    int64  \n",
            " 1   Gender           400 non-null    object \n",
            " 2   Age              400 non-null    float64\n",
            " 3   EstimatedSalary  400 non-null    float64\n",
            " 4   Purchased        400 non-null    int64  \n",
            "dtypes: float64(2), int64(2), object(1)\n",
            "memory usage: 15.8+ KB\n",
            "None\n"
          ]
        }
      ],
      "source": [
        "# get data\n",
        "import numpy as np\n",
        "import pandas as pd\n",
        "import matplotlib.pyplot as plt\n",
        "\n",
        "comparisons = pd.read_csv('https://raw.githubusercontent.com/sudarshan-koirala/K-Nearest-Neighbors-Social-Network-Ads/master/Social_Network_Ads.csv')\n",
        "print(comparisons.shape)\n",
        "print(comparisons.head())\n",
        "print(comparisons.info())"
      ]
    },
    {
      "cell_type": "code",
      "execution_count": null,
      "id": "d89773a1",
      "metadata": {
        "id": "d89773a1"
      },
      "outputs": [],
      "source": [
        "# get X and y and train test split\n",
        "from sklearn.model_selection import train_test_split\n",
        "\n",
        "X_train, X_test, y_train, y_test = train_test_split(comparisons.drop(['User ID', 'Gender', 'Purchased'], axis=1),\n",
        "                                                    comparisons.Purchased,\n",
        "                                                    test_size=0.2, random_state=42)"
      ]
    },
    {
      "cell_type": "code",
      "execution_count": null,
      "id": "f36d229f",
      "metadata": {
        "id": "f36d229f"
      },
      "outputs": [],
      "source": [
        "# scale data\n",
        "from sklearn.preprocessing import StandardScaler\n",
        "\n",
        "sc = StandardScaler()\n",
        "X_train = sc.fit_transform(X_train.values)\n",
        "X_test = sc.transform(X_test.values)"
      ]
    },
    {
      "cell_type": "markdown",
      "id": "57789339",
      "metadata": {
        "id": "57789339"
      },
      "source": [
        "### Logistic Regression"
      ]
    },
    {
      "cell_type": "code",
      "execution_count": null,
      "id": "faf5afde",
      "metadata": {
        "id": "faf5afde",
        "colab": {
          "base_uri": "https://localhost:8080/",
          "height": 524
        },
        "outputId": "973daf79-bd12-499e-817e-d2493a4c2dcd"
      },
      "outputs": [
        {
          "output_type": "stream",
          "name": "stdout",
          "text": [
            "[[50  2]\n",
            " [ 9 19]]\n",
            "0.8625\n"
          ]
        },
        {
          "output_type": "display_data",
          "data": {
            "text/plain": [
              "<Figure size 640x480 with 1 Axes>"
            ],
            "image/png": "[encoded data removed]"
          },
          "metadata": {}
        }
      ],
      "source": [
        "# model, predict, evaluate, and plot\n",
        "from matplotlib.colors import ListedColormap\n",
        "from sklearn.linear_model import LogisticRegression\n",
        "from sklearn.metrics import confusion_matrix, accuracy_score\n",
        "\n",
        "model = LogisticRegression(random_state=42)\n",
        "model.fit(X_train, y_train)\n",
        "predictions = model.predict(X_test)\n",
        "\n",
        "print(confusion_matrix(y_test, predictions))\n",
        "print(accuracy_score(y_test, predictions))\n",
        "\n",
        "X_set, y_set = sc.inverse_transform(X_test), y_test\n",
        "X1, X2 = np.meshgrid(np.arange(start = X_set[:, 0].min() - 10, stop = X_set[:, 0].max() + 10, step = 0.25),\n",
        "                     np.arange(start = X_set[:, 1].min() - 1000, stop = X_set[:, 1].max() + 1000, step = 0.25))\n",
        "\n",
        "plt.contourf(X1, X2, model.predict(sc.transform(np.array([X1.ravel(), X2.ravel()]).T)).reshape(X1.shape),\n",
        "             alpha = 0.75, cmap = ListedColormap(('lightsalmon', 'lightblue')))\n",
        "\n",
        "plt.xlim(X1.min(), X1.max())\n",
        "plt.ylim(X2.min(), X2.max())\n",
        "\n",
        "for i, j in enumerate(np.unique(y_set)):\n",
        "    plt.scatter(X_set[y_set == j, 0], X_set[y_set == j, 1], color = ListedColormap(('red', 'blue'))(i), label = j)\n",
        "\n",
        "plt.title('Logistic Regression (Test set)')\n",
        "plt.xlabel('Age')\n",
        "plt.ylabel('Estimated Salary')\n",
        "plt.legend()\n",
        "plt.show()"
      ]
    },
    {
      "cell_type": "markdown",
      "id": "8e75f1e1",
      "metadata": {
        "id": "8e75f1e1"
      },
      "source": [
        "### Multinomial Logistic Regression\n",
        "\n",
        "* Multinomial Logistic Regression Notebook"
      ]
    },
    {
      "cell_type": "markdown",
      "id": "2c7d153d",
      "metadata": {
        "id": "2c7d153d"
      },
      "source": [
        "### K Nearest Neighbor\n",
        "\n",
        "* https://en.wikipedia.org/wiki/K-nearest_neighbors_algorithm#/media/File:KnnClassification.svg\n",
        "* Choose the number of K neighbors\n",
        "* Within the perimeter, count the number of each class\n",
        "* New data point is assigned the class with the highest count"
      ]
    },
    {
      "cell_type": "code",
      "execution_count": null,
      "id": "afc58cda",
      "metadata": {
        "id": "afc58cda",
        "colab": {
          "base_uri": "https://localhost:8080/"
        },
        "outputId": "443da469-d7d2-48ea-f548-5b05640b118f"
      },
      "outputs": [
        {
          "output_type": "stream",
          "name": "stdout",
          "text": [
            "[[48  4]\n",
            " [ 3 25]]\n",
            "0.9125\n"
          ]
        }
      ],
      "source": [
        "from sklearn.neighbors import KNeighborsClassifier\n",
        "\n",
        "model = KNeighborsClassifier(n_neighbors=5, metric='minkowski', p=2)\n",
        "model.fit(X_train, y_train)\n",
        "predictions = model.predict(X_test)\n",
        "\n",
        "print(confusion_matrix(y_test, predictions))\n",
        "print(accuracy_score(y_test, predictions))"
      ]
    },
    {
      "cell_type": "markdown",
      "id": "2d105266",
      "metadata": {
        "id": "2d105266"
      },
      "source": [
        "### Support Vector Classifier\n",
        "\n",
        "* https://en.wikipedia.org/wiki/Support-vector_machine#/media/File:SVM_margin.png\n",
        "* Linearly separable\n",
        "* Identify the hyperplane (similar to line of best fit used in regression)\n",
        "* Find the support vectors\n",
        "* Maximize the margin\n",
        "* Identify negative and positive hyperplanes\n",
        "* Compares apples that look like oranges and vice versa that reside near the margin (support vectors)\n",
        "* Support Vectors Notebook\n"
      ]
    },
    {
      "cell_type": "code",
      "execution_count": null,
      "id": "7424c6df",
      "metadata": {
        "id": "7424c6df",
        "colab": {
          "base_uri": "https://localhost:8080/"
        },
        "outputId": "ff3a0408-0453-4300-82ec-d392cbbb0ee9"
      },
      "outputs": [
        {
          "output_type": "stream",
          "name": "stdout",
          "text": [
            "[[50  2]\n",
            " [ 9 19]]\n",
            "0.8625\n"
          ]
        }
      ],
      "source": [
        "from sklearn.svm import SVC\n",
        "\n",
        "model = SVC(kernel='linear', random_state=42)\n",
        "model.fit(X_train, y_train)\n",
        "predictions = model.predict(X_test)\n",
        "\n",
        "print(confusion_matrix(y_test, predictions))\n",
        "print(accuracy_score(y_test, predictions))"
      ]
    },
    {
      "cell_type": "markdown",
      "id": "61052698",
      "metadata": {
        "id": "61052698"
      },
      "source": [
        "### SVC with Kernel\n"
      ]
    },
    {
      "cell_type": "code",
      "execution_count": null,
      "id": "9cdfe9a8",
      "metadata": {
        "id": "9cdfe9a8",
        "colab": {
          "base_uri": "https://localhost:8080/"
        },
        "outputId": "8030662b-a872-49b4-b7c1-05f5a9ef4fb3"
      },
      "outputs": [
        {
          "output_type": "stream",
          "name": "stdout",
          "text": [
            "[[47  5]\n",
            " [ 1 27]]\n",
            "0.925\n"
          ]
        }
      ],
      "source": [
        "from sklearn.svm import SVC\n",
        "\n",
        "model = SVC(kernel='rbf', random_state=42)\n",
        "model.fit(X_train, y_train)\n",
        "predictions = model.predict(X_test)\n",
        "\n",
        "print(confusion_matrix(y_test, predictions))\n",
        "print(accuracy_score(y_test, predictions))"
      ]
    },
    {
      "cell_type": "markdown",
      "id": "e925c73c",
      "metadata": {
        "id": "e925c73c"
      },
      "source": [
        "### Naive Bayes\n",
        "\n",
        "* Naive Bayes Notebook\n"
      ]
    },
    {
      "cell_type": "code",
      "execution_count": null,
      "id": "48bdb78a",
      "metadata": {
        "id": "48bdb78a",
        "colab": {
          "base_uri": "https://localhost:8080/"
        },
        "outputId": "7359a757-553d-406f-a00d-cf4fc1cd3b57"
      },
      "outputs": [
        {
          "output_type": "stream",
          "name": "stdout",
          "text": [
            "[[50  2]\n",
            " [ 3 25]]\n",
            "0.9375\n"
          ]
        }
      ],
      "source": [
        "from sklearn.naive_bayes import GaussianNB\n",
        "\n",
        "model = GaussianNB()\n",
        "model.fit(X_train, y_train)\n",
        "predictions = model.predict(X_test)\n",
        "\n",
        "print(confusion_matrix(y_test, predictions))\n",
        "print(accuracy_score(y_test, predictions))"
      ]
    },
    {
      "cell_type": "markdown",
      "id": "ce8506c3",
      "metadata": {
        "id": "ce8506c3"
      },
      "source": [
        "### Decision Tree Classifier\n",
        "\n",
        "* https://www.kdnuggets.com/2020/01/decision-tree-algorithm-explained.html\n",
        "\n",
        "#### Terms\n",
        "\n",
        "* Root node\n",
        "* Splitting\n",
        "* Decision node\n",
        "* Leaf / terminal node\n",
        "* Pruning\n",
        "* Branch\n",
        "* Parent and child nodes\n",
        "\n",
        "#### Attribute Selection Measures\n",
        "\n",
        "* Gini index\n",
        "* Entropy\n",
        "* Information gain\n",
        "* Gain ratio\n",
        "* Reduction in variance\n",
        "* Chi-square\n",
        "\n",
        "More next week"
      ]
    },
    {
      "cell_type": "code",
      "execution_count": null,
      "id": "ac08c44d",
      "metadata": {
        "id": "ac08c44d",
        "colab": {
          "base_uri": "https://localhost:8080/"
        },
        "outputId": "cb27857d-407e-4599-d36f-89ac2baf0a12"
      },
      "outputs": [
        {
          "output_type": "stream",
          "name": "stdout",
          "text": [
            "[[46  6]\n",
            " [ 7 21]]\n",
            "0.8375\n"
          ]
        }
      ],
      "source": [
        "from sklearn.tree import DecisionTreeClassifier\n",
        "\n",
        "model = DecisionTreeClassifier(criterion='entropy', random_state=42)\n",
        "model.fit(X_train, y_train)\n",
        "predictions = model.predict(X_test)\n",
        "\n",
        "print(confusion_matrix(y_test, predictions))\n",
        "print(accuracy_score(y_test, predictions))"
      ]
    },
    {
      "cell_type": "markdown",
      "id": "2d5a0ad6",
      "metadata": {
        "id": "2d5a0ad6"
      },
      "source": [
        "### Random Forest Classifier\n",
        "\n",
        "* Random sample of X_train when building trees\n",
        "* Random subsets of features\n",
        "* Bagging\n",
        "\n",
        "More next week"
      ]
    },
    {
      "cell_type": "code",
      "execution_count": null,
      "id": "7d31e9bc",
      "metadata": {
        "id": "7d31e9bc",
        "colab": {
          "base_uri": "https://localhost:8080/"
        },
        "outputId": "5703c2f5-09f8-41fd-cf76-d4868c7089b2"
      },
      "outputs": [
        {
          "output_type": "stream",
          "name": "stdout",
          "text": [
            "[[47  5]\n",
            " [ 6 22]]\n",
            "0.8625\n"
          ]
        }
      ],
      "source": [
        "from sklearn.ensemble import RandomForestClassifier\n",
        "\n",
        "model = RandomForestClassifier(n_estimators=10, criterion='entropy', random_state=42)\n",
        "model.fit(X_train, y_train)\n",
        "predictions = model.predict(X_test)\n",
        "\n",
        "print(confusion_matrix(y_test, predictions))\n",
        "print(accuracy_score(y_test, predictions))"
      ]
    }
  ],
  "metadata": {
    "kernelspec": {
      "display_name": "Python 3 (ipykernel)",
      "language": "python",
      "name": "python3"
    },
    "language_info": {
      "codemirror_mode": {
        "name": "ipython",
        "version": 3
      },
      "file_extension": ".py",
      "mimetype": "text/x-python",
      "name": "python",
      "nbconvert_exporter": "python",
      "pygments_lexer": "ipython3",
      "version": "3.9.7"
    },
    "colab": {
      "provenance": [],
      "toc_visible": true,
      "include_colab_link": true
    }
  },
  "nbformat": 4,
  "nbformat_minor": 5
}