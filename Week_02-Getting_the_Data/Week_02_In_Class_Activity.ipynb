{
  "cells": [
    {
      "cell_type": "markdown",
      "metadata": {
        "id": "view-in-github",
        "colab_type": "text"
      },
      "source": [
        "<a href=\"https://colab.research.google.com/github/BeautyKabore/UNT-Spring-2024-DTSC-4050/blob/main/Week_02-Getting_the_Data/Week_02_In_Class_Activity.ipynb\" target=\"_parent\"><img src=\"https://colab.research.google.com/assets/colab-badge.svg\" alt=\"Open In Colab\"/></a>"
      ]
    },
    {
      "cell_type": "markdown",
      "id": "41c9a5d1",
      "metadata": {
        "id": "41c9a5d1"
      },
      "source": [
        "# Week 02 - In-Class Activity\n",
        "\n",
        "Your Name\n",
        "\n",
        "### Some Readings\n",
        "\n",
        "* Data Science Interviews - https://www.kdnuggets.com/2023/01/20-questions-detect-fake-data-scientists-chatgpt-1.html\n",
        "* How to Use Google Colab for Python - https://www.jcchouinard.com/google-colab-with-python/\n",
        "* A Day in the Life of a Data Scientist - https://towardsdatascience.com/a-day-in-the-life-of-a-data-scientist-938d917370b9\n",
        "* https://towardsdatascience.com/the-inequality-in-the-data-science-industry-937992032851"
      ]
    },
    {
      "cell_type": "markdown",
      "source": [
        "## Getting Started\n",
        "\n",
        "* Colab - get notebook from gitmystuff DTSC4050 repository\n",
        "* Save a Copy in Drive\n",
        "* Remove Copy of\n",
        "* Edit your name\n",
        "* Clean up Colab Notebooks folder\n",
        "* Submit shared link"
      ],
      "metadata": {
        "id": "tv86CANY3_Xy"
      },
      "id": "tv86CANY3_Xy"
    },
    {
      "cell_type": "markdown",
      "id": "87f8c9ee",
      "metadata": {
        "id": "87f8c9ee"
      },
      "source": [
        "## Data Science Process\n",
        "\n",
        "<img src= \" https://www.springboard.com/blog/wp-content/uploads/2022/05/data-science-life-cycle.png\" alt =\"data science life cycle\" />"
      ]
    },
    {
      "cell_type": "markdown",
      "id": "74b4d70e",
      "metadata": {
        "id": "74b4d70e"
      },
      "source": [
        "## Why Statistics\n",
        "\n",
        "Naked Statistics\n",
        "\n",
        "* To summarize huge quantities of data\n",
        "* To make better decisions\n",
        "* Answer important social questions\n",
        "* Recognize patterns\n",
        "* Evaluate effectiveness\n",
        "\n",
        "## Why Data\n",
        "\n",
        "According to Wikipedia (2023):\n",
        "\n",
        ">  In the pursuit of knowledge, data is a collection of discrete values that convey information, describing quantity, quality, fact, statistics, other basic units of meaning, or simply sequences of symbols that may be further interpreted. A datum is an individual value in a collection of data. Data is usually organized into structures such as tables that provide additional context and meaning, and which may themselves be used as data in larger structures (para 1).\n",
        "\n",
        "Data. (2023, January 23). In *Wikipedia*. https://en.wikipedia.org/wiki/Data\n",
        "\n",
        "Data is dumb. Data needs context.\n",
        "\n",
        "* GPA, used a lot but doesn't count the difficulty of the courses taken\n",
        "\n",
        "* It was found that workers who take frequent breaks died earlier than others\n",
        "    * That's because they were out smoking\n",
        "\n",
        "### Data Needs to be Reliable\n",
        "\n",
        "* Consistency of a measure (whether the results can be reproduced under the same conditions)\n",
        "\n",
        "### Data Needs to be Valid\n",
        "\n",
        "* The accuracy of a measure (whether the results really do represent what they are supposed to measure)\n",
        "\n",
        "### Precision vs Accuracy\n",
        "\n",
        "* Precision: exactitude of describing something\n",
        "* Accuracy: how consistent to the truth\n",
        "* Where's the library? About 1.6 miles from here (precise but not to useful) vs. go down this street a couple of blocks till you pass a bank. It'll be to the right. If you pass the fire station, you've gone too far\n",
        "\n",
        "### Statistical Models for Data\n",
        "\n",
        "* A formal representation of relationships between variables we use to describe or explain something"
      ]
    },
    {
      "cell_type": "markdown",
      "id": "0edbb01a",
      "metadata": {
        "id": "0edbb01a"
      },
      "source": [
        "## Data Starts with a Question\n",
        "\n",
        "According to Wikipedia (2022):\n",
        "\n",
        ">  A research question is a question that a research project sets out to answer'. Choosing a research question is an essential element of both quantitative and qualitative research. Investigation will require data collection and analysis, and the methodology for this will vary widely. Good research questions seek to improve knowledge on an important topic, and are usually narrow and specific (para 1).\n",
        "\n",
        "Research Question. (2022, January 24). In *Wikipedia*. https://en.wikipedia.org/wiki/Research_question"
      ]
    },
    {
      "cell_type": "markdown",
      "id": "259d6803",
      "metadata": {
        "id": "259d6803"
      },
      "source": [
        "## Parameter vs Statistic\n",
        "\n",
        "* https://www.statisticshowto.com/statistics-basics/how-to-tell-the-difference-between-a-statistic-and-a-parameter/\n",
        "* Parameter describes population, statistic describes sample\n",
        "\n",
        "### Statistical Inference\n",
        "\n",
        "According to Wikipedia (2022):\n",
        "\n",
        ">  the process of using data analysis to infer properties of an underlying distribution of probability (para 1).\n",
        "\n",
        "Statistical Inference. (2022, January 24). In *Wikipedia*. https://en.wikipedia.org/wiki/Statistical_inference.\n",
        "\n",
        "https://www.analyticsvidhya.com/blog/2022/03/an-overview-of-data-collection-data-sources-and-data-mining/\n",
        "\n",
        "* Mean and standard deviation of a sample should be similar to the mean and standard deviation of the population\n",
        "* Mean: where most of the observations lie with a distribution variance that is symmetrical\n",
        "* Standard Deviation: a way to measure how far observations are from the mean, on the x axis, in terms similar to the data it represents"
      ]
    },
    {
      "cell_type": "code",
      "execution_count": null,
      "id": "5eb0548c",
      "metadata": {
        "id": "5eb0548c",
        "colab": {
          "base_uri": "https://localhost:8080/",
          "height": 430
        },
        "outputId": "20dabd03-1dcd-49ee-8cf6-46755426717d"
      },
      "outputs": [
        {
          "output_type": "display_data",
          "data": {
            "text/plain": [
              "<Figure size 640x480 with 1 Axes>"
            ],
            "image/png": "[encoded data removed]"
          },
          "metadata": {}
        }
      ],
      "source": [
        "# normal distribution - what mean and standard deviation look like for the population\n",
        "import numpy as np\n",
        "import matplotlib.pyplot as plt\n",
        "\n",
        "#randomly generate a hist of size 50000\n",
        "ndist = np.random.normal(loc=0.0, scale=1.0, size=50000)\n",
        "plt.hist(ndist);"
      ]
    },
    {
      "cell_type": "code",
      "execution_count": null,
      "id": "a7d27c59",
      "metadata": {
        "id": "a7d27c59",
        "colab": {
          "base_uri": "https://localhost:8080/",
          "height": 430
        },
        "outputId": "3e9888da-bfeb-4185-f1aa-765145e30fef"
      },
      "outputs": [
        {
          "output_type": "display_data",
          "data": {
            "text/plain": [
              "<Figure size 640x480 with 1 Axes>"
            ],
            "image/png": "[encoded data removed]"
          },
          "metadata": {}
        }
      ],
      "source": [
        "# what the mean and standard deviation looks like for the sample\n",
        "import numpy as np\n",
        "import matplotlib.pyplot as plt\n",
        "\n",
        "#the below samples 5000 from the ndist(declared above) size\n",
        "plt.hist(np.random.choice(ndist, size = 5000));\n"
      ]
    },
    {
      "cell_type": "markdown",
      "id": "6e50a1e9",
      "metadata": {
        "id": "6e50a1e9"
      },
      "source": [
        "## Jeff Seder\n",
        "\n",
        "Everybody Lies\n",
        "    \n",
        "* Jeff Seder was hired by an Egyptian Beer Magnate, named Ahmed Zayat, who was into horses and horse racing, as a consultant\n",
        "    * There was a sale of 152 one year old horses\n",
        "    * One of those horses, an average horse designated number 85, was owned by Zayat\n",
        "    * At the time Jeff Seder and his team were unable to recommend the purchase of any of the horses\n",
        "    * But was adamant about not selling No. 85 even though similar horses were going for 1 million dollars\n",
        "    * Three months later, Zayat named the horse American Pharoah\n",
        "    * 18 months later American Pharoah won the Triple Crown\n",
        "    \n",
        "* How did Seder know?\n",
        "    * Was it through pedigree? father, mother, grand parents, etc.\n",
        "    * Gaits (a manner of walk, trot, canter, and gallop)?\n",
        "    * Years of data collection resulted in frustration for Seder\n",
        "    * Measured the size of nostrils (produced a book on horse nostrils)\n",
        "    * EKGs\n",
        "    * Dug through horse poop\n",
        "    * Finally found that the size of the heart specifically the left ventricle and spleen mattered\n",
        "    \n",
        "* Data on American Pharoah:\n",
        "    * Height: 56 percentile\n",
        "    * Weight: 61 percentile\n",
        "    * Pedigree: 70 percentile\n",
        "    * Left Ventricle: 99.61 percentile\n",
        "\n"
      ]
    },
    {
      "cell_type": "markdown",
      "source": [
        "## Garbage In Garbage Out (GIGO)\n",
        "\n",
        "GI of GIGO\n",
        "\n",
        "* Wrong\n",
        "* Too Different\n",
        "* Too Similar\n",
        "* Missing\n",
        "* Terrible statistical assertions result from good statistical methods applied to bad samples\n",
        "\n",
        "### Good Data - Data Needs Three Things\n",
        "\n",
        "1. The sample is representative of the population\n",
        "    * One way to achieve this is through simple random sample\n",
        "    * Larger the better\n",
        "    * A representative sample opens possibilities from a hundred years of statistical methods\n",
        "    * Getting a good sample isn't easy\n",
        "2. Data should show comparison\n",
        "    * Differences between groups\n",
        "    * Does a method improve something\n",
        "    * In the movie Caddyshack, golf related comedy, Chevy Chase is asked how his scores compare with others\n",
        "        * I really don't keep score\n",
        "        * But then how do you compare with others\n",
        "        * By height\n",
        "3. Sometimes we collect data just because\n",
        "    * Like a crime scene, collect all the clues you can find\n",
        "    * Data are like clues\n"
      ],
      "metadata": {
        "id": "3TLHybIJ8SCR"
      },
      "id": "3TLHybIJ8SCR"
    },
    {
      "cell_type": "markdown",
      "source": [
        "## Data Science for Business\n",
        "\n",
        "by Foster Provost and Tom Fawcett\n",
        "\n",
        "A critical skill in data science is the ability to decompose a problem into a known solution and work the solution\n",
        "\n",
        "* Data Analysis\n",
        "* Machine Learning\n",
        "* Artificial Intelligence\n",
        "* Math\n",
        "* Statistics\n",
        "* Computer Science\n",
        "* Information Technology\n",
        "* Business Knowledge\n",
        "* Classification: predicts yes or no\n",
        "* Regression: predicts how much\n",
        "* Profiling"
      ],
      "metadata": {
        "id": "v95shbr4IQdn"
      },
      "id": "v95shbr4IQdn"
    },
    {
      "cell_type": "markdown",
      "id": "a3076611",
      "metadata": {
        "id": "a3076611"
      },
      "source": [
        "## Getting the Data: Toy Datasets"
      ]
    },
    {
      "cell_type": "markdown",
      "id": "26b9c5e9",
      "metadata": {
        "id": "26b9c5e9"
      },
      "source": [
        "### Sklearn\n",
        "\n",
        "## webset to get datastes\n",
        "\n",
        "* https://scikit-learn.org/stable/datasets.html"
      ]
    },
    {
      "cell_type": "code",
      "execution_count": null,
      "id": "dd40e354",
      "metadata": {
        "id": "dd40e354",
        "colab": {
          "base_uri": "https://localhost:8080/"
        },
        "outputId": "346c20b3-6825-466b-966c-4c46b317aa7e"
      },
      "outputs": [
        {
          "output_type": "stream",
          "name": "stdout",
          "text": [
            "{'data': array([[   8.3252    ,   41.        ,    6.98412698, ...,    2.55555556,\n",
            "          37.88      , -122.23      ],\n",
            "       [   8.3014    ,   21.        ,    6.23813708, ...,    2.10984183,\n",
            "          37.86      , -122.22      ],\n",
            "       [   7.2574    ,   52.        ,    8.28813559, ...,    2.80225989,\n",
            "          37.85      , -122.24      ],\n",
            "       ...,\n",
            "       [   1.7       ,   17.        ,    5.20554273, ...,    2.3256351 ,\n",
            "          39.43      , -121.22      ],\n",
            "       [   1.8672    ,   18.        ,    5.32951289, ...,    2.12320917,\n",
            "          39.43      , -121.32      ],\n",
            "       [   2.3886    ,   16.        ,    5.25471698, ...,    2.61698113,\n",
            "          39.37      , -121.24      ]]), 'target': array([4.526, 3.585, 3.521, ..., 0.923, 0.847, 0.894]), 'frame': None, 'target_names': ['MedHouseVal'], 'feature_names': ['MedInc', 'HouseAge', 'AveRooms', 'AveBedrms', 'Population', 'AveOccup', 'Latitude', 'Longitude'], 'DESCR': '.. _california_housing_dataset:\\n\\nCalifornia Housing dataset\\n--------------------------\\n\\n**Data Set Characteristics:**\\n\\n    :Number of Instances: 20640\\n\\n    :Number of Attributes: 8 numeric, predictive attributes and the target\\n\\n    :Attribute Information:\\n        - MedInc        median income in block group\\n        - HouseAge      median house age in block group\\n        - AveRooms      average number of rooms per household\\n        - AveBedrms     average number of bedrooms per household\\n        - Population    block group population\\n        - AveOccup      average number of household members\\n        - Latitude      block group latitude\\n        - Longitude     block group longitude\\n\\n    :Missing Attribute Values: None\\n\\nThis dataset was obtained from the StatLib repository.\\nhttps://www.dcc.fc.up.pt/~ltorgo/Regression/cal_housing.html\\n\\nThe target variable is the median house value for California districts,\\nexpressed in hundreds of thousands of dollars ($100,000).\\n\\nThis dataset was derived from the 1990 U.S. census, using one row per census\\nblock group. A block group is the smallest geographical unit for which the U.S.\\nCensus Bureau publishes sample data (a block group typically has a population\\nof 600 to 3,000 people).\\n\\nA household is a group of people residing within a home. Since the average\\nnumber of rooms and bedrooms in this dataset are provided per household, these\\ncolumns may take surprisingly large values for block groups with few households\\nand many empty houses, such as vacation resorts.\\n\\nIt can be downloaded/loaded using the\\n:func:`sklearn.datasets.fetch_california_housing` function.\\n\\n.. topic:: References\\n\\n    - Pace, R. Kelley and Ronald Barry, Sparse Spatial Autoregressions,\\n      Statistics and Probability Letters, 33 (1997) 291-297\\n'}\n"
          ]
        }
      ],
      "source": [
        "# fetch california housing\n",
        "from sklearn.datasets import fetch_california_housing\n",
        "\n",
        "housing = fetch_california_housing()\n",
        "housing"
      ]
    },
    {
      "cell_type": "code",
      "execution_count": null,
      "id": "cf385ea6",
      "metadata": {
        "id": "cf385ea6",
        "colab": {
          "base_uri": "https://localhost:8080/"
        },
        "outputId": "389ca554-5978-4576-a8c9-6c6098f4baaf"
      },
      "outputs": [
        {
          "output_type": "execute_result",
          "data": {
            "text/plain": [
              "dict_keys(['data', 'target', 'frame', 'target_names', 'feature_names', 'DESCR'])"
            ]
          },
          "metadata": {},
          "execution_count": 7
        }
      ],
      "source": [
        "# get keys\n",
        "\n",
        "housing.keys()\n"
      ]
    },
    {
      "cell_type": "code",
      "execution_count": null,
      "id": "5e2816bb",
      "metadata": {
        "id": "5e2816bb",
        "colab": {
          "base_uri": "https://localhost:8080/"
        },
        "outputId": "b4a04ed3-9c7f-40f1-e75f-0fd845542664"
      },
      "outputs": [
        {
          "output_type": "stream",
          "name": "stdout",
          "text": [
            ".. _california_housing_dataset:\n",
            "\n",
            "California Housing dataset\n",
            "--------------------------\n",
            "\n",
            "**Data Set Characteristics:**\n",
            "\n",
            "    :Number of Instances: 20640\n",
            "\n",
            "    :Number of Attributes: 8 numeric, predictive attributes and the target\n",
            "\n",
            "    :Attribute Information:\n",
            "        - MedInc        median income in block group\n",
            "        - HouseAge      median house age in block group\n",
            "        - AveRooms      average number of rooms per household\n",
            "        - AveBedrms     average number of bedrooms per household\n",
            "        - Population    block group population\n",
            "        - AveOccup      average number of household members\n",
            "        - Latitude      block group latitude\n",
            "        - Longitude     block group longitude\n",
            "\n",
            "    :Missing Attribute Values: None\n",
            "\n",
            "This dataset was obtained from the StatLib repository.\n",
            "https://www.dcc.fc.up.pt/~ltorgo/Regression/cal_housing.html\n",
            "\n",
            "The target variable is the median house value for California districts,\n",
            "expressed in hundreds of thousands of dollars ($100,000).\n",
            "\n",
            "This dataset was derived from the 1990 U.S. census, using one row per census\n",
            "block group. A block group is the smallest geographical unit for which the U.S.\n",
            "Census Bureau publishes sample data (a block group typically has a population\n",
            "of 600 to 3,000 people).\n",
            "\n",
            "A household is a group of people residing within a home. Since the average\n",
            "number of rooms and bedrooms in this dataset are provided per household, these\n",
            "columns may take surprisingly large values for block groups with few households\n",
            "and many empty houses, such as vacation resorts.\n",
            "\n",
            "It can be downloaded/loaded using the\n",
            ":func:`sklearn.datasets.fetch_california_housing` function.\n",
            "\n",
            ".. topic:: References\n",
            "\n",
            "    - Pace, R. Kelley and Ronald Barry, Sparse Spatial Autoregressions,\n",
            "      Statistics and Probability Letters, 33 (1997) 291-297\n",
            "\n"
          ]
        }
      ],
      "source": [
        "# get description\n",
        "\n",
        "print(housing.DESCR)"
      ]
    },
    {
      "cell_type": "code",
      "execution_count": null,
      "id": "639d8790",
      "metadata": {
        "id": "639d8790",
        "colab": {
          "base_uri": "https://localhost:8080/"
        },
        "outputId": "4781ee45-fbfa-4ed0-8bfe-5087d406f878"
      },
      "outputs": [
        {
          "output_type": "stream",
          "name": "stdout",
          "text": [
            "['MedInc', 'HouseAge', 'AveRooms', 'AveBedrms', 'Population', 'AveOccup', 'Latitude', 'Longitude']\n",
            "['MedHouseVal']\n"
          ]
        }
      ],
      "source": [
        "# print feature and target names\n",
        "\n",
        "print(housing.feature_names)\n",
        "print(housing.target_names)\n"
      ]
    },
    {
      "cell_type": "code",
      "execution_count": null,
      "id": "1c62c6de",
      "metadata": {
        "id": "1c62c6de",
        "colab": {
          "base_uri": "https://localhost:8080/",
          "height": 518
        },
        "outputId": "12eb5990-d7f4-4d59-8620-edb059758736"
      },
      "outputs": [
        {
          "output_type": "stream",
          "name": "stdout",
          "text": [
            "(20640, 9)\n",
            "<class 'pandas.core.frame.DataFrame'>\n",
            "RangeIndex: 20640 entries, 0 to 20639\n",
            "Data columns (total 9 columns):\n",
            " #   Column       Non-Null Count  Dtype  \n",
            "---  ------       --------------  -----  \n",
            " 0   MedInc       20640 non-null  float64\n",
            " 1   HouseAge     20640 non-null  float64\n",
            " 2   AveRooms     20640 non-null  float64\n",
            " 3   AveBedrms    20640 non-null  float64\n",
            " 4   Population   20640 non-null  float64\n",
            " 5   AveOccup     20640 non-null  float64\n",
            " 6   Latitude     20640 non-null  float64\n",
            " 7   Longitude    20640 non-null  float64\n",
            " 8   MedHouseVal  20640 non-null  float64\n",
            "dtypes: float64(9)\n",
            "memory usage: 1.4 MB\n",
            "None\n"
          ]
        },
        {
          "output_type": "execute_result",
          "data": {
            "text/plain": [
              "   MedInc  HouseAge  AveRooms  AveBedrms  Population  AveOccup  Latitude  \\\n",
              "0  8.3252      41.0  6.984127   1.023810       322.0  2.555556     37.88   \n",
              "1  8.3014      21.0  6.238137   0.971880      2401.0  2.109842     37.86   \n",
              "2  7.2574      52.0  8.288136   1.073446       496.0  2.802260     37.85   \n",
              "3  5.6431      52.0  5.817352   1.073059       558.0  2.547945     37.85   \n",
              "4  3.8462      52.0  6.281853   1.081081       565.0  2.181467     37.85   \n",
              "\n",
              "   Longitude  MedHouseVal  \n",
              "0    -122.23        4.526  \n",
              "1    -122.22        3.585  \n",
              "2    -122.24        3.521  \n",
              "3    -122.25        3.413  \n",
              "4    -122.25        3.422  "
            ],
            "text/html": [
              "\n",
              "  <div id=\"df-3ac3e405-b26f-4797-9e1a-b9eb978b210b\" class=\"colab-df-container\">\n",
              "    <div>\n",
              "<style scoped>\n",
              "    .dataframe tbody tr th:only-of-type {\n",
              "        vertical-align: middle;\n",
              "    }\n",
              "\n",
              "    .dataframe tbody tr th {\n",
              "        vertical-align: top;\n",
              "    }\n",
              "\n",
              "    .dataframe thead th {\n",
              "        text-align: right;\n",
              "    }\n",
              "</style>\n",
              "<table border=\"1\" class=\"dataframe\">\n",
              "  <thead>\n",
              "    <tr style=\"text-align: right;\">\n",
              "      <th></th>\n",
              "      <th>MedInc</th>\n",
              "      <th>HouseAge</th>\n",
              "      <th>AveRooms</th>\n",
              "      <th>AveBedrms</th>\n",
              "      <th>Population</th>\n",
              "      <th>AveOccup</th>\n",
              "      <th>Latitude</th>\n",
              "      <th>Longitude</th>\n",
              "      <th>MedHouseVal</th>\n",
              "    </tr>\n",
              "  </thead>\n",
              "  <tbody>\n",
              "    <tr>\n",
              "      <th>0</th>\n",
              "      <td>8.3252</td>\n",
              "      <td>41.0</td>\n",
              "      <td>6.984127</td>\n",
              "      <td>1.023810</td>\n",
              "      <td>322.0</td>\n",
              "      <td>2.555556</td>\n",
              "      <td>37.88</td>\n",
              "      <td>-122.23</td>\n",
              "      <td>4.526</td>\n",
              "    </tr>\n",
              "    <tr>\n",
              "      <th>1</th>\n",
              "      <td>8.3014</td>\n",
              "      <td>21.0</td>\n",
              "      <td>6.238137</td>\n",
              "      <td>0.971880</td>\n",
              "      <td>2401.0</td>\n",
              "      <td>2.109842</td>\n",
              "      <td>37.86</td>\n",
              "      <td>-122.22</td>\n",
              "      <td>3.585</td>\n",
              "    </tr>\n",
              "    <tr>\n",
              "      <th>2</th>\n",
              "      <td>7.2574</td>\n",
              "      <td>52.0</td>\n",
              "      <td>8.288136</td>\n",
              "      <td>1.073446</td>\n",
              "      <td>496.0</td>\n",
              "      <td>2.802260</td>\n",
              "      <td>37.85</td>\n",
              "      <td>-122.24</td>\n",
              "      <td>3.521</td>\n",
              "    </tr>\n",
              "    <tr>\n",
              "      <th>3</th>\n",
              "      <td>5.6431</td>\n",
              "      <td>52.0</td>\n",
              "      <td>5.817352</td>\n",
              "      <td>1.073059</td>\n",
              "      <td>558.0</td>\n",
              "      <td>2.547945</td>\n",
              "      <td>37.85</td>\n",
              "      <td>-122.25</td>\n",
              "      <td>3.413</td>\n",
              "    </tr>\n",
              "    <tr>\n",
              "      <th>4</th>\n",
              "      <td>3.8462</td>\n",
              "      <td>52.0</td>\n",
              "      <td>6.281853</td>\n",
              "      <td>1.081081</td>\n",
              "      <td>565.0</td>\n",
              "      <td>2.181467</td>\n",
              "      <td>37.85</td>\n",
              "      <td>-122.25</td>\n",
              "      <td>3.422</td>\n",
              "    </tr>\n",
              "  </tbody>\n",
              "</table>\n",
              "</div>\n",
              "    <div class=\"colab-df-buttons\">\n",
              "\n",
              "  <div class=\"colab-df-container\">\n",
              "    <button class=\"colab-df-convert\" onclick=\"convertToInteractive('df-3ac3e405-b26f-4797-9e1a-b9eb978b210b')\"\n",
              "            title=\"Convert this dataframe to an interactive table.\"\n",
              "            style=\"display:none;\">\n",
              "\n",
              "  <svg xmlns=\"http://www.w3.org/2000/svg\" height=\"24px\" viewBox=\"0 -960 960 960\">\n",
              "    <path d=\"M120-120v-720h720v720H120Zm60-500h600v-160H180v160Zm220 220h160v-160H400v160Zm0 220h160v-160H400v160ZM180-400h160v-160H180v160Zm440 0h160v-160H620v160ZM180-180h160v-160H180v160Zm440 0h160v-160H620v160Z\"/>\n",
              "  </svg>\n",
              "    </button>\n",
              "\n",
              "  <style>\n",
              "    .colab-df-container {\n",
              "      display:flex;\n",
              "      gap: 12px;\n",
              "    }\n",
              "\n",
              "    .colab-df-convert {\n",
              "      background-color: #E8F0FE;\n",
              "      border: none;\n",
              "      border-radius: 50%;\n",
              "      cursor: pointer;\n",
              "      display: none;\n",
              "      fill: #1967D2;\n",
              "      height: 32px;\n",
              "      padding: 0 0 0 0;\n",
              "      width: 32px;\n",
              "    }\n",
              "\n",
              "    .colab-df-convert:hover {\n",
              "      background-color: #E2EBFA;\n",
              "      box-shadow: 0px 1px 2px rgba(60, 64, 67, 0.3), 0px 1px 3px 1px rgba(60, 64, 67, 0.15);\n",
              "      fill: #174EA6;\n",
              "    }\n",
              "\n",
              "    .colab-df-buttons div {\n",
              "      margin-bottom: 4px;\n",
              "    }\n",
              "\n",
              "    [theme=dark] .colab-df-convert {\n",
              "      background-color: #3B4455;\n",
              "      fill: #D2E3FC;\n",
              "    }\n",
              "\n",
              "    [theme=dark] .colab-df-convert:hover {\n",
              "      background-color: #434B5C;\n",
              "      box-shadow: 0px 1px 3px 1px rgba(0, 0, 0, 0.15);\n",
              "      filter: drop-shadow(0px 1px 2px rgba(0, 0, 0, 0.3));\n",
              "      fill: #FFFFFF;\n",
              "    }\n",
              "  </style>\n",
              "\n",
              "    <script>\n",
              "      const buttonEl =\n",
              "        document.querySelector('#df-3ac3e405-b26f-4797-9e1a-b9eb978b210b button.colab-df-convert');\n",
              "      buttonEl.style.display =\n",
              "        google.colab.kernel.accessAllowed ? 'block' : 'none';\n",
              "\n",
              "      async function convertToInteractive(key) {\n",
              "        const element = document.querySelector('#df-3ac3e405-b26f-4797-9e1a-b9eb978b210b');\n",
              "        const dataTable =\n",
              "          await google.colab.kernel.invokeFunction('convertToInteractive',\n",
              "                                                    [key], {});\n",
              "        if (!dataTable) return;\n",
              "\n",
              "        const docLinkHtml = 'Like what you see? Visit the ' +\n",
              "          '<a target=\"_blank\" href=https://colab.research.google.com/notebooks/data_table.ipynb>data table notebook</a>'\n",
              "          + ' to learn more about interactive tables.';\n",
              "        element.innerHTML = '';\n",
              "        dataTable['output_type'] = 'display_data';\n",
              "        await google.colab.output.renderOutput(dataTable, element);\n",
              "        const docLink = document.createElement('div');\n",
              "        docLink.innerHTML = docLinkHtml;\n",
              "        element.appendChild(docLink);\n",
              "      }\n",
              "    </script>\n",
              "  </div>\n",
              "\n",
              "\n",
              "<div id=\"df-3d10bc7f-abe2-4884-aa7e-fd3377801931\">\n",
              "  <button class=\"colab-df-quickchart\" onclick=\"quickchart('df-3d10bc7f-abe2-4884-aa7e-fd3377801931')\"\n",
              "            title=\"Suggest charts\"\n",
              "            style=\"display:none;\">\n",
              "\n",
              "<svg xmlns=\"http://www.w3.org/2000/svg\" height=\"24px\"viewBox=\"0 0 24 24\"\n",
              "     width=\"24px\">\n",
              "    <g>\n",
              "        <path d=\"M19 3H5c-1.1 0-2 .9-2 2v14c0 1.1.9 2 2 2h14c1.1 0 2-.9 2-2V5c0-1.1-.9-2-2-2zM9 17H7v-7h2v7zm4 0h-2V7h2v10zm4 0h-2v-4h2v4z\"/>\n",
              "    </g>\n",
              "</svg>\n",
              "  </button>\n",
              "\n",
              "<style>\n",
              "  .colab-df-quickchart {\n",
              "      --bg-color: #E8F0FE;\n",
              "      --fill-color: #1967D2;\n",
              "      --hover-bg-color: #E2EBFA;\n",
              "      --hover-fill-color: #174EA6;\n",
              "      --disabled-fill-color: #AAA;\n",
              "      --disabled-bg-color: #DDD;\n",
              "  }\n",
              "\n",
              "  [theme=dark] .colab-df-quickchart {\n",
              "      --bg-color: #3B4455;\n",
              "      --fill-color: #D2E3FC;\n",
              "      --hover-bg-color: #434B5C;\n",
              "      --hover-fill-color: #FFFFFF;\n",
              "      --disabled-bg-color: #3B4455;\n",
              "      --disabled-fill-color: #666;\n",
              "  }\n",
              "\n",
              "  .colab-df-quickchart {\n",
              "    background-color: var(--bg-color);\n",
              "    border: none;\n",
              "    border-radius: 50%;\n",
              "    cursor: pointer;\n",
              "    display: none;\n",
              "    fill: var(--fill-color);\n",
              "    height: 32px;\n",
              "    padding: 0;\n",
              "    width: 32px;\n",
              "  }\n",
              "\n",
              "  .colab-df-quickchart:hover {\n",
              "    background-color: var(--hover-bg-color);\n",
              "    box-shadow: 0 1px 2px rgba(60, 64, 67, 0.3), 0 1px 3px 1px rgba(60, 64, 67, 0.15);\n",
              "    fill: var(--button-hover-fill-color);\n",
              "  }\n",
              "\n",
              "  .colab-df-quickchart-complete:disabled,\n",
              "  .colab-df-quickchart-complete:disabled:hover {\n",
              "    background-color: var(--disabled-bg-color);\n",
              "    fill: var(--disabled-fill-color);\n",
              "    box-shadow: none;\n",
              "  }\n",
              "\n",
              "  .colab-df-spinner {\n",
              "    border: 2px solid var(--fill-color);\n",
              "    border-color: transparent;\n",
              "    border-bottom-color: var(--fill-color);\n",
              "    animation:\n",
              "      spin 1s steps(1) infinite;\n",
              "  }\n",
              "\n",
              "  @keyframes spin {\n",
              "    0% {\n",
              "      border-color: transparent;\n",
              "      border-bottom-color: var(--fill-color);\n",
              "      border-left-color: var(--fill-color);\n",
              "    }\n",
              "    20% {\n",
              "      border-color: transparent;\n",
              "      border-left-color: var(--fill-color);\n",
              "      border-top-color: var(--fill-color);\n",
              "    }\n",
              "    30% {\n",
              "      border-color: transparent;\n",
              "      border-left-color: var(--fill-color);\n",
              "      border-top-color: var(--fill-color);\n",
              "      border-right-color: var(--fill-color);\n",
              "    }\n",
              "    40% {\n",
              "      border-color: transparent;\n",
              "      border-right-color: var(--fill-color);\n",
              "      border-top-color: var(--fill-color);\n",
              "    }\n",
              "    60% {\n",
              "      border-color: transparent;\n",
              "      border-right-color: var(--fill-color);\n",
              "    }\n",
              "    80% {\n",
              "      border-color: transparent;\n",
              "      border-right-color: var(--fill-color);\n",
              "      border-bottom-color: var(--fill-color);\n",
              "    }\n",
              "    90% {\n",
              "      border-color: transparent;\n",
              "      border-bottom-color: var(--fill-color);\n",
              "    }\n",
              "  }\n",
              "</style>\n",
              "\n",
              "  <script>\n",
              "    async function quickchart(key) {\n",
              "      const quickchartButtonEl =\n",
              "        document.querySelector('#' + key + ' button');\n",
              "      quickchartButtonEl.disabled = true;  // To prevent multiple clicks.\n",
              "      quickchartButtonEl.classList.add('colab-df-spinner');\n",
              "      try {\n",
              "        const charts = await google.colab.kernel.invokeFunction(\n",
              "            'suggestCharts', [key], {});\n",
              "      } catch (error) {\n",
              "        console.error('Error during call to suggestCharts:', error);\n",
              "      }\n",
              "      quickchartButtonEl.classList.remove('colab-df-spinner');\n",
              "      quickchartButtonEl.classList.add('colab-df-quickchart-complete');\n",
              "    }\n",
              "    (() => {\n",
              "      let quickchartButtonEl =\n",
              "        document.querySelector('#df-3d10bc7f-abe2-4884-aa7e-fd3377801931 button');\n",
              "      quickchartButtonEl.style.display =\n",
              "        google.colab.kernel.accessAllowed ? 'block' : 'none';\n",
              "    })();\n",
              "  </script>\n",
              "</div>\n",
              "\n",
              "    </div>\n",
              "  </div>\n"
            ]
          },
          "metadata": {},
          "execution_count": 13
        }
      ],
      "source": [
        "# create housing dataframe\n",
        "import pandas as pd\n",
        "\n",
        "df = pd.DataFrame(housing.data, columns = housing.feature_names)\n",
        "\n",
        "df['MedHouseVal']= housing.target\n",
        "\n",
        "# shape tells you the number of columns and  rows\n",
        "print(df.shape)\n",
        "print(df.info())\n",
        "\n",
        "#default, shows first 5 rows.\n",
        "df.head()"
      ]
    },
    {
      "cell_type": "code",
      "execution_count": null,
      "id": "3e85a2e3",
      "metadata": {
        "id": "3e85a2e3",
        "colab": {
          "base_uri": "https://localhost:8080/",
          "height": 518
        },
        "outputId": "62fd1d95-b0f2-417e-c7e3-d20ea56a0970"
      },
      "outputs": [
        {
          "output_type": "stream",
          "name": "stdout",
          "text": [
            "(20640, 9)\n",
            "<class 'pandas.core.frame.DataFrame'>\n",
            "RangeIndex: 20640 entries, 0 to 20639\n",
            "Data columns (total 9 columns):\n",
            " #   Column       Non-Null Count  Dtype  \n",
            "---  ------       --------------  -----  \n",
            " 0   MedInc       20640 non-null  float64\n",
            " 1   HouseAge     20640 non-null  float64\n",
            " 2   AveRooms     20640 non-null  float64\n",
            " 3   AveBedrms    20640 non-null  float64\n",
            " 4   Population   20640 non-null  float64\n",
            " 5   AveOccup     20640 non-null  float64\n",
            " 6   Latitude     20640 non-null  float64\n",
            " 7   Longitude    20640 non-null  float64\n",
            " 8   MedHouseVal  20640 non-null  float64\n",
            "dtypes: float64(9)\n",
            "memory usage: 1.4 MB\n",
            "None\n"
          ]
        },
        {
          "output_type": "execute_result",
          "data": {
            "text/plain": [
              "   MedInc  HouseAge  AveRooms  AveBedrms  Population  AveOccup  Latitude  \\\n",
              "0  8.3252      41.0  6.984127   1.023810       322.0  2.555556     37.88   \n",
              "1  8.3014      21.0  6.238137   0.971880      2401.0  2.109842     37.86   \n",
              "2  7.2574      52.0  8.288136   1.073446       496.0  2.802260     37.85   \n",
              "3  5.6431      52.0  5.817352   1.073059       558.0  2.547945     37.85   \n",
              "4  3.8462      52.0  6.281853   1.081081       565.0  2.181467     37.85   \n",
              "\n",
              "   Longitude  MedHouseVal  \n",
              "0    -122.23        4.526  \n",
              "1    -122.22        3.585  \n",
              "2    -122.24        3.521  \n",
              "3    -122.25        3.413  \n",
              "4    -122.25        3.422  "
            ],
            "text/html": [
              "\n",
              "  <div id=\"df-102fbc1c-a275-4053-aded-bb0206185a17\" class=\"colab-df-container\">\n",
              "    <div>\n",
              "<style scoped>\n",
              "    .dataframe tbody tr th:only-of-type {\n",
              "        vertical-align: middle;\n",
              "    }\n",
              "\n",
              "    .dataframe tbody tr th {\n",
              "        vertical-align: top;\n",
              "    }\n",
              "\n",
              "    .dataframe thead th {\n",
              "        text-align: right;\n",
              "    }\n",
              "</style>\n",
              "<table border=\"1\" class=\"dataframe\">\n",
              "  <thead>\n",
              "    <tr style=\"text-align: right;\">\n",
              "      <th></th>\n",
              "      <th>MedInc</th>\n",
              "      <th>HouseAge</th>\n",
              "      <th>AveRooms</th>\n",
              "      <th>AveBedrms</th>\n",
              "      <th>Population</th>\n",
              "      <th>AveOccup</th>\n",
              "      <th>Latitude</th>\n",
              "      <th>Longitude</th>\n",
              "      <th>MedHouseVal</th>\n",
              "    </tr>\n",
              "  </thead>\n",
              "  <tbody>\n",
              "    <tr>\n",
              "      <th>0</th>\n",
              "      <td>8.3252</td>\n",
              "      <td>41.0</td>\n",
              "      <td>6.984127</td>\n",
              "      <td>1.023810</td>\n",
              "      <td>322.0</td>\n",
              "      <td>2.555556</td>\n",
              "      <td>37.88</td>\n",
              "      <td>-122.23</td>\n",
              "      <td>4.526</td>\n",
              "    </tr>\n",
              "    <tr>\n",
              "      <th>1</th>\n",
              "      <td>8.3014</td>\n",
              "      <td>21.0</td>\n",
              "      <td>6.238137</td>\n",
              "      <td>0.971880</td>\n",
              "      <td>2401.0</td>\n",
              "      <td>2.109842</td>\n",
              "      <td>37.86</td>\n",
              "      <td>-122.22</td>\n",
              "      <td>3.585</td>\n",
              "    </tr>\n",
              "    <tr>\n",
              "      <th>2</th>\n",
              "      <td>7.2574</td>\n",
              "      <td>52.0</td>\n",
              "      <td>8.288136</td>\n",
              "      <td>1.073446</td>\n",
              "      <td>496.0</td>\n",
              "      <td>2.802260</td>\n",
              "      <td>37.85</td>\n",
              "      <td>-122.24</td>\n",
              "      <td>3.521</td>\n",
              "    </tr>\n",
              "    <tr>\n",
              "      <th>3</th>\n",
              "      <td>5.6431</td>\n",
              "      <td>52.0</td>\n",
              "      <td>5.817352</td>\n",
              "      <td>1.073059</td>\n",
              "      <td>558.0</td>\n",
              "      <td>2.547945</td>\n",
              "      <td>37.85</td>\n",
              "      <td>-122.25</td>\n",
              "      <td>3.413</td>\n",
              "    </tr>\n",
              "    <tr>\n",
              "      <th>4</th>\n",
              "      <td>3.8462</td>\n",
              "      <td>52.0</td>\n",
              "      <td>6.281853</td>\n",
              "      <td>1.081081</td>\n",
              "      <td>565.0</td>\n",
              "      <td>2.181467</td>\n",
              "      <td>37.85</td>\n",
              "      <td>-122.25</td>\n",
              "      <td>3.422</td>\n",
              "    </tr>\n",
              "  </tbody>\n",
              "</table>\n",
              "</div>\n",
              "    <div class=\"colab-df-buttons\">\n",
              "\n",
              "  <div class=\"colab-df-container\">\n",
              "    <button class=\"colab-df-convert\" onclick=\"convertToInteractive('df-102fbc1c-a275-4053-aded-bb0206185a17')\"\n",
              "            title=\"Convert this dataframe to an interactive table.\"\n",
              "            style=\"display:none;\">\n",
              "\n",
              "  <svg xmlns=\"http://www.w3.org/2000/svg\" height=\"24px\" viewBox=\"0 -960 960 960\">\n",
              "    <path d=\"M120-120v-720h720v720H120Zm60-500h600v-160H180v160Zm220 220h160v-160H400v160Zm0 220h160v-160H400v160ZM180-400h160v-160H180v160Zm440 0h160v-160H620v160ZM180-180h160v-160H180v160Zm440 0h160v-160H620v160Z\"/>\n",
              "  </svg>\n",
              "    </button>\n",
              "\n",
              "  <style>\n",
              "    .colab-df-container {\n",
              "      display:flex;\n",
              "      gap: 12px;\n",
              "    }\n",
              "\n",
              "    .colab-df-convert {\n",
              "      background-color: #E8F0FE;\n",
              "      border: none;\n",
              "      border-radius: 50%;\n",
              "      cursor: pointer;\n",
              "      display: none;\n",
              "      fill: #1967D2;\n",
              "      height: 32px;\n",
              "      padding: 0 0 0 0;\n",
              "      width: 32px;\n",
              "    }\n",
              "\n",
              "    .colab-df-convert:hover {\n",
              "      background-color: #E2EBFA;\n",
              "      box-shadow: 0px 1px 2px rgba(60, 64, 67, 0.3), 0px 1px 3px 1px rgba(60, 64, 67, 0.15);\n",
              "      fill: #174EA6;\n",
              "    }\n",
              "\n",
              "    .colab-df-buttons div {\n",
              "      margin-bottom: 4px;\n",
              "    }\n",
              "\n",
              "    [theme=dark] .colab-df-convert {\n",
              "      background-color: #3B4455;\n",
              "      fill: #D2E3FC;\n",
              "    }\n",
              "\n",
              "    [theme=dark] .colab-df-convert:hover {\n",
              "      background-color: #434B5C;\n",
              "      box-shadow: 0px 1px 3px 1px rgba(0, 0, 0, 0.15);\n",
              "      filter: drop-shadow(0px 1px 2px rgba(0, 0, 0, 0.3));\n",
              "      fill: #FFFFFF;\n",
              "    }\n",
              "  </style>\n",
              "\n",
              "    <script>\n",
              "      const buttonEl =\n",
              "        document.querySelector('#df-102fbc1c-a275-4053-aded-bb0206185a17 button.colab-df-convert');\n",
              "      buttonEl.style.display =\n",
              "        google.colab.kernel.accessAllowed ? 'block' : 'none';\n",
              "\n",
              "      async function convertToInteractive(key) {\n",
              "        const element = document.querySelector('#df-102fbc1c-a275-4053-aded-bb0206185a17');\n",
              "        const dataTable =\n",
              "          await google.colab.kernel.invokeFunction('convertToInteractive',\n",
              "                                                    [key], {});\n",
              "        if (!dataTable) return;\n",
              "\n",
              "        const docLinkHtml = 'Like what you see? Visit the ' +\n",
              "          '<a target=\"_blank\" href=https://colab.research.google.com/notebooks/data_table.ipynb>data table notebook</a>'\n",
              "          + ' to learn more about interactive tables.';\n",
              "        element.innerHTML = '';\n",
              "        dataTable['output_type'] = 'display_data';\n",
              "        await google.colab.output.renderOutput(dataTable, element);\n",
              "        const docLink = document.createElement('div');\n",
              "        docLink.innerHTML = docLinkHtml;\n",
              "        element.appendChild(docLink);\n",
              "      }\n",
              "    </script>\n",
              "  </div>\n",
              "\n",
              "\n",
              "<div id=\"df-7cb28dc4-25b9-4510-aceb-b9019e0d3218\">\n",
              "  <button class=\"colab-df-quickchart\" onclick=\"quickchart('df-7cb28dc4-25b9-4510-aceb-b9019e0d3218')\"\n",
              "            title=\"Suggest charts\"\n",
              "            style=\"display:none;\">\n",
              "\n",
              "<svg xmlns=\"http://www.w3.org/2000/svg\" height=\"24px\"viewBox=\"0 0 24 24\"\n",
              "     width=\"24px\">\n",
              "    <g>\n",
              "        <path d=\"M19 3H5c-1.1 0-2 .9-2 2v14c0 1.1.9 2 2 2h14c1.1 0 2-.9 2-2V5c0-1.1-.9-2-2-2zM9 17H7v-7h2v7zm4 0h-2V7h2v10zm4 0h-2v-4h2v4z\"/>\n",
              "    </g>\n",
              "</svg>\n",
              "  </button>\n",
              "\n",
              "<style>\n",
              "  .colab-df-quickchart {\n",
              "      --bg-color: #E8F0FE;\n",
              "      --fill-color: #1967D2;\n",
              "      --hover-bg-color: #E2EBFA;\n",
              "      --hover-fill-color: #174EA6;\n",
              "      --disabled-fill-color: #AAA;\n",
              "      --disabled-bg-color: #DDD;\n",
              "  }\n",
              "\n",
              "  [theme=dark] .colab-df-quickchart {\n",
              "      --bg-color: #3B4455;\n",
              "      --fill-color: #D2E3FC;\n",
              "      --hover-bg-color: #434B5C;\n",
              "      --hover-fill-color: #FFFFFF;\n",
              "      --disabled-bg-color: #3B4455;\n",
              "      --disabled-fill-color: #666;\n",
              "  }\n",
              "\n",
              "  .colab-df-quickchart {\n",
              "    background-color: var(--bg-color);\n",
              "    border: none;\n",
              "    border-radius: 50%;\n",
              "    cursor: pointer;\n",
              "    display: none;\n",
              "    fill: var(--fill-color);\n",
              "    height: 32px;\n",
              "    padding: 0;\n",
              "    width: 32px;\n",
              "  }\n",
              "\n",
              "  .colab-df-quickchart:hover {\n",
              "    background-color: var(--hover-bg-color);\n",
              "    box-shadow: 0 1px 2px rgba(60, 64, 67, 0.3), 0 1px 3px 1px rgba(60, 64, 67, 0.15);\n",
              "    fill: var(--button-hover-fill-color);\n",
              "  }\n",
              "\n",
              "  .colab-df-quickchart-complete:disabled,\n",
              "  .colab-df-quickchart-complete:disabled:hover {\n",
              "    background-color: var(--disabled-bg-color);\n",
              "    fill: var(--disabled-fill-color);\n",
              "    box-shadow: none;\n",
              "  }\n",
              "\n",
              "  .colab-df-spinner {\n",
              "    border: 2px solid var(--fill-color);\n",
              "    border-color: transparent;\n",
              "    border-bottom-color: var(--fill-color);\n",
              "    animation:\n",
              "      spin 1s steps(1) infinite;\n",
              "  }\n",
              "\n",
              "  @keyframes spin {\n",
              "    0% {\n",
              "      border-color: transparent;\n",
              "      border-bottom-color: var(--fill-color);\n",
              "      border-left-color: var(--fill-color);\n",
              "    }\n",
              "    20% {\n",
              "      border-color: transparent;\n",
              "      border-left-color: var(--fill-color);\n",
              "      border-top-color: var(--fill-color);\n",
              "    }\n",
              "    30% {\n",
              "      border-color: transparent;\n",
              "      border-left-color: var(--fill-color);\n",
              "      border-top-color: var(--fill-color);\n",
              "      border-right-color: var(--fill-color);\n",
              "    }\n",
              "    40% {\n",
              "      border-color: transparent;\n",
              "      border-right-color: var(--fill-color);\n",
              "      border-top-color: var(--fill-color);\n",
              "    }\n",
              "    60% {\n",
              "      border-color: transparent;\n",
              "      border-right-color: var(--fill-color);\n",
              "    }\n",
              "    80% {\n",
              "      border-color: transparent;\n",
              "      border-right-color: var(--fill-color);\n",
              "      border-bottom-color: var(--fill-color);\n",
              "    }\n",
              "    90% {\n",
              "      border-color: transparent;\n",
              "      border-bottom-color: var(--fill-color);\n",
              "    }\n",
              "  }\n",
              "</style>\n",
              "\n",
              "  <script>\n",
              "    async function quickchart(key) {\n",
              "      const quickchartButtonEl =\n",
              "        document.querySelector('#' + key + ' button');\n",
              "      quickchartButtonEl.disabled = true;  // To prevent multiple clicks.\n",
              "      quickchartButtonEl.classList.add('colab-df-spinner');\n",
              "      try {\n",
              "        const charts = await google.colab.kernel.invokeFunction(\n",
              "            'suggestCharts', [key], {});\n",
              "      } catch (error) {\n",
              "        console.error('Error during call to suggestCharts:', error);\n",
              "      }\n",
              "      quickchartButtonEl.classList.remove('colab-df-spinner');\n",
              "      quickchartButtonEl.classList.add('colab-df-quickchart-complete');\n",
              "    }\n",
              "    (() => {\n",
              "      let quickchartButtonEl =\n",
              "        document.querySelector('#df-7cb28dc4-25b9-4510-aceb-b9019e0d3218 button');\n",
              "      quickchartButtonEl.style.display =\n",
              "        google.colab.kernel.accessAllowed ? 'block' : 'none';\n",
              "    })();\n",
              "  </script>\n",
              "</div>\n",
              "\n",
              "    </div>\n",
              "  </div>\n"
            ]
          },
          "metadata": {},
          "execution_count": 14
        }
      ],
      "source": [
        "# alternative method\n",
        "import pandas as pd\n",
        "from sklearn.datasets import fetch_california_housing\n",
        "\n",
        "X,y = fetch_california_housing(return_X_y=True)\n",
        "\n",
        "housing = fetch_california_housing()\n",
        "housing_df = pd.DataFrame(X, columns=housing.feature_names)\n",
        "housing_df['MedHouseVal'] = housing.target\n",
        "print(housing_df.shape)\n",
        "print(housing_df.info())\n",
        "housing_df.head()"
      ]
    },
    {
      "cell_type": "markdown",
      "id": "898e3324",
      "metadata": {
        "id": "898e3324"
      },
      "source": [
        "### Seaborn\n",
        "\n",
        "* https://seaborn.pydata.org/generated/seaborn.load_dataset.html"
      ]
    },
    {
      "cell_type": "code",
      "execution_count": null,
      "id": "149d2500",
      "metadata": {
        "id": "149d2500",
        "colab": {
          "base_uri": "https://localhost:8080/"
        },
        "outputId": "112d90f4-f0da-4442-8b2e-1726d31db28d"
      },
      "outputs": [
        {
          "output_type": "execute_result",
          "data": {
            "text/plain": [
              "['anagrams',\n",
              " 'anscombe',\n",
              " 'attention',\n",
              " 'brain_networks',\n",
              " 'car_crashes',\n",
              " 'diamonds',\n",
              " 'dots',\n",
              " 'dowjones',\n",
              " 'exercise',\n",
              " 'flights',\n",
              " 'fmri',\n",
              " 'geyser',\n",
              " 'glue',\n",
              " 'healthexp',\n",
              " 'iris',\n",
              " 'mpg',\n",
              " 'penguins',\n",
              " 'planets',\n",
              " 'seaice',\n",
              " 'taxis',\n",
              " 'tips',\n",
              " 'titanic']"
            ]
          },
          "metadata": {},
          "execution_count": 15
        }
      ],
      "source": [
        "# get list of seaborn datasets\n",
        "import seaborn as sns\n",
        "\n",
        "sns.get_dataset_names()"
      ]
    },
    {
      "cell_type": "code",
      "execution_count": null,
      "id": "20ed687d",
      "metadata": {
        "id": "20ed687d",
        "colab": {
          "base_uri": "https://localhost:8080/",
          "height": 518
        },
        "outputId": "51611ceb-93de-4a89-ede9-f42429221a8e"
      },
      "outputs": [
        {
          "output_type": "stream",
          "name": "stdout",
          "text": [
            "(398, 9)\n",
            "<class 'pandas.core.frame.DataFrame'>\n",
            "RangeIndex: 398 entries, 0 to 397\n",
            "Data columns (total 9 columns):\n",
            " #   Column        Non-Null Count  Dtype  \n",
            "---  ------        --------------  -----  \n",
            " 0   mpg           398 non-null    float64\n",
            " 1   cylinders     398 non-null    int64  \n",
            " 2   displacement  398 non-null    float64\n",
            " 3   horsepower    392 non-null    float64\n",
            " 4   weight        398 non-null    int64  \n",
            " 5   acceleration  398 non-null    float64\n",
            " 6   model_year    398 non-null    int64  \n",
            " 7   origin        398 non-null    object \n",
            " 8   name          398 non-null    object \n",
            "dtypes: float64(4), int64(3), object(2)\n",
            "memory usage: 28.1+ KB\n",
            "None\n"
          ]
        },
        {
          "output_type": "execute_result",
          "data": {
            "text/plain": [
              "    mpg  cylinders  displacement  horsepower  weight  acceleration  \\\n",
              "0  18.0          8         307.0       130.0    3504          12.0   \n",
              "1  15.0          8         350.0       165.0    3693          11.5   \n",
              "2  18.0          8         318.0       150.0    3436          11.0   \n",
              "3  16.0          8         304.0       150.0    3433          12.0   \n",
              "4  17.0          8         302.0       140.0    3449          10.5   \n",
              "\n",
              "   model_year origin                       name  \n",
              "0          70    usa  chevrolet chevelle malibu  \n",
              "1          70    usa          buick skylark 320  \n",
              "2          70    usa         plymouth satellite  \n",
              "3          70    usa              amc rebel sst  \n",
              "4          70    usa                ford torino  "
            ],
            "text/html": [
              "\n",
              "  <div id=\"df-e01a2092-52d4-4874-879b-94db5e7bdb5a\" class=\"colab-df-container\">\n",
              "    <div>\n",
              "<style scoped>\n",
              "    .dataframe tbody tr th:only-of-type {\n",
              "        vertical-align: middle;\n",
              "    }\n",
              "\n",
              "    .dataframe tbody tr th {\n",
              "        vertical-align: top;\n",
              "    }\n",
              "\n",
              "    .dataframe thead th {\n",
              "        text-align: right;\n",
              "    }\n",
              "</style>\n",
              "<table border=\"1\" class=\"dataframe\">\n",
              "  <thead>\n",
              "    <tr style=\"text-align: right;\">\n",
              "      <th></th>\n",
              "      <th>mpg</th>\n",
              "      <th>cylinders</th>\n",
              "      <th>displacement</th>\n",
              "      <th>horsepower</th>\n",
              "      <th>weight</th>\n",
              "      <th>acceleration</th>\n",
              "      <th>model_year</th>\n",
              "      <th>origin</th>\n",
              "      <th>name</th>\n",
              "    </tr>\n",
              "  </thead>\n",
              "  <tbody>\n",
              "    <tr>\n",
              "      <th>0</th>\n",
              "      <td>18.0</td>\n",
              "      <td>8</td>\n",
              "      <td>307.0</td>\n",
              "      <td>130.0</td>\n",
              "      <td>3504</td>\n",
              "      <td>12.0</td>\n",
              "      <td>70</td>\n",
              "      <td>usa</td>\n",
              "      <td>chevrolet chevelle malibu</td>\n",
              "    </tr>\n",
              "    <tr>\n",
              "      <th>1</th>\n",
              "      <td>15.0</td>\n",
              "      <td>8</td>\n",
              "      <td>350.0</td>\n",
              "      <td>165.0</td>\n",
              "      <td>3693</td>\n",
              "      <td>11.5</td>\n",
              "      <td>70</td>\n",
              "      <td>usa</td>\n",
              "      <td>buick skylark 320</td>\n",
              "    </tr>\n",
              "    <tr>\n",
              "      <th>2</th>\n",
              "      <td>18.0</td>\n",
              "      <td>8</td>\n",
              "      <td>318.0</td>\n",
              "      <td>150.0</td>\n",
              "      <td>3436</td>\n",
              "      <td>11.0</td>\n",
              "      <td>70</td>\n",
              "      <td>usa</td>\n",
              "      <td>plymouth satellite</td>\n",
              "    </tr>\n",
              "    <tr>\n",
              "      <th>3</th>\n",
              "      <td>16.0</td>\n",
              "      <td>8</td>\n",
              "      <td>304.0</td>\n",
              "      <td>150.0</td>\n",
              "      <td>3433</td>\n",
              "      <td>12.0</td>\n",
              "      <td>70</td>\n",
              "      <td>usa</td>\n",
              "      <td>amc rebel sst</td>\n",
              "    </tr>\n",
              "    <tr>\n",
              "      <th>4</th>\n",
              "      <td>17.0</td>\n",
              "      <td>8</td>\n",
              "      <td>302.0</td>\n",
              "      <td>140.0</td>\n",
              "      <td>3449</td>\n",
              "      <td>10.5</td>\n",
              "      <td>70</td>\n",
              "      <td>usa</td>\n",
              "      <td>ford torino</td>\n",
              "    </tr>\n",
              "  </tbody>\n",
              "</table>\n",
              "</div>\n",
              "    <div class=\"colab-df-buttons\">\n",
              "\n",
              "  <div class=\"colab-df-container\">\n",
              "    <button class=\"colab-df-convert\" onclick=\"convertToInteractive('df-e01a2092-52d4-4874-879b-94db5e7bdb5a')\"\n",
              "            title=\"Convert this dataframe to an interactive table.\"\n",
              "            style=\"display:none;\">\n",
              "\n",
              "  <svg xmlns=\"http://www.w3.org/2000/svg\" height=\"24px\" viewBox=\"0 -960 960 960\">\n",
              "    <path d=\"M120-120v-720h720v720H120Zm60-500h600v-160H180v160Zm220 220h160v-160H400v160Zm0 220h160v-160H400v160ZM180-400h160v-160H180v160Zm440 0h160v-160H620v160ZM180-180h160v-160H180v160Zm440 0h160v-160H620v160Z\"/>\n",
              "  </svg>\n",
              "    </button>\n",
              "\n",
              "  <style>\n",
              "    .colab-df-container {\n",
              "      display:flex;\n",
              "      gap: 12px;\n",
              "    }\n",
              "\n",
              "    .colab-df-convert {\n",
              "      background-color: #E8F0FE;\n",
              "      border: none;\n",
              "      border-radius: 50%;\n",
              "      cursor: pointer;\n",
              "      display: none;\n",
              "      fill: #1967D2;\n",
              "      height: 32px;\n",
              "      padding: 0 0 0 0;\n",
              "      width: 32px;\n",
              "    }\n",
              "\n",
              "    .colab-df-convert:hover {\n",
              "      background-color: #E2EBFA;\n",
              "      box-shadow: 0px 1px 2px rgba(60, 64, 67, 0.3), 0px 1px 3px 1px rgba(60, 64, 67, 0.15);\n",
              "      fill: #174EA6;\n",
              "    }\n",
              "\n",
              "    .colab-df-buttons div {\n",
              "      margin-bottom: 4px;\n",
              "    }\n",
              "\n",
              "    [theme=dark] .colab-df-convert {\n",
              "      background-color: #3B4455;\n",
              "      fill: #D2E3FC;\n",
              "    }\n",
              "\n",
              "    [theme=dark] .colab-df-convert:hover {\n",
              "      background-color: #434B5C;\n",
              "      box-shadow: 0px 1px 3px 1px rgba(0, 0, 0, 0.15);\n",
              "      filter: drop-shadow(0px 1px 2px rgba(0, 0, 0, 0.3));\n",
              "      fill: #FFFFFF;\n",
              "    }\n",
              "  </style>\n",
              "\n",
              "    <script>\n",
              "      const buttonEl =\n",
              "        document.querySelector('#df-e01a2092-52d4-4874-879b-94db5e7bdb5a button.colab-df-convert');\n",
              "      buttonEl.style.display =\n",
              "        google.colab.kernel.accessAllowed ? 'block' : 'none';\n",
              "\n",
              "      async function convertToInteractive(key) {\n",
              "        const element = document.querySelector('#df-e01a2092-52d4-4874-879b-94db5e7bdb5a');\n",
              "        const dataTable =\n",
              "          await google.colab.kernel.invokeFunction('convertToInteractive',\n",
              "                                                    [key], {});\n",
              "        if (!dataTable) return;\n",
              "\n",
              "        const docLinkHtml = 'Like what you see? Visit the ' +\n",
              "          '<a target=\"_blank\" href=https://colab.research.google.com/notebooks/data_table.ipynb>data table notebook</a>'\n",
              "          + ' to learn more about interactive tables.';\n",
              "        element.innerHTML = '';\n",
              "        dataTable['output_type'] = 'display_data';\n",
              "        await google.colab.output.renderOutput(dataTable, element);\n",
              "        const docLink = document.createElement('div');\n",
              "        docLink.innerHTML = docLinkHtml;\n",
              "        element.appendChild(docLink);\n",
              "      }\n",
              "    </script>\n",
              "  </div>\n",
              "\n",
              "\n",
              "<div id=\"df-5a4019b7-87fd-4ab9-91f3-e3b3f483a2fa\">\n",
              "  <button class=\"colab-df-quickchart\" onclick=\"quickchart('df-5a4019b7-87fd-4ab9-91f3-e3b3f483a2fa')\"\n",
              "            title=\"Suggest charts\"\n",
              "            style=\"display:none;\">\n",
              "\n",
              "<svg xmlns=\"http://www.w3.org/2000/svg\" height=\"24px\"viewBox=\"0 0 24 24\"\n",
              "     width=\"24px\">\n",
              "    <g>\n",
              "        <path d=\"M19 3H5c-1.1 0-2 .9-2 2v14c0 1.1.9 2 2 2h14c1.1 0 2-.9 2-2V5c0-1.1-.9-2-2-2zM9 17H7v-7h2v7zm4 0h-2V7h2v10zm4 0h-2v-4h2v4z\"/>\n",
              "    </g>\n",
              "</svg>\n",
              "  </button>\n",
              "\n",
              "<style>\n",
              "  .colab-df-quickchart {\n",
              "      --bg-color: #E8F0FE;\n",
              "      --fill-color: #1967D2;\n",
              "      --hover-bg-color: #E2EBFA;\n",
              "      --hover-fill-color: #174EA6;\n",
              "      --disabled-fill-color: #AAA;\n",
              "      --disabled-bg-color: #DDD;\n",
              "  }\n",
              "\n",
              "  [theme=dark] .colab-df-quickchart {\n",
              "      --bg-color: #3B4455;\n",
              "      --fill-color: #D2E3FC;\n",
              "      --hover-bg-color: #434B5C;\n",
              "      --hover-fill-color: #FFFFFF;\n",
              "      --disabled-bg-color: #3B4455;\n",
              "      --disabled-fill-color: #666;\n",
              "  }\n",
              "\n",
              "  .colab-df-quickchart {\n",
              "    background-color: var(--bg-color);\n",
              "    border: none;\n",
              "    border-radius: 50%;\n",
              "    cursor: pointer;\n",
              "    display: none;\n",
              "    fill: var(--fill-color);\n",
              "    height: 32px;\n",
              "    padding: 0;\n",
              "    width: 32px;\n",
              "  }\n",
              "\n",
              "  .colab-df-quickchart:hover {\n",
              "    background-color: var(--hover-bg-color);\n",
              "    box-shadow: 0 1px 2px rgba(60, 64, 67, 0.3), 0 1px 3px 1px rgba(60, 64, 67, 0.15);\n",
              "    fill: var(--button-hover-fill-color);\n",
              "  }\n",
              "\n",
              "  .colab-df-quickchart-complete:disabled,\n",
              "  .colab-df-quickchart-complete:disabled:hover {\n",
              "    background-color: var(--disabled-bg-color);\n",
              "    fill: var(--disabled-fill-color);\n",
              "    box-shadow: none;\n",
              "  }\n",
              "\n",
              "  .colab-df-spinner {\n",
              "    border: 2px solid var(--fill-color);\n",
              "    border-color: transparent;\n",
              "    border-bottom-color: var(--fill-color);\n",
              "    animation:\n",
              "      spin 1s steps(1) infinite;\n",
              "  }\n",
              "\n",
              "  @keyframes spin {\n",
              "    0% {\n",
              "      border-color: transparent;\n",
              "      border-bottom-color: var(--fill-color);\n",
              "      border-left-color: var(--fill-color);\n",
              "    }\n",
              "    20% {\n",
              "      border-color: transparent;\n",
              "      border-left-color: var(--fill-color);\n",
              "      border-top-color: var(--fill-color);\n",
              "    }\n",
              "    30% {\n",
              "      border-color: transparent;\n",
              "      border-left-color: var(--fill-color);\n",
              "      border-top-color: var(--fill-color);\n",
              "      border-right-color: var(--fill-color);\n",
              "    }\n",
              "    40% {\n",
              "      border-color: transparent;\n",
              "      border-right-color: var(--fill-color);\n",
              "      border-top-color: var(--fill-color);\n",
              "    }\n",
              "    60% {\n",
              "      border-color: transparent;\n",
              "      border-right-color: var(--fill-color);\n",
              "    }\n",
              "    80% {\n",
              "      border-color: transparent;\n",
              "      border-right-color: var(--fill-color);\n",
              "      border-bottom-color: var(--fill-color);\n",
              "    }\n",
              "    90% {\n",
              "      border-color: transparent;\n",
              "      border-bottom-color: var(--fill-color);\n",
              "    }\n",
              "  }\n",
              "</style>\n",
              "\n",
              "  <script>\n",
              "    async function quickchart(key) {\n",
              "      const quickchartButtonEl =\n",
              "        document.querySelector('#' + key + ' button');\n",
              "      quickchartButtonEl.disabled = true;  // To prevent multiple clicks.\n",
              "      quickchartButtonEl.classList.add('colab-df-spinner');\n",
              "      try {\n",
              "        const charts = await google.colab.kernel.invokeFunction(\n",
              "            'suggestCharts', [key], {});\n",
              "      } catch (error) {\n",
              "        console.error('Error during call to suggestCharts:', error);\n",
              "      }\n",
              "      quickchartButtonEl.classList.remove('colab-df-spinner');\n",
              "      quickchartButtonEl.classList.add('colab-df-quickchart-complete');\n",
              "    }\n",
              "    (() => {\n",
              "      let quickchartButtonEl =\n",
              "        document.querySelector('#df-5a4019b7-87fd-4ab9-91f3-e3b3f483a2fa button');\n",
              "      quickchartButtonEl.style.display =\n",
              "        google.colab.kernel.accessAllowed ? 'block' : 'none';\n",
              "    })();\n",
              "  </script>\n",
              "</div>\n",
              "\n",
              "    </div>\n",
              "  </div>\n"
            ]
          },
          "metadata": {},
          "execution_count": 16
        }
      ],
      "source": [
        "# loading seaborn dataset\n",
        "mpg = sns.load_dataset('mpg')\n",
        "print(mpg.shape)\n",
        "print(mpg.info())\n",
        "mpg.head()\n"
      ]
    },
    {
      "cell_type": "code",
      "execution_count": null,
      "id": "8001945a",
      "metadata": {
        "id": "8001945a",
        "colab": {
          "base_uri": "https://localhost:8080/"
        },
        "outputId": "8c3f2dd5-9988-4d4a-a61b-8a7081f92760"
      },
      "outputs": [
        {
          "output_type": "execute_result",
          "data": {
            "text/plain": [
              "array(['usa', 'japan', 'europe'], dtype=object)"
            ]
          },
          "metadata": {},
          "execution_count": 17
        }
      ],
      "source": [
        "# look at origin labels\n",
        "# object Dtype have labels\n",
        "mpg['origin'].unique()"
      ]
    },
    {
      "cell_type": "markdown",
      "id": "fc8f5538",
      "metadata": {
        "id": "fc8f5538"
      },
      "source": [
        "### Online Repositories\n",
        "* https://archive.ics.uci.edu/\n",
        "* http://lib.stat.cmu.edu/datasets/\n",
        "* https://www.kaggle.com/datasets"
      ]
    },
    {
      "cell_type": "code",
      "source": [
        "# UC Irvine Machine Learning Repository example (iris)\n",
        "!pip install ucimlrepo"
      ],
      "metadata": {
        "id": "l32Jruo-KYCf",
        "colab": {
          "base_uri": "https://localhost:8080/"
        },
        "outputId": "564b50cb-e531-4eb9-f955-39c612b3bdf1"
      },
      "id": "l32Jruo-KYCf",
      "execution_count": null,
      "outputs": [
        {
          "output_type": "stream",
          "name": "stdout",
          "text": [
            "Collecting ucimlrepo\n",
            "  Downloading ucimlrepo-0.0.3-py3-none-any.whl (7.0 kB)\n",
            "Installing collected packages: ucimlrepo\n",
            "Successfully installed ucimlrepo-0.0.3\n"
          ]
        }
      ]
    },
    {
      "cell_type": "code",
      "source": [
        "# copy uci's example\n",
        "from ucimlrepo import fetch_ucirepo\n",
        "\n",
        "# fetch dataset\n",
        "iris = fetch_ucirepo(id=53)\n",
        "\n",
        "# data (as pandas dataframes)\n",
        "X = iris.data.features\n",
        "y = iris.data.targets\n",
        "\n",
        "# metadata\n",
        "print(iris.metadata)\n",
        "\n",
        "# variable information\n",
        "print(iris.variables)\n"
      ],
      "metadata": {
        "id": "lr0wLTGOLCcX",
        "colab": {
          "base_uri": "https://localhost:8080/"
        },
        "outputId": "71f7b9e6-6ef6-4aa1-ac45-56d4e95c8acb"
      },
      "id": "lr0wLTGOLCcX",
      "execution_count": null,
      "outputs": [
        {
          "output_type": "stream",
          "name": "stdout",
          "text": [
            "{'uci_id': 53, 'name': 'Iris', 'repository_url': 'https://archive.ics.uci.edu/dataset/53/iris', 'data_url': 'https://archive.ics.uci.edu/static/public/53/data.csv', 'abstract': 'A small classic dataset from Fisher, 1936. One of the earliest known datasets used for evaluating classification methods.\\n', 'area': 'Biology', 'tasks': ['Classification'], 'characteristics': ['Tabular'], 'num_instances': 150, 'num_features': 4, 'feature_types': ['Real'], 'demographics': [], 'target_col': ['class'], 'index_col': None, 'has_missing_values': 'no', 'missing_values_symbol': None, 'year_of_dataset_creation': 1936, 'last_updated': 'Tue Sep 12 2023', 'dataset_doi': '10.24432/C56C76', 'creators': ['R. A. Fisher'], 'intro_paper': {'title': 'The Iris data set: In search of the source of virginica', 'authors': 'A. Unwin, K. Kleinman', 'published_in': 'Significance, 2021', 'year': 2021, 'url': 'https://www.semanticscholar.org/paper/4599862ea877863669a6a8e63a3c707a787d5d7e', 'doi': '1740-9713.01589'}, 'additional_info': {'summary': 'This is one of the earliest datasets used in the literature on classification methods and widely used in statistics and machine learning.  The data set contains 3 classes of 50 instances each, where each class refers to a type of iris plant.  One class is linearly separable from the other 2; the latter are not linearly separable from each other.\\n\\nPredicted attribute: class of iris plant.\\n\\nThis is an exceedingly simple domain.\\n\\nThis data differs from the data presented in Fishers article (identified by Steve Chadwick,  spchadwick@espeedaz.net ).  The 35th sample should be: 4.9,3.1,1.5,0.2,\"Iris-setosa\" where the error is in the fourth feature. The 38th sample: 4.9,3.6,1.4,0.1,\"Iris-setosa\" where the errors are in the second and third features.  ', 'purpose': 'N/A', 'funded_by': None, 'instances_represent': 'Each instance is a plant', 'recommended_data_splits': None, 'sensitive_data': None, 'preprocessing_description': None, 'variable_info': None, 'citation': None}}\n",
            "           name     role         type demographic  \\\n",
            "0  sepal length  Feature   Continuous        None   \n",
            "1   sepal width  Feature   Continuous        None   \n",
            "2  petal length  Feature   Continuous        None   \n",
            "3   petal width  Feature   Continuous        None   \n",
            "4         class   Target  Categorical        None   \n",
            "\n",
            "                                         description units missing_values  \n",
            "0                                               None    cm             no  \n",
            "1                                               None    cm             no  \n",
            "2                                               None    cm             no  \n",
            "3                                               None    cm             no  \n",
            "4  class of iris plant: Iris Setosa, Iris Versico...  None             no  \n"
          ]
        }
      ]
    },
    {
      "cell_type": "code",
      "source": [
        "# create dataframe from uci url\n",
        "import pandas as pd\n",
        "iris_df=pd.read_csv(iris.metadata.data_url)\n",
        "print(iris_df.shape)\n",
        "print(iris_df.info())\n",
        "iris_df.head(20)"
      ],
      "metadata": {
        "id": "ogIP0mEILlHk",
        "colab": {
          "base_uri": "https://localhost:8080/",
          "height": 919
        },
        "outputId": "3ffb5661-78fc-47f1-ea5b-627f29ca3690"
      },
      "id": "ogIP0mEILlHk",
      "execution_count": null,
      "outputs": [
        {
          "output_type": "stream",
          "name": "stdout",
          "text": [
            "(150, 5)\n",
            "<class 'pandas.core.frame.DataFrame'>\n",
            "RangeIndex: 150 entries, 0 to 149\n",
            "Data columns (total 5 columns):\n",
            " #   Column        Non-Null Count  Dtype  \n",
            "---  ------        --------------  -----  \n",
            " 0   sepal length  150 non-null    float64\n",
            " 1   sepal width   150 non-null    float64\n",
            " 2   petal length  150 non-null    float64\n",
            " 3   petal width   150 non-null    float64\n",
            " 4   class         150 non-null    object \n",
            "dtypes: float64(4), object(1)\n",
            "memory usage: 6.0+ KB\n",
            "None\n"
          ]
        },
        {
          "output_type": "execute_result",
          "data": {
            "text/plain": [
              "    sepal length  sepal width  petal length  petal width        class\n",
              "0            5.1          3.5           1.4          0.2  Iris-setosa\n",
              "1            4.9          3.0           1.4          0.2  Iris-setosa\n",
              "2            4.7          3.2           1.3          0.2  Iris-setosa\n",
              "3            4.6          3.1           1.5          0.2  Iris-setosa\n",
              "4            5.0          3.6           1.4          0.2  Iris-setosa\n",
              "5            5.4          3.9           1.7          0.4  Iris-setosa\n",
              "6            4.6          3.4           1.4          0.3  Iris-setosa\n",
              "7            5.0          3.4           1.5          0.2  Iris-setosa\n",
              "8            4.4          2.9           1.4          0.2  Iris-setosa\n",
              "9            4.9          3.1           1.5          0.1  Iris-setosa\n",
              "10           5.4          3.7           1.5          0.2  Iris-setosa\n",
              "11           4.8          3.4           1.6          0.2  Iris-setosa\n",
              "12           4.8          3.0           1.4          0.1  Iris-setosa\n",
              "13           4.3          3.0           1.1          0.1  Iris-setosa\n",
              "14           5.8          4.0           1.2          0.2  Iris-setosa\n",
              "15           5.7          4.4           1.5          0.4  Iris-setosa\n",
              "16           5.4          3.9           1.3          0.4  Iris-setosa\n",
              "17           5.1          3.5           1.4          0.3  Iris-setosa\n",
              "18           5.7          3.8           1.7          0.3  Iris-setosa\n",
              "19           5.1          3.8           1.5          0.3  Iris-setosa"
            ],
            "text/html": [
              "\n",
              "  <div id=\"df-96f0f7ec-2e52-4a8b-9c23-3110494689f9\" class=\"colab-df-container\">\n",
              "    <div>\n",
              "<style scoped>\n",
              "    .dataframe tbody tr th:only-of-type {\n",
              "        vertical-align: middle;\n",
              "    }\n",
              "\n",
              "    .dataframe tbody tr th {\n",
              "        vertical-align: top;\n",
              "    }\n",
              "\n",
              "    .dataframe thead th {\n",
              "        text-align: right;\n",
              "    }\n",
              "</style>\n",
              "<table border=\"1\" class=\"dataframe\">\n",
              "  <thead>\n",
              "    <tr style=\"text-align: right;\">\n",
              "      <th></th>\n",
              "      <th>sepal length</th>\n",
              "      <th>sepal width</th>\n",
              "      <th>petal length</th>\n",
              "      <th>petal width</th>\n",
              "      <th>class</th>\n",
              "    </tr>\n",
              "  </thead>\n",
              "  <tbody>\n",
              "    <tr>\n",
              "      <th>0</th>\n",
              "      <td>5.1</td>\n",
              "      <td>3.5</td>\n",
              "      <td>1.4</td>\n",
              "      <td>0.2</td>\n",
              "      <td>Iris-setosa</td>\n",
              "    </tr>\n",
              "    <tr>\n",
              "      <th>1</th>\n",
              "      <td>4.9</td>\n",
              "      <td>3.0</td>\n",
              "      <td>1.4</td>\n",
              "      <td>0.2</td>\n",
              "      <td>Iris-setosa</td>\n",
              "    </tr>\n",
              "    <tr>\n",
              "      <th>2</th>\n",
              "      <td>4.7</td>\n",
              "      <td>3.2</td>\n",
              "      <td>1.3</td>\n",
              "      <td>0.2</td>\n",
              "      <td>Iris-setosa</td>\n",
              "    </tr>\n",
              "    <tr>\n",
              "      <th>3</th>\n",
              "      <td>4.6</td>\n",
              "      <td>3.1</td>\n",
              "      <td>1.5</td>\n",
              "      <td>0.2</td>\n",
              "      <td>Iris-setosa</td>\n",
              "    </tr>\n",
              "    <tr>\n",
              "      <th>4</th>\n",
              "      <td>5.0</td>\n",
              "      <td>3.6</td>\n",
              "      <td>1.4</td>\n",
              "      <td>0.2</td>\n",
              "      <td>Iris-setosa</td>\n",
              "    </tr>\n",
              "    <tr>\n",
              "      <th>5</th>\n",
              "      <td>5.4</td>\n",
              "      <td>3.9</td>\n",
              "      <td>1.7</td>\n",
              "      <td>0.4</td>\n",
              "      <td>Iris-setosa</td>\n",
              "    </tr>\n",
              "    <tr>\n",
              "      <th>6</th>\n",
              "      <td>4.6</td>\n",
              "      <td>3.4</td>\n",
              "      <td>1.4</td>\n",
              "      <td>0.3</td>\n",
              "      <td>Iris-setosa</td>\n",
              "    </tr>\n",
              "    <tr>\n",
              "      <th>7</th>\n",
              "      <td>5.0</td>\n",
              "      <td>3.4</td>\n",
              "      <td>1.5</td>\n",
              "      <td>0.2</td>\n",
              "      <td>Iris-setosa</td>\n",
              "    </tr>\n",
              "    <tr>\n",
              "      <th>8</th>\n",
              "      <td>4.4</td>\n",
              "      <td>2.9</td>\n",
              "      <td>1.4</td>\n",
              "      <td>0.2</td>\n",
              "      <td>Iris-setosa</td>\n",
              "    </tr>\n",
              "    <tr>\n",
              "      <th>9</th>\n",
              "      <td>4.9</td>\n",
              "      <td>3.1</td>\n",
              "      <td>1.5</td>\n",
              "      <td>0.1</td>\n",
              "      <td>Iris-setosa</td>\n",
              "    </tr>\n",
              "    <tr>\n",
              "      <th>10</th>\n",
              "      <td>5.4</td>\n",
              "      <td>3.7</td>\n",
              "      <td>1.5</td>\n",
              "      <td>0.2</td>\n",
              "      <td>Iris-setosa</td>\n",
              "    </tr>\n",
              "    <tr>\n",
              "      <th>11</th>\n",
              "      <td>4.8</td>\n",
              "      <td>3.4</td>\n",
              "      <td>1.6</td>\n",
              "      <td>0.2</td>\n",
              "      <td>Iris-setosa</td>\n",
              "    </tr>\n",
              "    <tr>\n",
              "      <th>12</th>\n",
              "      <td>4.8</td>\n",
              "      <td>3.0</td>\n",
              "      <td>1.4</td>\n",
              "      <td>0.1</td>\n",
              "      <td>Iris-setosa</td>\n",
              "    </tr>\n",
              "    <tr>\n",
              "      <th>13</th>\n",
              "      <td>4.3</td>\n",
              "      <td>3.0</td>\n",
              "      <td>1.1</td>\n",
              "      <td>0.1</td>\n",
              "      <td>Iris-setosa</td>\n",
              "    </tr>\n",
              "    <tr>\n",
              "      <th>14</th>\n",
              "      <td>5.8</td>\n",
              "      <td>4.0</td>\n",
              "      <td>1.2</td>\n",
              "      <td>0.2</td>\n",
              "      <td>Iris-setosa</td>\n",
              "    </tr>\n",
              "    <tr>\n",
              "      <th>15</th>\n",
              "      <td>5.7</td>\n",
              "      <td>4.4</td>\n",
              "      <td>1.5</td>\n",
              "      <td>0.4</td>\n",
              "      <td>Iris-setosa</td>\n",
              "    </tr>\n",
              "    <tr>\n",
              "      <th>16</th>\n",
              "      <td>5.4</td>\n",
              "      <td>3.9</td>\n",
              "      <td>1.3</td>\n",
              "      <td>0.4</td>\n",
              "      <td>Iris-setosa</td>\n",
              "    </tr>\n",
              "    <tr>\n",
              "      <th>17</th>\n",
              "      <td>5.1</td>\n",
              "      <td>3.5</td>\n",
              "      <td>1.4</td>\n",
              "      <td>0.3</td>\n",
              "      <td>Iris-setosa</td>\n",
              "    </tr>\n",
              "    <tr>\n",
              "      <th>18</th>\n",
              "      <td>5.7</td>\n",
              "      <td>3.8</td>\n",
              "      <td>1.7</td>\n",
              "      <td>0.3</td>\n",
              "      <td>Iris-setosa</td>\n",
              "    </tr>\n",
              "    <tr>\n",
              "      <th>19</th>\n",
              "      <td>5.1</td>\n",
              "      <td>3.8</td>\n",
              "      <td>1.5</td>\n",
              "      <td>0.3</td>\n",
              "      <td>Iris-setosa</td>\n",
              "    </tr>\n",
              "  </tbody>\n",
              "</table>\n",
              "</div>\n",
              "    <div class=\"colab-df-buttons\">\n",
              "\n",
              "  <div class=\"colab-df-container\">\n",
              "    <button class=\"colab-df-convert\" onclick=\"convertToInteractive('df-96f0f7ec-2e52-4a8b-9c23-3110494689f9')\"\n",
              "            title=\"Convert this dataframe to an interactive table.\"\n",
              "            style=\"display:none;\">\n",
              "\n",
              "  <svg xmlns=\"http://www.w3.org/2000/svg\" height=\"24px\" viewBox=\"0 -960 960 960\">\n",
              "    <path d=\"M120-120v-720h720v720H120Zm60-500h600v-160H180v160Zm220 220h160v-160H400v160Zm0 220h160v-160H400v160ZM180-400h160v-160H180v160Zm440 0h160v-160H620v160ZM180-180h160v-160H180v160Zm440 0h160v-160H620v160Z\"/>\n",
              "  </svg>\n",
              "    </button>\n",
              "\n",
              "  <style>\n",
              "    .colab-df-container {\n",
              "      display:flex;\n",
              "      gap: 12px;\n",
              "    }\n",
              "\n",
              "    .colab-df-convert {\n",
              "      background-color: #E8F0FE;\n",
              "      border: none;\n",
              "      border-radius: 50%;\n",
              "      cursor: pointer;\n",
              "      display: none;\n",
              "      fill: #1967D2;\n",
              "      height: 32px;\n",
              "      padding: 0 0 0 0;\n",
              "      width: 32px;\n",
              "    }\n",
              "\n",
              "    .colab-df-convert:hover {\n",
              "      background-color: #E2EBFA;\n",
              "      box-shadow: 0px 1px 2px rgba(60, 64, 67, 0.3), 0px 1px 3px 1px rgba(60, 64, 67, 0.15);\n",
              "      fill: #174EA6;\n",
              "    }\n",
              "\n",
              "    .colab-df-buttons div {\n",
              "      margin-bottom: 4px;\n",
              "    }\n",
              "\n",
              "    [theme=dark] .colab-df-convert {\n",
              "      background-color: #3B4455;\n",
              "      fill: #D2E3FC;\n",
              "    }\n",
              "\n",
              "    [theme=dark] .colab-df-convert:hover {\n",
              "      background-color: #434B5C;\n",
              "      box-shadow: 0px 1px 3px 1px rgba(0, 0, 0, 0.15);\n",
              "      filter: drop-shadow(0px 1px 2px rgba(0, 0, 0, 0.3));\n",
              "      fill: #FFFFFF;\n",
              "    }\n",
              "  </style>\n",
              "\n",
              "    <script>\n",
              "      const buttonEl =\n",
              "        document.querySelector('#df-96f0f7ec-2e52-4a8b-9c23-3110494689f9 button.colab-df-convert');\n",
              "      buttonEl.style.display =\n",
              "        google.colab.kernel.accessAllowed ? 'block' : 'none';\n",
              "\n",
              "      async function convertToInteractive(key) {\n",
              "        const element = document.querySelector('#df-96f0f7ec-2e52-4a8b-9c23-3110494689f9');\n",
              "        const dataTable =\n",
              "          await google.colab.kernel.invokeFunction('convertToInteractive',\n",
              "                                                    [key], {});\n",
              "        if (!dataTable) return;\n",
              "\n",
              "        const docLinkHtml = 'Like what you see? Visit the ' +\n",
              "          '<a target=\"_blank\" href=https://colab.research.google.com/notebooks/data_table.ipynb>data table notebook</a>'\n",
              "          + ' to learn more about interactive tables.';\n",
              "        element.innerHTML = '';\n",
              "        dataTable['output_type'] = 'display_data';\n",
              "        await google.colab.output.renderOutput(dataTable, element);\n",
              "        const docLink = document.createElement('div');\n",
              "        docLink.innerHTML = docLinkHtml;\n",
              "        element.appendChild(docLink);\n",
              "      }\n",
              "    </script>\n",
              "  </div>\n",
              "\n",
              "\n",
              "<div id=\"df-1dc87248-183e-4233-b028-e8a3985650e5\">\n",
              "  <button class=\"colab-df-quickchart\" onclick=\"quickchart('df-1dc87248-183e-4233-b028-e8a3985650e5')\"\n",
              "            title=\"Suggest charts\"\n",
              "            style=\"display:none;\">\n",
              "\n",
              "<svg xmlns=\"http://www.w3.org/2000/svg\" height=\"24px\"viewBox=\"0 0 24 24\"\n",
              "     width=\"24px\">\n",
              "    <g>\n",
              "        <path d=\"M19 3H5c-1.1 0-2 .9-2 2v14c0 1.1.9 2 2 2h14c1.1 0 2-.9 2-2V5c0-1.1-.9-2-2-2zM9 17H7v-7h2v7zm4 0h-2V7h2v10zm4 0h-2v-4h2v4z\"/>\n",
              "    </g>\n",
              "</svg>\n",
              "  </button>\n",
              "\n",
              "<style>\n",
              "  .colab-df-quickchart {\n",
              "      --bg-color: #E8F0FE;\n",
              "      --fill-color: #1967D2;\n",
              "      --hover-bg-color: #E2EBFA;\n",
              "      --hover-fill-color: #174EA6;\n",
              "      --disabled-fill-color: #AAA;\n",
              "      --disabled-bg-color: #DDD;\n",
              "  }\n",
              "\n",
              "  [theme=dark] .colab-df-quickchart {\n",
              "      --bg-color: #3B4455;\n",
              "      --fill-color: #D2E3FC;\n",
              "      --hover-bg-color: #434B5C;\n",
              "      --hover-fill-color: #FFFFFF;\n",
              "      --disabled-bg-color: #3B4455;\n",
              "      --disabled-fill-color: #666;\n",
              "  }\n",
              "\n",
              "  .colab-df-quickchart {\n",
              "    background-color: var(--bg-color);\n",
              "    border: none;\n",
              "    border-radius: 50%;\n",
              "    cursor: pointer;\n",
              "    display: none;\n",
              "    fill: var(--fill-color);\n",
              "    height: 32px;\n",
              "    padding: 0;\n",
              "    width: 32px;\n",
              "  }\n",
              "\n",
              "  .colab-df-quickchart:hover {\n",
              "    background-color: var(--hover-bg-color);\n",
              "    box-shadow: 0 1px 2px rgba(60, 64, 67, 0.3), 0 1px 3px 1px rgba(60, 64, 67, 0.15);\n",
              "    fill: var(--button-hover-fill-color);\n",
              "  }\n",
              "\n",
              "  .colab-df-quickchart-complete:disabled,\n",
              "  .colab-df-quickchart-complete:disabled:hover {\n",
              "    background-color: var(--disabled-bg-color);\n",
              "    fill: var(--disabled-fill-color);\n",
              "    box-shadow: none;\n",
              "  }\n",
              "\n",
              "  .colab-df-spinner {\n",
              "    border: 2px solid var(--fill-color);\n",
              "    border-color: transparent;\n",
              "    border-bottom-color: var(--fill-color);\n",
              "    animation:\n",
              "      spin 1s steps(1) infinite;\n",
              "  }\n",
              "\n",
              "  @keyframes spin {\n",
              "    0% {\n",
              "      border-color: transparent;\n",
              "      border-bottom-color: var(--fill-color);\n",
              "      border-left-color: var(--fill-color);\n",
              "    }\n",
              "    20% {\n",
              "      border-color: transparent;\n",
              "      border-left-color: var(--fill-color);\n",
              "      border-top-color: var(--fill-color);\n",
              "    }\n",
              "    30% {\n",
              "      border-color: transparent;\n",
              "      border-left-color: var(--fill-color);\n",
              "      border-top-color: var(--fill-color);\n",
              "      border-right-color: var(--fill-color);\n",
              "    }\n",
              "    40% {\n",
              "      border-color: transparent;\n",
              "      border-right-color: var(--fill-color);\n",
              "      border-top-color: var(--fill-color);\n",
              "    }\n",
              "    60% {\n",
              "      border-color: transparent;\n",
              "      border-right-color: var(--fill-color);\n",
              "    }\n",
              "    80% {\n",
              "      border-color: transparent;\n",
              "      border-right-color: var(--fill-color);\n",
              "      border-bottom-color: var(--fill-color);\n",
              "    }\n",
              "    90% {\n",
              "      border-color: transparent;\n",
              "      border-bottom-color: var(--fill-color);\n",
              "    }\n",
              "  }\n",
              "</style>\n",
              "\n",
              "  <script>\n",
              "    async function quickchart(key) {\n",
              "      const quickchartButtonEl =\n",
              "        document.querySelector('#' + key + ' button');\n",
              "      quickchartButtonEl.disabled = true;  // To prevent multiple clicks.\n",
              "      quickchartButtonEl.classList.add('colab-df-spinner');\n",
              "      try {\n",
              "        const charts = await google.colab.kernel.invokeFunction(\n",
              "            'suggestCharts', [key], {});\n",
              "      } catch (error) {\n",
              "        console.error('Error during call to suggestCharts:', error);\n",
              "      }\n",
              "      quickchartButtonEl.classList.remove('colab-df-spinner');\n",
              "      quickchartButtonEl.classList.add('colab-df-quickchart-complete');\n",
              "    }\n",
              "    (() => {\n",
              "      let quickchartButtonEl =\n",
              "        document.querySelector('#df-1dc87248-183e-4233-b028-e8a3985650e5 button');\n",
              "      quickchartButtonEl.style.display =\n",
              "        google.colab.kernel.accessAllowed ? 'block' : 'none';\n",
              "    })();\n",
              "  </script>\n",
              "</div>\n",
              "\n",
              "    </div>\n",
              "  </div>\n"
            ]
          },
          "metadata": {},
          "execution_count": 22
        }
      ]
    },
    {
      "cell_type": "markdown",
      "id": "64377d9a",
      "metadata": {
        "id": "64377d9a"
      },
      "source": [
        "### .csv\n",
        "\n",
        "Get Advertising.csv from dataset repository and put it into session storage"
      ]
    },
    {
      "cell_type": "code",
      "execution_count": null,
      "id": "bcab4d37",
      "metadata": {
        "id": "bcab4d37"
      },
      "outputs": [],
      "source": [
        "# put advertising dataset into session"
      ]
    },
    {
      "cell_type": "code",
      "execution_count": null,
      "id": "47e1364a",
      "metadata": {
        "id": "47e1364a"
      },
      "outputs": [],
      "source": [
        "# use cols"
      ]
    },
    {
      "cell_type": "markdown",
      "id": "abb57721",
      "metadata": {
        "id": "abb57721"
      },
      "source": [
        "### .data\n",
        "\n",
        "get auto-mpg.data from class repository"
      ]
    },
    {
      "cell_type": "code",
      "execution_count": null,
      "id": "2bc209c1",
      "metadata": {
        "id": "2bc209c1"
      },
      "outputs": [],
      "source": [
        "# sep data example\n"
      ]
    },
    {
      "cell_type": "code",
      "execution_count": null,
      "id": "a7207616",
      "metadata": {
        "id": "a7207616"
      },
      "outputs": [],
      "source": [
        "# reading from url\n"
      ]
    },
    {
      "cell_type": "markdown",
      "id": "9dc32dfd",
      "metadata": {
        "id": "9dc32dfd"
      },
      "source": [
        "### Simulated Data"
      ]
    },
    {
      "cell_type": "code",
      "execution_count": null,
      "id": "aa2a0947",
      "metadata": {
        "id": "aa2a0947"
      },
      "outputs": [],
      "source": [
        "# example with make_regression with noise=0\n"
      ]
    },
    {
      "cell_type": "code",
      "execution_count": null,
      "id": "1af1f358",
      "metadata": {
        "id": "1af1f358"
      },
      "outputs": [],
      "source": [
        "# example with make_regression with noise=50\n"
      ]
    },
    {
      "cell_type": "markdown",
      "id": "cbf36cc1",
      "metadata": {
        "id": "cbf36cc1"
      },
      "source": [
        "### Using a Codebook\n",
        "\n",
        "https://www.kaggle.com/rhuebner/human-resources-data-set<br />\n",
        "https://rpubs.com/rhuebner/hrd_cb_v14"
      ]
    },
    {
      "cell_type": "markdown",
      "id": "cfbdf963",
      "metadata": {
        "id": "cfbdf963"
      },
      "source": [
        "### Excel: Text to Column\n",
        "\n",
        "* Download the student.zip file from http://archive.ics.uci.edu/ml/machine-learning-databases/00320/\n",
        "* Unzip to an appropriate folder, and open student-mat.csv in Excel (HINT: Right-click on student-mat.csv and choose Open with Excel)\n",
        "* Save this file as student-mat.xlsx\n",
        "* Use Text to Column to format data\n",
        "* HINT: select all the data in the first column before using Text to Column and then use the semicolon as the Delimiter"
      ]
    },
    {
      "cell_type": "markdown",
      "source": [
        "## Sampling\n",
        "\n",
        "According to Wikipedia (2022):\n",
        "\n",
        ">  Sampling is the selection of a subset (a statistical sample) of individuals from within a statistical population [similar elements] to estimate characteristics of the whole population (para 1).\n",
        "\n",
        "Sampling. (2022, January 24). In *Wikipedia*.https://en.wikipedia.org/wiki/Sampling_(statistics)\n",
        "\n",
        "### Probabilistic Sampling\n",
        "\n",
        "* Simple random sampling: https://www.statisticshowto.com/probability-and-statistics/statistics-definitions/simple-random-sample/\n",
        "* Systematic sampling: https://www.open.edu/openlearncreate/mod/oucontent/view.php?id=233&section=1.5.2\n",
        "* Stratified sampling: https://www.geeksforgeeks.org/stratified-sampling-in-pandas/\n",
        "* Clustering: https://www.voxco.com/blog/stratified-sampling-vs-cluster-sampling/\n",
        "\n",
        "### Non-Probabilistic Sampling Methods\n",
        "\n",
        "https://www.analyticsvidhya.com/blog/2019/09/data-scientists-guide-8-types-of-sampling-techniques/\n",
        "* Convenience sampling\n",
        "* Quota sampling\n",
        "* Snowball sampling\n"
      ],
      "metadata": {
        "id": "FAAleOeJ8gfW"
      },
      "id": "FAAleOeJ8gfW"
    },
    {
      "cell_type": "code",
      "source": [
        "# numpy's random module\n"
      ],
      "metadata": {
        "id": "jJuaqE2dHx7S"
      },
      "id": "jJuaqE2dHx7S",
      "execution_count": null,
      "outputs": []
    },
    {
      "cell_type": "code",
      "source": [
        "# create population\n",
        "# https://stats.stackexchange.com/questions/560281/what-is-the-meaning-of-loc-and-scale-for-the-distributions-in-scipy-stats\n"
      ],
      "metadata": {
        "id": "3dJZH-zN_aL3"
      },
      "id": "3dJZH-zN_aL3",
      "execution_count": null,
      "outputs": []
    },
    {
      "cell_type": "code",
      "source": [
        "# random sample\n"
      ],
      "metadata": {
        "id": "1QcGSMjqBn1L"
      },
      "id": "1QcGSMjqBn1L",
      "execution_count": null,
      "outputs": []
    },
    {
      "cell_type": "code",
      "source": [
        "# matrix of rows and columns\n"
      ],
      "metadata": {
        "id": "DMa7xaH8HjPK"
      },
      "id": "DMa7xaH8HjPK",
      "execution_count": null,
      "outputs": []
    },
    {
      "cell_type": "code",
      "source": [
        "# slicing col [row, col]\n"
      ],
      "metadata": {
        "id": "Fm-Kh5CFHQDj"
      },
      "id": "Fm-Kh5CFHQDj",
      "execution_count": null,
      "outputs": []
    },
    {
      "cell_type": "code",
      "source": [
        "# slicing row [row start: end, col]\n"
      ],
      "metadata": {
        "id": "zUvADxyPIT3r"
      },
      "id": "zUvADxyPIT3r",
      "execution_count": null,
      "outputs": []
    },
    {
      "cell_type": "code",
      "source": [
        "# slicing [row start: end, col start: end]\n"
      ],
      "metadata": {
        "id": "CqOYV7gRIrbs"
      },
      "id": "CqOYV7gRIrbs",
      "execution_count": null,
      "outputs": []
    },
    {
      "cell_type": "code",
      "source": [
        "# slicing [row start: end, col start: end]\n"
      ],
      "metadata": {
        "id": "U1bgmCmBI6Gq"
      },
      "id": "U1bgmCmBI6Gq",
      "execution_count": null,
      "outputs": []
    },
    {
      "cell_type": "code",
      "source": [
        "# systematic sampling [start, end, interval]\n"
      ],
      "metadata": {
        "id": "BAZjFL2mJc1W"
      },
      "id": "BAZjFL2mJc1W",
      "execution_count": null,
      "outputs": []
    },
    {
      "cell_type": "code",
      "source": [
        "# cluster sampling\n"
      ],
      "metadata": {
        "id": "UwgPh7LkTvAU"
      },
      "id": "UwgPh7LkTvAU",
      "execution_count": null,
      "outputs": []
    },
    {
      "cell_type": "code",
      "source": [
        "# weighted"
      ],
      "metadata": {
        "id": "4yOYSUtenEaw"
      },
      "id": "4yOYSUtenEaw",
      "execution_count": null,
      "outputs": []
    },
    {
      "cell_type": "code",
      "source": [
        "# stratified"
      ],
      "metadata": {
        "id": "m7vWFDGNnGaI"
      },
      "id": "m7vWFDGNnGaI",
      "execution_count": null,
      "outputs": []
    },
    {
      "cell_type": "markdown",
      "source": [
        "## Bias\n",
        "* Selection bias: How did a politician win?\n",
        "* Publication bias: Video games do not cause colon cancer vs. spending a lot of time playing video games do have a lower incidence of colon cancer\n",
        "* Recall bias: Memory is selective\n",
        "* Survivorship bias: Students did better on tests each of their four years (those that didn't do so well dropped out)\n",
        "\n",
        "Example of a Texas school district needing good scores on a standard achievement test given in 10th grade so they held back poor performers in 9th grade and then bumped them up to 11th grade after a couple of years"
      ],
      "metadata": {
        "id": "lxDwuP4VNJyD"
      },
      "id": "lxDwuP4VNJyD"
    },
    {
      "cell_type": "markdown",
      "source": [
        "## Big Data\n",
        "\n",
        "How Data Happened, Wiggins and Jones\n",
        "\n",
        "* Better tools, services, and public goods or privacy incursions and invasive marketing?\n",
        "* Understand online communities and political movements or track protesters and suppress speech?\n",
        "* Transform how we study human communication and culture or narrow research options and alter what research means?\n",
        "* Tendency with too much data is selecting what we like and ignoring the rest\n",
        "* Whiteout like a snowstorm blinds us from the signal, or presents to many signals, start seeing patterns in random noise\n",
        "* Noise is increasing faster than information\n",
        "* As Nate Silvers says in his book Signal in the Noise, noise distracts us from the truth (objective truth?)\n",
        "* Objective Truth is what exists and can be proved in this physicality. (The sun moves across the sky each day.)\n",
        "* Normative Truth is what we, as a group, agree is true. (English speakers agreed to use the word day to name that time when the sky is lit by the sun.)\n",
        "* Subjective Truth is how the individual sees or experiences the world. (Today is a good day for me.)\n",
        "* Complex Truth recognizes the validity of all those truths and allows you to focus on the one is most useful at any given time. (The sun is up; the day is bright. Today is a good day for MOM, so lets take advantage of that and ask for ice cream for dinner.)\n",
        "* An objective statement is factual; it has a definite correspondence to reality, independent of anyone's feelings or biases.\n",
        "* The distinction between subjectivity and objectivity is a basic idea of philosophy, particularly epistemology and metaphysics. It is often related to discussions of consciousness, agency, personhood, philosophy of mind, philosophy of language, reality, truth, and communication.\n",
        "\n",
        "Resources:\n",
        "\n",
        "* https://www.hsdinstitute.org/resources/four-truths.html\n",
        "* https://www.gotquestions.org/objective-truth.html\n",
        "* https://en.wikipedia.org/wiki/Subjectivity_and_objectivity_(philosophy)\n"
      ],
      "metadata": {
        "id": "YYp3ofIBWNPu"
      },
      "id": "YYp3ofIBWNPu"
    },
    {
      "cell_type": "markdown",
      "source": [
        "## Randomized Controlled Trials (RCTs or AB Testing), Multicollinearity, and Confounders\n",
        "\n",
        "Child's shoe size and reading level is correlated but consider the child's age\n",
        "\n",
        "* Randomized Controlled Trial: A study design that randomly assigns participants into an experimental group or a control group. As the study is conducted, the only expected difference between the control and experimental groups in a randomized controlled trial (RCT) is the outcome variable being studied.\n",
        "* Multicollinearity: two or more independent variables are correlated with each other\n",
        "    * Removing variables?\n",
        "* Confounders\n",
        "  * An extraneous variable whose presence affects the variables being studied so that the results do not reflect the actual relationship between the variables under study.\n",
        "  * A variable that influences both the dependent variable and independent variable, causing a spurious association.\n",
        "* Lurking variable\n",
        "  * A lurking variable is a variable that is not included in a statistical analysis but can still affect the outcome of that analysis\n",
        "* Statistical Control\n",
        "    * Variables may be controlled directly by holding them constant throughout a study\n",
        "    * This hurts confounders as they share a relationship for what's being controlled\n",
        "    * Confounders need to be considered in the big picture\n",
        "    * Sometimes you end up controlling the thing you are trying to measure (Ezra Klein)\n",
        "    \n",
        "Sources:\n",
        "* https://himmelfarb.gwu.edu/tutorials/studydesign101/rcts.cfm\n",
        "* https://harini.blog/2021/10/10/understanding-multicollinearity-and-condounding-variables-in-regression/\n",
        "* https://statisticsbyjim.com/basics/lurking-variable/"
      ],
      "metadata": {
        "id": "s7IcZ-57Vj7c"
      },
      "id": "s7IcZ-57Vj7c"
    },
    {
      "cell_type": "markdown",
      "source": [
        "## Data Types\n",
        "\n",
        "* Numerical: has measurement\n",
        "    * Discrete: can be counted (number of people in a class)\n",
        "    * Continuous: described as a measurement (height, weight, temps), usually rounded off\n",
        "* Categorical: some type of group, category, that can be represented by a number (female: 1, male: 2) but have no mathematical meaning\n",
        "* Nominal: named or labeled (31 flavors)\n",
        "* Ordinal: ordered or scaled (first, second, etc, very happy, happy, meh, sad, very sad)\n",
        "* Cardinal: the number of things, counted (1, 2, 3, 4, 6, etc)\n",
        "* Interval: ordered numbers with equal distances (50 degrees, 60 degrees, etc)\n",
        "* Ratio: has a true zero (can't have height of -2 inches, distance between 1 and 2 is the same as 3 and 4 and 4 is twice 2)"
      ],
      "metadata": {
        "id": "U5kgmdYGVFSY"
      },
      "id": "U5kgmdYGVFSY"
    },
    {
      "cell_type": "markdown",
      "id": "25d38de3",
      "metadata": {
        "id": "25d38de3"
      },
      "source": [
        "## Types in Python and Casting\n",
        "\n",
        "Converting values from one type to another"
      ]
    },
    {
      "cell_type": "code",
      "execution_count": null,
      "id": "43200d04",
      "metadata": {
        "id": "43200d04"
      },
      "outputs": [],
      "source": [
        "# examples of type and conversion of types https://www.w3schools.com/python/python_casting.asp\n"
      ]
    },
    {
      "cell_type": "markdown",
      "id": "07eee1a2",
      "metadata": {
        "id": "07eee1a2"
      },
      "source": [
        "## Three Types of Data Analysis"
      ]
    },
    {
      "cell_type": "markdown",
      "id": "78b44513",
      "metadata": {
        "id": "78b44513"
      },
      "source": [
        "### Univariate Analysis\n",
        "\n",
        "According to Wikipedia (2022):\n",
        "\n",
        ">  Univariate analysis is the simplest form of analyzing data. Uni means one, so in other words the data has only one variable. Univariate data requires to analyze each variable separately. Data is gathered for the purpose of answering a question, or more specifically, a research question. Univariate data does not answer research questions about relationships between variables, but rather it is used to describe one characteristic or attribute that varies from observation to observation (para 4).\n",
        "\n",
        "Univariate (statistics). (2022, January 24). In *Wikipedia*. https://en.wikipedia.org/wiki/Univariate_(statistics)."
      ]
    },
    {
      "cell_type": "markdown",
      "id": "19efe84f",
      "metadata": {
        "id": "19efe84f"
      },
      "source": [
        "### Note About read_csv\n",
        "\n",
        "* https://pandas.pydata.org/docs/reference/api/pandas.read_csv.html\n",
        "* ',' is default since csv is used in the method name\n",
        "* Defining our sep such as \\s+"
      ]
    },
    {
      "cell_type": "code",
      "execution_count": null,
      "id": "efd61fa9",
      "metadata": {
        "id": "efd61fa9"
      },
      "outputs": [],
      "source": [
        "# auto-mpg.data from class repository"
      ]
    },
    {
      "cell_type": "code",
      "execution_count": null,
      "id": "57808e3d",
      "metadata": {
        "id": "57808e3d"
      },
      "outputs": [],
      "source": [
        "# shape and info\n"
      ]
    },
    {
      "cell_type": "code",
      "execution_count": null,
      "id": "9c6dd7c9",
      "metadata": {
        "id": "9c6dd7c9"
      },
      "outputs": [],
      "source": [
        "# example of univariate histogram\n"
      ]
    },
    {
      "cell_type": "code",
      "execution_count": null,
      "id": "0c116d01",
      "metadata": {
        "id": "0c116d01"
      },
      "outputs": [],
      "source": [
        "# example of univariate pie chart\n"
      ]
    },
    {
      "cell_type": "markdown",
      "id": "5e64c95b",
      "metadata": {
        "id": "5e64c95b"
      },
      "source": [
        "### Bivariate Analysis\n",
        "\n",
        "* Used to describe the relationship between two variables such as between a feature and the target\n",
        "* The green lines show the numeric value of the means of the two variables\n",
        "* We lose confidence the further we get from where the two means cross\n",
        "\n",
        "Confidence intervals are about parameters not samples; e.g. the majority of the points in the OP's image are not within the shaded area (also seaborn uses 95% CIs by default). a better intuition in this example is that the data is consistent with any slope that passes through the CI. The reason it expands at the ends is because the data gives \"less information\" there.\n",
        "\n",
        "https://stackoverflow.com/questions/62167783/what-does-the-background-area-mean-in-seaborn-regression-plot\n",
        "\n",
        "If I construct a CI at some point x (slope), then I'm 95% confident that the regression line (not necessarily the mean) will be in the interval, vs the true population mean which is a fixed unknown value that is either inside or outside the CI with 100% certainty."
      ]
    },
    {
      "cell_type": "code",
      "execution_count": null,
      "id": "26751986",
      "metadata": {
        "id": "26751986"
      },
      "outputs": [],
      "source": [
        "# bivariate scatter plot\n"
      ]
    },
    {
      "cell_type": "markdown",
      "id": "2571c261",
      "metadata": {
        "id": "2571c261"
      },
      "source": [
        "### Multivariate Analysis\n",
        "\n",
        "Analysis using more than two variables"
      ]
    },
    {
      "cell_type": "code",
      "execution_count": null,
      "id": "f8fcb34d",
      "metadata": {
        "id": "f8fcb34d"
      },
      "outputs": [],
      "source": [
        "# showing correlation of multiple features with one target\n",
        "# ['displacement', 'horsepower', 'weight', 'acceleration']\n"
      ]
    },
    {
      "cell_type": "markdown",
      "id": "b9e3d107",
      "metadata": {
        "id": "b9e3d107"
      },
      "source": [
        "## Feature and Target Names\n",
        "<table align=\"left\">\n",
        "    <tr>\n",
        "        <th>Independent Variables (X)</th>\n",
        "        <th>Dependent Variable (y)</th>\n",
        "    <tr>\n",
        "    <tr>\n",
        "        <td>Features</td>\n",
        "        <td>Target</td>\n",
        "    </tr>\n",
        "    <tr>\n",
        "        <td>Regressors</td>\n",
        "        <td>Regressand</td>\n",
        "    </tr>\n",
        "    <tr>\n",
        "        <td>Predictors</td>\n",
        "        <td>Response</td>\n",
        "    </tr>\n",
        "    <tr>\n",
        "        <td>Observations</td>\n",
        "        <td>Outcomes</td>\n",
        "    </tr>\n",
        "    <tr>\n",
        "        <td>Explanatory</td>\n",
        "        <td>Labels</td>\n",
        "    </tr>\n",
        "    <tr>\n",
        "        <td>Input</td>\n",
        "        <td>Output</td>\n",
        "    </tr>\n",
        "    <tr>\n",
        "        <td>exog (exogenous)</td>\n",
        "        <td>endog (endogenous)</td>\n",
        "    </tr>\n",
        "</table>"
      ]
    },
    {
      "cell_type": "markdown",
      "id": "cee1b272",
      "metadata": {
        "id": "cee1b272"
      },
      "source": [
        "## Predictive Model Example"
      ]
    },
    {
      "cell_type": "code",
      "execution_count": null,
      "id": "7e59a858",
      "metadata": {
        "id": "7e59a858"
      },
      "outputs": [],
      "source": [
        "# complete a bare bone predictive model for the auto_mpg dataset using only the numeric data and identify problems\n",
        "# https://raw.githubusercontent.com/gitmystuff/Datasets/main/auto-mpg.data\n",
        "# ['mpg', 'cylinders', 'displacement', 'horsepower', 'weight', 'acceleration', 'model year', 'origin',  'car name']\n"
      ]
    },
    {
      "cell_type": "code",
      "execution_count": null,
      "id": "1fe327ae",
      "metadata": {
        "id": "1fe327ae"
      },
      "outputs": [],
      "source": [
        "# description\n"
      ]
    },
    {
      "cell_type": "code",
      "source": [
        "# check for non-numeric values"
      ],
      "metadata": {
        "id": "usByco-35f5S"
      },
      "id": "usByco-35f5S",
      "execution_count": null,
      "outputs": []
    },
    {
      "cell_type": "code",
      "source": [
        "# what is a mask"
      ],
      "metadata": {
        "id": "ZcDfK0bR5i-r"
      },
      "id": "ZcDfK0bR5i-r",
      "execution_count": null,
      "outputs": []
    },
    {
      "cell_type": "code",
      "execution_count": null,
      "id": "385f94d8",
      "metadata": {
        "id": "385f94d8"
      },
      "outputs": [],
      "source": [
        "# correct horsepower\n"
      ]
    },
    {
      "cell_type": "code",
      "execution_count": null,
      "id": "c0a5b3d5",
      "metadata": {
        "id": "c0a5b3d5"
      },
      "outputs": [],
      "source": [
        "# just use ['displacement', 'horsepower', 'weight', 'acceleration']\n"
      ]
    },
    {
      "cell_type": "code",
      "execution_count": null,
      "id": "ccdd8777",
      "metadata": {
        "id": "ccdd8777"
      },
      "outputs": [],
      "source": [
        "# some descriptives\n"
      ]
    },
    {
      "cell_type": "code",
      "execution_count": null,
      "id": "6fd134eb",
      "metadata": {
        "id": "6fd134eb"
      },
      "outputs": [],
      "source": [
        "# show histograms\n"
      ]
    },
    {
      "cell_type": "code",
      "execution_count": null,
      "id": "f6c78376",
      "metadata": {
        "id": "f6c78376"
      },
      "outputs": [],
      "source": [
        "# train test split (next week)\n"
      ]
    },
    {
      "cell_type": "code",
      "execution_count": null,
      "id": "eb00325c",
      "metadata": {
        "id": "eb00325c"
      },
      "outputs": [],
      "source": [
        "# train and test model\n"
      ]
    }
  ],
  "metadata": {
    "kernelspec": {
      "display_name": "Python 3 (ipykernel)",
      "language": "python",
      "name": "python3"
    },
    "language_info": {
      "codemirror_mode": {
        "name": "ipython",
        "version": 3
      },
      "file_extension": ".py",
      "mimetype": "text/x-python",
      "name": "python",
      "nbconvert_exporter": "python",
      "pygments_lexer": "ipython3",
      "version": "3.9.7"
    },
    "colab": {
      "provenance": [],
      "include_colab_link": true
    }
  },
  "nbformat": 4,
  "nbformat_minor": 5
}