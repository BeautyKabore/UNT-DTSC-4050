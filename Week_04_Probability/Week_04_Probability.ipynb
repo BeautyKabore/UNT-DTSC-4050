{
  "cells": [
    {
      "cell_type": "markdown",
      "metadata": {
        "id": "view-in-github",
        "colab_type": "text"
      },
      "source": [
        "<a href=\"https://colab.research.google.com/github/BeautyKabore/UNT-DTSC-4050/blob/main/Week_04_Probability/Week_04_Probability.ipynb\" target=\"_parent\"><img src=\"https://colab.research.google.com/assets/colab-badge.svg\" alt=\"Open In Colab\"/></a>"
      ]
    },
    {
      "cell_type": "markdown",
      "id": "69574c84",
      "metadata": {
        "id": "69574c84"
      },
      "source": [
        "# Week 04: Probability\n",
        "\n",
        "Beauty Kabore\n",
        "\n"
      ]
    },
    {
      "cell_type": "markdown",
      "source": [
        "## Getting Started\n",
        "\n",
        "* Colab - get notebook from gitmystuff DTSC4050 repository\n",
        "* Save a Copy in Drive\n",
        "* Remove Copy of\n",
        "* Edit name\n",
        "* Take attendance\n",
        "* Clean up Colab Notebooks folder\n",
        "* Submit shared link"
      ],
      "metadata": {
        "id": "viWAvWLuypdV"
      },
      "id": "viWAvWLuypdV"
    },
    {
      "cell_type": "markdown",
      "source": [
        "## Introduction\n",
        "\n",
        "* Deterministic programs focus on inputs and outputs (yes and no)\n",
        "* Probabilistic programs focus on decisions under uncertainty (well, maybe, perhaps, it could happen)\n",
        "* Random variables are used to represent uncertainty in that they represent the possible outcomes of a random experiment\n",
        "* The probability of a random variable (flipping a coin, the roll of a die)\n",
        "* Regarding finance, in the case of risk, the outcome is unknown, but the probability distribution governing that outcome is known. Uncertainty, on the other hand, is characterised by both an unknown outcome and an unknown probability distribution. In both cases, preferences are defined across chance distributions of outcomes.\n",
        "* Variance is a measure of the dispersion of a random variable\n",
        "\n",
        ">According to Wikipedia (2022):\n",
        "\n",
        ">> A random variable is a mathematical formalization of a quantity or object which depends on random events. Informally, randomness typically represents some fundamental element of chance, such as in the roll of a dice; it may also represent uncertainty, such as measurement error (para 1).\n",
        "\n",
        ">Random variable. (February 6, 2022). In *Wikipedia*. https://en.wikipedia.org/wiki/Random_variable\n",
        "\n",
        "* Variance shows the relationships between its members and the mean\n",
        "\n",
        ">According to Wikipedia (2022):\n",
        "\n",
        ">> In probability theory and statistics, variance is the expectation of the squared deviation of a random variable from its population mean or sample mean. Variance is a measure of dispersion, meaning it is a measure of how far a set of numbers is spread out from their average value. Variance has a central role in statistics, where some ideas that use it include descriptive statistics, statistical inference, hypothesis testing, goodness of fit, and Monte Carlo sampling. Variance is an important tool in the sciences, where statistical analysis of data is common. The variance is the square of the standard deviation, the second central moment of a distribution, and the covariance of the random variable with itself... (para 1).\n",
        "\n",
        ">Variance. (February 6, 2022). In *Wikipedia*. https://en.wikipedia.org/wiki/Variance\n",
        "\n",
        "* Error is the difference between the true value and the predicted value, or the model describing the values\n",
        "* There is nothing we can do about the variance of the dataset outside of cleaning and elimination meaningless noise\n",
        "* $s^2 = \\frac{\\sum(x-\\bar{x})^2}{n-1}$\n",
        "* Standard deviation has the same units as the data being measured\n",
        "* But we can play a role on the variance of a model trained on different data sets\n",
        "* $RSS = \\sum(y - \\hat{y})^2$\n",
        "* The mean of a random variable is also know as its expected value\n",
        "* The standard deviation of a statistic (a characteristic of a sample) is generally temed the standard error\n",
        "\n",
        "## Data Does Not Speak for Itself\n",
        "\n",
        "The numbers have no way of speaking for themselves. We speak for them. We imbue them with meaning. Nate Silver, The Signal and the Noise\n",
        "\n",
        "## Probability\n",
        "\n",
        "* Probability of an event is measured from 0 to 1; 0 event not happening, 1 event always happening\n",
        "* Outcomes you are looking for / total possible outcomes\n",
        "* Terms you may see: events and sample space\n",
        "* Combinations, permutations, factorials\n",
        "* Intersections, unions, and conditional probability\n",
        "* Bayes Theorem and Bayes Inference\n",
        "* Probability is associated with Bootstrapping\n",
        "* Bootstrapping is a statistical procedure that resamples a single dataset to create many simulated samples. This process allows you to calculate standard errors, construct confidence intervals, and perform hypothesis testing for numerous types of sample statistics. (https://statisticsbyjim.com/hypothesis-testing/bootstrapping/).\n",
        "\n",
        "https://www.statology.org/variance-of-probability-distribution/<br />\n",
        "https://www.probabilitycourse.com/preface.php\n",
        "\n",
        "## Types of Probability\n",
        "\n",
        "* Classical Probability: the ratio of the number of outcomes favoring the event divided by the total number of possible outcomes\n",
        "* Enmerative Probability: An extension of classical probability with the idea of a random choice. There are 3 white socks and four black socks and if we take a random sock what is the probability of getting a white sock?\n",
        "* Long Run Frequency Probability: Based on the proportion of times an event occurs in an infinite sequence of identical experiments. Nothing realistically, even in principle, is infinitely repeatable\n",
        "* Propensity or Chance: The idea that there is some objective tendency of the situation to produce and event\n",
        "* Subjective Probability: A specific person's judgement about a specific occasion, based on their current knowledge. Essentially, any numerical probability is constructed according to what is known in the current situation (probability doesn't really exist at all)\n",
        "\n",
        "Art of Statistics"
      ],
      "metadata": {
        "id": "e3bwkXo2yVp_"
      },
      "id": "e3bwkXo2yVp_"
    },
    {
      "cell_type": "markdown",
      "id": "070b7df6",
      "metadata": {
        "id": "070b7df6"
      },
      "source": [
        "## Rolling One Die\n",
        "\n",
        "Frequentist vs Bayesian"
      ]
    },
    {
      "cell_type": "code",
      "execution_count": null,
      "id": "46d2a667",
      "metadata": {
        "id": "46d2a667",
        "colab": {
          "base_uri": "https://localhost:8080/",
          "height": 472
        },
        "outputId": "b3ae6222-9a75-4a7d-a646-6e14f279ad56"
      },
      "outputs": [
        {
          "output_type": "display_data",
          "data": {
            "text/plain": [
              "<Figure size 640x480 with 1 Axes>"
            ],
            "image/png": "[encoded data removed]"
          },
          "metadata": {}
        }
      ],
      "source": [
        "# rolling a die\n",
        "import numpy as np\n",
        "import matplotlib.pyplot as plt\n",
        "\n",
        "rolls = 10000 # build till int(1e5) 1 multiplied by 10 to the 5th or 100000\n",
        "throws = rolls\n",
        "observations = []\n",
        "for i in range(throws):\n",
        "    roll = np.random.choice(['1', '2', '3', '4', '5', '6']) # roll the die\n",
        "    observations.append(roll)\n",
        "\n",
        "val, cnt = np.unique(observations, return_counts=True)\n",
        "prop = cnt / len(observations)\n",
        "\n",
        "plt.bar(val, prop)\n",
        "plt.ylabel('Probability')\n",
        "plt.xlabel('Roll')\n",
        "plt.title('Uniform Distribution')\n",
        "plt.show()"
      ]
    },
    {
      "cell_type": "markdown",
      "id": "5437b9a8",
      "metadata": {
        "id": "5437b9a8"
      },
      "source": [
        "## Rolling Two Die"
      ]
    },
    {
      "cell_type": "code",
      "execution_count": null,
      "id": "c7a3791a",
      "metadata": {
        "id": "c7a3791a",
        "colab": {
          "base_uri": "https://localhost:8080/",
          "height": 472
        },
        "outputId": "185dd936-bbd9-47ff-f384-99f0c691d34e"
      },
      "outputs": [
        {
          "output_type": "display_data",
          "data": {
            "text/plain": [
              "<Figure size 640x480 with 1 Axes>"
            ],
            "image/png": "[encoded data removed]"
          },
          "metadata": {}
        }
      ],
      "source": [
        "# random variable\n",
        "import matplotlib.pyplot as plt\n",
        "\n",
        "sums = [2, 3, 4, 5, 6, 7, 8, 9, 10, 11, 12]\n",
        "probs = [1/36, 2/36, 3/36, 4/36, 5/36, 6/36, 5/36, 4/36, 3/36, 2/36, 1/36]\n",
        "\n",
        "plt.bar(sums, probs)\n",
        "plt.xlabel('Sum of Dice')\n",
        "plt.ylabel('Outcome Probability')\n",
        "plt.title('Sample Space Probability')\n",
        "plt.show()"
      ]
    },
    {
      "cell_type": "code",
      "source": [
        "import math\n",
        "\n",
        "def prob_pyramid(n: int = 6) -> None:\n",
        "    \"\"\"\n",
        "    Enter sides of dice (6) > 1 < 10\n",
        "    Prints a pyramid of combinations of rolls of two dice\n",
        "    \"\"\"\n",
        "    length = (n * 2) - 1\n",
        "    midpoint = n - 1\n",
        "    k = math.ceil(n / 2)\n",
        "    l = n - (k + midpoint - 1)\n",
        "    oe = n % 2\n",
        "    d = []\n",
        "    for i in range(n):\n",
        "        for j in range(length):\n",
        "            if j < midpoint - i or j > midpoint + i:\n",
        "                print(\"     \", end=\"\")\n",
        "            else:\n",
        "                m = j - i - k + 1\n",
        "                p = midpoint + l if j > midpoint else j + l\n",
        "                if i % 2 == 0:\n",
        "                    d = [m + oe if j > midpoint else k, p]\n",
        "                else:\n",
        "                    d = [p + oe, m + 1 if j > midpoint else k - oe]\n",
        "\n",
        "                print(\"[{},{}]\".format(d[0],d[1]), end=\"\")\n",
        "\n",
        "        print()\n",
        "        if i % 2 == 1:\n",
        "            k -= 1\n",
        "            l += 1\n",
        "\n",
        "prob_pyramid()"
      ],
      "metadata": {
        "id": "LNCigBJv7n-S",
        "colab": {
          "base_uri": "https://localhost:8080/"
        },
        "outputId": "6ea9c47e-32f1-4c18-963b-5172c920a81b"
      },
      "id": "LNCigBJv7n-S",
      "execution_count": null,
      "outputs": [
        {
          "output_type": "stream",
          "name": "stdout",
          "text": [
            "                         [3,4]                         \n",
            "                    [3,3][4,3][4,4]                    \n",
            "               [2,3][2,4][2,5][3,5][4,5]               \n",
            "          [2,2][3,2][4,2][5,2][5,3][5,4][5,5]          \n",
            "     [1,2][1,3][1,4][1,5][1,6][2,6][3,6][4,6][5,6]     \n",
            "[1,1][2,1][3,1][4,1][5,1][6,1][6,2][6,3][6,4][6,5][6,6]\n"
          ]
        }
      ]
    },
    {
      "cell_type": "markdown",
      "id": "d350c337",
      "metadata": {
        "id": "d350c337"
      },
      "source": [
        "## Gambling\n",
        "\n",
        "* Greeks: Geometry and Form\n",
        "* Romans weren't really into beauty and form, but rather war and liesure\n",
        "* While finding little value in abstract geometry, Cicero (Roman) wrote that probability is the very guide of life\n",
        "* **Gerolamo Cardano** (24 September 1501– 21 September 1576), The Book on Games of Chance\n",
        "* **Galileo Galilei** (15 February 1564 – 8 January 1642)\n",
        "    * Introduces the idea that science must focus on experience and experimentation—how nature operates—rather than on what intuition dictates or our minds find appealing. And most of all, it must be done with mathematics.\n",
        "    * Wrote a book Thoughts on the Game of Dice  \n",
        "* **Blaise Pascal** (19 June 1623 – 19 August 1662) added to probability and gambling\n",
        "  * Pascal's development of probability theory was his most influential contribution to mathematics. Originally applied to gambling, today it is extremely important in economics, especially in actuarial science\n",
        "  * Pascal's Triangle: Pascal’s triangle is useful any time you need to know the number of ways in which you can choose some number of objects from a collection that has an equal or greater number\n",
        "  * For example (The Drunkard's Walk): 1996 World Series (Braves vs Yankees). Atlanta was up 2 - 0\n",
        "    * Probabilites for either team to win: possible 5 games to play 2^5 gives us 32 probabilities\n",
        "    * Yankees’ victory, would have been victorious if they had won 4 of the 5 possible remaining games.\n",
        "    * 1 of 5 ways: BYYYY, YBYYY, YYBYY, YYYBY, or YYYYB,  and YYYYY.\n",
        "    * Braves victory: Yankees win only 3 games, 10 possible ways (BBYYY, BYBYY, and so on), or Yankees win only 2 games (which again could have happened in 10 ways), or if the Yankees had won only 1 game (which could have happened in 5 ways), or if they had won none (which could have happened in only 1 way).\n",
        "    * Possibilities = 32, Yankees 6 in 32 and Braves 26 in 32 (Yankees won)\n",
        "    * Considering Pascal's Triangle, We can now read the number of ways in which the Yankees can win 0, 1, 2, 3, 4, or 5 games directly from row 5 of the triangle:\n",
        "    * 1 5 10 10 5 1\n",
        "\n",
        "https://www.mathsisfun.com/pascals-triangle.html\n",
        "\n"
      ]
    },
    {
      "cell_type": "markdown",
      "source": [
        "## Fraternal Twins\n",
        "\n",
        "Suppose a mother is carrying fraternal twins and wants to know the odds of having two girls, a boy and a girl, and so on.\n",
        "\n",
        "* The sample space consists of all the possible lists of the sexes of the children in their birth order: (girl, girl), (girl, boy), (boy, girl), and (boy, boy)\n",
        "* Same with 2 coin toss (HH, TT, HT, TH)\n",
        "* Situation in which one problem is another in disguise: isomorphism\n",
        "* Two girls: 25 percent.\n",
        "* The chance that at least one of the babies will be a girl is the chance that both will be girls plus the chance that just one will be a girl—that is, 25 percent plus 50 percent, which is 75 percent.\n",
        "* What are the chances, given that one of the children is a girl, that both children will be girls? One might reason this way: 50 percent?\n",
        "* Although the statement of the problem says that one child is a girl, it doesn’t say which one, and that changes things. *\n",
        "* The new information—one of the children is a girl—means that we are eliminating from consideration the possibility that both children are boys. So eliminate (boy, boy) from the sample space.\n",
        "* That leaves only 3 outcomes in the sample space: (girl, boy), (boy, girl), and (girl, girl). Of these, only (girl, girl) is the favorable outcome—that is, both children are daughters—so the chances that both children are girls is 1 in 3, or\n",
        "33 percent.\n",
        "* For instance, if the problem had asked for the chances of both children being girls given that the first child is a girl, then we would have eliminated both (boy, boy) and (boy, girl) from the sample space and the odds would have been 1 in 2, or 50 percent"
      ],
      "metadata": {
        "id": "TeSz44e4joRe"
      },
      "id": "TeSz44e4joRe"
    },
    {
      "cell_type": "markdown",
      "id": "94abe732",
      "metadata": {
        "id": "94abe732"
      },
      "source": [
        "## Probability Foundations\n",
        "\n",
        "* The probability that two events will both occur can never be greater than the probability that each will occur individually. Why not? Simple arithmetic: the chances that event A will occur = the chances that events A and B will occur + the chance that event A will occur and event B will not occur.   \n",
        "* If two possible events, A and B, are independent, then the probability that both A and B will occur is equal to the product of their individual probabilities\n",
        "* If an event can have a number of different and distinct possible outcomes, A, B, C, and so on, then the probability that either A or B will occur is equal to the sum of the individual probabilities of A and B, and the sum of the probabilities of all the possible outcomes (A, B, C, and so on) is 1 (that is, 100%)"
      ]
    },
    {
      "cell_type": "markdown",
      "id": "6306c486",
      "metadata": {
        "id": "6306c486"
      },
      "source": [
        "## Adding or Multiplying Probabilities\n",
        "\n",
        "* If using the word `or`, add\n",
        "* If using the word `and`, multiply\n",
        "    * What's the probability of rolling a 1 or a 6\n",
        "    * What's the probability of first rolling a 1 and then a 6\n",
        "    \n",
        "### Probability of Two Events Occurring Together: Independent\n",
        "\n",
        "$P(A \\cap B) = P(A) * P(B)$\n",
        "\n",
        "Multiply the probabilities of each event together\n",
        "\n",
        "Example problem: The probability of getting a job you applied for is 45% and the probability of you getting the apartment you applied for is 75%. What is the probability of getting both the new job and the new car?\n",
        "\n",
        "* Step 1: Convert your percentages of the two events to decimals. In the above example:\n",
        "    * 45% = .45\n",
        "    * 75% = .75\n",
        "* Step 2: Multiply the decimals from step 1 together:\n",
        "    * .45 x .75 = .3375 or 33.75 percent.\n",
        "* The probability of you getting the job and the car is 33.75%\n",
        "* The probability that two events will both occur can never be greater than the probability that each will occur individually.\n",
        "\n",
        "\n",
        "### Probability of Two Events Occurring Together: Dependent\n",
        "\n",
        "$P(A \\cap B) = P(A) * P(B|A)$\n",
        "\n",
        "Example problem: Eighty five percent of employees have health insurance. Out of those 85%, 45% had deductibles higher than 1K. What percentage of people had deductibles higher than 1K?\n",
        "\n",
        "* Step 1: Convert your percentages of the two events to decimals. In the above example:\n",
        "    * 85% = .85\n",
        "    * 45% = .45\n",
        "* Step 2: Multiply the decimals from step 1 together:\n",
        "    * .85 x .45 = .3825 or 38.35 percent.\n",
        "* The probability of someone having a deductible of over $1,000 is 38.35%\n",
        " The probability that two events will both occur can never be greater than the probability that each will occur individually.\n",
        "\n",
        "https://www.statisticshowto.com/probability-and-statistics/probability-main-index/how-to-find-the-probability-of-two-events-occurring-together/\n",
        "\n",
        "In a pack of 52 cards, a card is drawn at random without replacement. Find the probability of drawing a queen followed by a jack.\n",
        "\n",
        "Solution:\n",
        "\n",
        "* P (drawing a queen in the first place) = 4 / 52\n",
        "* P (drawing jack in the second place given that queen is in the first place) = 4 / 51\n",
        "* P (drawing a queen followed by a jack)\n",
        "* (4/52) * (4/51)"
      ]
    },
    {
      "cell_type": "markdown",
      "id": "87c6db23",
      "metadata": {
        "id": "87c6db23"
      },
      "source": [
        "## The Conjuction Fallacy\n",
        "\n",
        "The Conjunction Fallacy is a fallacy or error in decision making where people judge that a conjunction of two possible events is more likely than one or both of the conjuncts.\n",
        "\n",
        "* Which is greater: the number of six-letter English words having n as their fifth letter or the number of six-letter\n",
        "English words ending in ing?\n",
        "* Which is more likely: that a defendant, after discovering the body, left the scene of the crime or that a defendant, after discovering the body, left the scene of the crime because he feared being accused of the grisly murder?\n",
        "* Is it more probable that the president will increase federal aid to education or that he or she will increase federal aid to education with funding freed by cutting other aid to the states?\n",
        "* Is it more likely that your company will increase sales next year or that it will increase sales next year because the overall economy has had a banner year?\n",
        "\n",
        "In each case, even though the latter is less probable than the former, it may sound more likely. Or as Kahneman and Tversky put it, “A good story is often less probable than a less satisfactory explanation.\n",
        "\n",
        "The Romans believed two half truths equal 1 whole truth. Their problem was that they were adding when they should have been multiplying.\n",
        "\n",
        "The Drunkard's Walk"
      ]
    },
    {
      "cell_type": "markdown",
      "source": [
        "## The Prosecutor's Fallacy"
      ],
      "metadata": {
        "id": "KGD-JWEjj2GE"
      },
      "id": "KGD-JWEjj2GE"
    },
    {
      "cell_type": "markdown",
      "id": "a7f98c00",
      "metadata": {
        "id": "a7f98c00"
      },
      "source": [
        "## Monty Hall Problem\n",
        "\n",
        "Ask Marilyn column (in Parade magazine)\n",
        "\n",
        "* Marilyn von Savant\n",
        "* Guinness World Records Hall of Fame highest IQ\n",
        "* Married to Robert Jarvik, artificial heart\n",
        "\n",
        "Let's Make a Deal\n",
        "\n",
        "* Monty Hall\n",
        "* Wayne Brady\n",
        "\n",
        "Suppose the contestants on a game show are given the choice of three doors: Behind one door is\n",
        "a car; behind the others, goats. After a contestant picks a door, the host, who knows what’s\n",
        "behind all the doors, opens one of the unchosen doors, which reveals a goat. He then says to the\n",
        "contestant, “Do you want to switch to the other unopened door?” Is it to the contestant’s\n",
        "advantage to make the switch?\n",
        "\n",
        "* Marilyn says switch\n",
        "* Onslaught of criticism started rolling in\n",
        "* Mathematical Professors and teachers\n",
        "\n",
        "Professor from George Mason: Let me explain: If one door is shown to be a loser, that information changes the probability of either remaining choice—neither of which has any reason to be more likely—to 1/2. As a professional mathematician, I’m very concerned with the general public’s lack of mathematical skills. Please help by confessing your error and, in the future, being more careful.\n",
        "\n",
        "From Dickinson State University came this: “I am in shock that after being corrected by at least three mathematicians, you still do not see your mistake.” From Georgetown: “How many irate mathematicians are needed to change your mind?” And someone from the U.S. Army Research Institute remarked, “If all those PhDs are wrong the country would be in serious trouble.” Responses continued in such great numbers and for such a long time that after devoting quite a bit of column space to the issue, Marilyn decided she would no longer address it.\n",
        "\n",
        "Marilyn was right and here's the breakdown:\n",
        "\n",
        "* Starting with 1 out 3 choice you have the lucky guess scenario of picking the right door (1 out of 3)\n",
        "* The Wrong Guess scenario has chances 2 out of 3 that you are wrong\n",
        "* Host intervenes and opens a door knowing where the car is and not wanting to reveal it yet. This action violates randomness"
      ]
    },
    {
      "cell_type": "markdown",
      "id": "6bab865d",
      "metadata": {
        "id": "6bab865d"
      },
      "source": [
        "<table>\n",
        "<tr>\n",
        "<td>Behind door 1</td>\t<td>Behind door 2</td>\t<td>Behind door 3</td>\t<td>Result if staying at door 1</td>\t<td>Result if switching to the door offered</td>\n",
        "</tr>\n",
        "<tr>\n",
        "<td>Goat</td><td>Goat</td><td>Car</td>\t<td>Wins goat</td>\t<td>Wins car</td>\n",
        "</tr>\n",
        "<tr>\n",
        "<td>Goat</td><td>Car</td>\t<td>Goat</td>\t<td>Wins goat</td>\t<td>Wins car</td>\n",
        "</tr>\n",
        "<tr>\n",
        "<td>Car</td>\t<td>Goat</td><td>Goat</td>\t<td>Wins car</td>\t<td>Wins goat</td>\n",
        "</tr>\n",
        "</table>"
      ]
    },
    {
      "cell_type": "markdown",
      "id": "bbebcab0",
      "metadata": {
        "id": "bbebcab0"
      },
      "source": [
        "https://en.m.wikipedia.org/wiki/Monty_Hall_problem"
      ]
    },
    {
      "cell_type": "markdown",
      "source": [
        "## Formulas"
      ],
      "metadata": {
        "id": "n1ZZlDl5j_CQ"
      },
      "id": "n1ZZlDl5j_CQ"
    },
    {
      "cell_type": "markdown",
      "id": "d4af8014",
      "metadata": {
        "id": "d4af8014"
      },
      "source": [
        "### Factorial\n",
        "\n",
        "$n!$<br />\n",
        "5! = 1 * 2 * 3 * 4 * 5"
      ]
    },
    {
      "cell_type": "code",
      "execution_count": null,
      "id": "c5104c32",
      "metadata": {
        "id": "c5104c32",
        "colab": {
          "base_uri": "https://localhost:8080/"
        },
        "outputId": "aad809e8-bc9b-49f6-c17b-4d94b49cf874"
      },
      "outputs": [
        {
          "output_type": "stream",
          "name": "stdout",
          "text": [
            "[1 2 3 4 5]\n",
            "120\n",
            "fact: 120\n",
            "test: 120\n",
            "comprehension: 120\n",
            "factorial: 120\n"
          ]
        }
      ],
      "source": [
        "import numpy as np\n",
        "from math import factorial\n",
        "\n",
        "n = 5\n",
        "fact = 1\n",
        "test = 1\n",
        "\n",
        "print(np.arange(1, n+1))\n",
        "print(np.arange(1, n+1).prod())\n",
        "for i in range(1, n+1):\n",
        "    fact = fact * i\n",
        "    test *= i # assignment operator https://www.w3schools.com/python/python_operators.asp\n",
        "\n",
        "print('fact:', fact)\n",
        "print('test:', test)\n",
        "print('comprehension:', np.prod([i for i in range(1, n+1)]))\n",
        "print('factorial:', factorial(n))"
      ]
    },
    {
      "cell_type": "markdown",
      "id": "0d58e552",
      "metadata": {
        "id": "0d58e552"
      },
      "source": [
        "### Permutations\n",
        "\n",
        "Order does matter (permutation, position)<br />\n",
        "The combination of a safe\n",
        "\n",
        "$_{n}P_r = \\frac{n!}{(n-r)!}$\n",
        "\n",
        "with repetitions\n",
        "\n",
        "$n^r$\n",
        "\n",
        "* n = total number of objects\n",
        "* r = number selected\n",
        "* An ordered number of n objects taken r at a time"
      ]
    },
    {
      "cell_type": "code",
      "execution_count": null,
      "id": "14376aa4",
      "metadata": {
        "id": "14376aa4",
        "colab": {
          "base_uri": "https://localhost:8080/"
        },
        "outputId": "08aceaea-e100-4873-b155-ddd0735d6625"
      },
      "outputs": [
        {
          "output_type": "stream",
          "name": "stdout",
          "text": [
            "[(1, 2, 3), (1, 3, 2), (2, 1, 3), (2, 3, 1), (3, 1, 2), (3, 2, 1)]\n",
            "6.0\n",
            "\n",
            "with repetitions (n^r)\n",
            "[(1, 1, 1), (1, 1, 2), (1, 1, 3), (1, 2, 1), (1, 2, 2), (1, 2, 3), (1, 3, 1), (1, 3, 2), (1, 3, 3), (2, 1, 1), (2, 1, 2), (2, 1, 3), (2, 2, 1), (2, 2, 2), (2, 2, 3), (2, 3, 1), (2, 3, 2), (2, 3, 3), (3, 1, 1), (3, 1, 2), (3, 1, 3), (3, 2, 1), (3, 2, 2), (3, 2, 3), (3, 3, 1), (3, 3, 2), (3, 3, 3)]\n",
            "27\n"
          ]
        }
      ],
      "source": [
        "from itertools import permutations, product\n",
        "from math import factorial\n",
        "\n",
        "l = [1, 2, 3]\n",
        "n = len(l)\n",
        "r = 3\n",
        "\n",
        "perms = permutations(l)\n",
        "print(list(perms))\n",
        "print(factorial(n)/factorial(n - r))\n",
        "print()\n",
        "print('with repetitions (n^r)')\n",
        "print([p for p in product(l, repeat=r)])\n",
        "print(n**r)"
      ]
    },
    {
      "cell_type": "markdown",
      "id": "eb335ec6",
      "metadata": {
        "id": "eb335ec6"
      },
      "source": [
        "#### Example\n",
        "\n",
        "$_{n}P_r = \\frac{n!}{(n-r)!}$"
      ]
    },
    {
      "cell_type": "code",
      "execution_count": null,
      "id": "68a7dcf3",
      "metadata": {
        "id": "68a7dcf3",
        "colab": {
          "base_uri": "https://localhost:8080/"
        },
        "outputId": "3dc781ce-3f74-4a34-c876-8d80fa50f753"
      },
      "outputs": [
        {
          "output_type": "stream",
          "name": "stdout",
          "text": [
            "Number of n (3) objects taken r(2) at a time\n",
            "Permutations\n",
            "[(1, 2), (1, 3), (2, 1), (2, 3), (3, 1), (3, 2)]\n",
            "6\n",
            "\n",
            "Factorial\n",
            "6\n",
            "1\n",
            "6.0\n"
          ]
        }
      ],
      "source": [
        "from itertools import permutations\n",
        "from math import factorial\n",
        "\n",
        "l = [1, 2, 3]\n",
        "n = len(l)\n",
        "r = 2\n",
        "\n",
        "print('Number of n (3) objects taken r(2) at a time')\n",
        "perms = permutations(l, r)\n",
        "print('Permutations')\n",
        "perms_list = list(perms)\n",
        "print(perms_list)\n",
        "print(len(perms_list))\n",
        "\n",
        "print()\n",
        "print('Factorial')\n",
        "print(factorial(n))\n",
        "print(factorial(n-r))\n",
        "print(factorial(n)/factorial(n - r))"
      ]
    },
    {
      "cell_type": "markdown",
      "id": "ff70cd10",
      "metadata": {
        "id": "ff70cd10"
      },
      "source": [
        "#### Another Example\n",
        "\n",
        "$_{16}P_{3}$ = $\\frac{16!}{(16-3)!}$ = 16 x 15 x 14 = 3,360"
      ]
    },
    {
      "cell_type": "code",
      "execution_count": null,
      "id": "aa07856e",
      "metadata": {
        "id": "aa07856e",
        "colab": {
          "base_uri": "https://localhost:8080/"
        },
        "outputId": "3df9c3e4-7d4d-496b-b511-0c4725b1c94f"
      },
      "outputs": [
        {
          "output_type": "stream",
          "name": "stdout",
          "text": [
            "3360\n"
          ]
        },
        {
          "output_type": "execute_result",
          "data": {
            "text/plain": [
              "3360.0"
            ]
          },
          "metadata": {},
          "execution_count": 14
        }
      ],
      "source": [
        "# solve\n",
        "from math import factorial\n",
        "\n",
        "print(16*15*14)\n",
        "factorial(16)/factorial(16-3)\n"
      ]
    },
    {
      "cell_type": "markdown",
      "id": "69a01606",
      "metadata": {
        "id": "69a01606"
      },
      "source": [
        "$_{10}P_{2}$ = $\\frac{10!}{(10-2)!}$ = 10 x 9 = 90"
      ]
    },
    {
      "cell_type": "code",
      "execution_count": null,
      "id": "a5fdda80",
      "metadata": {
        "id": "a5fdda80",
        "colab": {
          "base_uri": "https://localhost:8080/"
        },
        "outputId": "2f76562a-6aec-46e7-8cb7-a9d713ca2f62"
      },
      "outputs": [
        {
          "output_type": "stream",
          "name": "stdout",
          "text": [
            "90\n"
          ]
        },
        {
          "output_type": "execute_result",
          "data": {
            "text/plain": [
              "90.0"
            ]
          },
          "metadata": {},
          "execution_count": 18
        }
      ],
      "source": [
        "# number of 10 objects taking 2\n",
        "from math import factorial\n",
        "#alt\n",
        "print(10*9)\n",
        "factorial(10)/factorial(10-2)\n",
        "\n"
      ]
    },
    {
      "cell_type": "markdown",
      "id": "be2b8ad3",
      "metadata": {
        "id": "be2b8ad3"
      },
      "source": [
        "#### Four digit combination using number 0 - 9 without repetition\n",
        "\n",
        "$_{10}P_{4}$"
      ]
    },
    {
      "cell_type": "code",
      "execution_count": null,
      "id": "e77891dd",
      "metadata": {
        "id": "e77891dd",
        "colab": {
          "base_uri": "https://localhost:8080/"
        },
        "outputId": "f4f7a587-8e28-4228-de22-291cdce7a84a"
      },
      "outputs": [
        {
          "output_type": "stream",
          "name": "stdout",
          "text": [
            "5040\n"
          ]
        }
      ],
      "source": [
        "# four digit combination\n",
        "print(10*9*8*7)"
      ]
    },
    {
      "cell_type": "markdown",
      "id": "018d2d4c",
      "metadata": {
        "id": "018d2d4c"
      },
      "source": [
        "### Combinations\n",
        "\n",
        "Order doesn't matter<br />\n",
        "Items on a pizza\n",
        "\n",
        "$C(n,r) = C_r^{n} = {_nC_r} = \\binom {n}{r}  = \\frac{n!}{r!(n-r)!}$"
      ]
    },
    {
      "cell_type": "code",
      "execution_count": null,
      "id": "3c975b2d",
      "metadata": {
        "id": "3c975b2d",
        "colab": {
          "base_uri": "https://localhost:8080/"
        },
        "outputId": "4ba373ea-d2a7-4279-ba40-f3918a5e6743"
      },
      "outputs": [
        {
          "output_type": "stream",
          "name": "stdout",
          "text": [
            "[(1, 2), (1, 3), (2, 3)]\n",
            "3.0\n"
          ]
        }
      ],
      "source": [
        "from itertools import combinations\n",
        "\n",
        "l = [1, 2, 3]\n",
        "n = len(l)\n",
        "r = 2\n",
        "combs = combinations(l, r)\n",
        "print(list(combs))\n",
        "print(factorial(n)/(factorial(r) * factorial(n - r)))"
      ]
    },
    {
      "cell_type": "markdown",
      "id": "f5248205",
      "metadata": {
        "id": "f5248205"
      },
      "source": [
        "#### With Replacement\n",
        "\n",
        "$_{n+r-1}C_r = \\frac{(r+n-1)!}{r!(n-1)!}$"
      ]
    },
    {
      "cell_type": "code",
      "execution_count": null,
      "id": "d6ab3b19",
      "metadata": {
        "id": "d6ab3b19",
        "colab": {
          "base_uri": "https://localhost:8080/"
        },
        "outputId": "0235a36c-0a48-42ce-de5b-2779208f64ac"
      },
      "outputs": [
        {
          "output_type": "stream",
          "name": "stdout",
          "text": [
            "[(1, 1), (1, 2), (1, 3), (2, 2), (2, 3), (3, 3)]\n",
            "6.0\n"
          ]
        }
      ],
      "source": [
        "from itertools import combinations_with_replacement\n",
        "\n",
        "combs = combinations_with_replacement(l, r)\n",
        "print(list(combs))\n",
        "print(factorial(n+r-1)/(factorial(r)*factorial(n-1)))"
      ]
    },
    {
      "cell_type": "markdown",
      "id": "fad946b2",
      "metadata": {
        "id": "fad946b2"
      },
      "source": [
        "**Practice**\n",
        "\n",
        "Solve ${_nC_r} = \\binom {n}{r}  = \\frac{n!}{r!(n-r)!}$<br />\n",
        "Where n = 10 and r = 4"
      ]
    },
    {
      "cell_type": "code",
      "execution_count": null,
      "id": "225743e5",
      "metadata": {
        "id": "225743e5",
        "colab": {
          "base_uri": "https://localhost:8080/"
        },
        "outputId": "73a13e69-c2ee-4661-eb9f-54fa4daab438"
      },
      "outputs": [
        {
          "output_type": "execute_result",
          "data": {
            "text/plain": [
              "210.0"
            ]
          },
          "metadata": {},
          "execution_count": 23
        }
      ],
      "source": [
        "# combination with n = 10 and r = 4\n",
        "factorial(10)/(factorial(4)*(factorial(6)))"
      ]
    },
    {
      "cell_type": "markdown",
      "id": "6af51749",
      "metadata": {
        "id": "6af51749"
      },
      "source": [
        "**Relationship to permutations**<br />\n",
        "${_nC_r}$ * $r!$ = permutations"
      ]
    },
    {
      "cell_type": "code",
      "execution_count": null,
      "id": "531eb54f",
      "metadata": {
        "id": "531eb54f"
      },
      "outputs": [],
      "source": [
        "# solve and compare to permutation where n = 10 and r = 4\n",
        "# see figure 1 http://mathandmultimedia.com/2010/01/02/intro-to-combinations/\n"
      ]
    },
    {
      "cell_type": "markdown",
      "source": [
        "$_{10}P_{4}$"
      ],
      "metadata": {
        "id": "btsoz3uvny0V"
      },
      "id": "btsoz3uvny0V"
    },
    {
      "cell_type": "code",
      "source": [
        "# solve\n"
      ],
      "metadata": {
        "id": "oKlhrW_tnx5w"
      },
      "id": "oKlhrW_tnx5w",
      "execution_count": null,
      "outputs": []
    },
    {
      "cell_type": "markdown",
      "id": "7acc7d0f",
      "metadata": {
        "id": "7acc7d0f"
      },
      "source": [
        "### Intersections\n",
        "\n",
        "$A \\cap B = \\{\\: x: x \\in A \\: and \\: x \\in B \\:\\}$\n",
        "\n",
        "order doesn't matter $A \\cap B$ or $B \\cap A$"
      ]
    },
    {
      "cell_type": "code",
      "execution_count": null,
      "id": "0c0b126d",
      "metadata": {
        "scrolled": true,
        "id": "0c0b126d",
        "colab": {
          "base_uri": "https://localhost:8080/",
          "height": 459
        },
        "outputId": "668b1312-3041-4ff4-ac7e-2f6a47b5d665"
      },
      "outputs": [
        {
          "output_type": "stream",
          "name": "stdout",
          "text": [
            "[3, 4]\n",
            "{3, 4}\n",
            "{3, 4}\n"
          ]
        },
        {
          "output_type": "display_data",
          "data": {
            "text/plain": [
              "<Figure size 640x480 with 1 Axes>"
            ],
            "image/png": "[encoded data removed]"
          },
          "metadata": {}
        }
      ],
      "source": [
        "# https://anaconda.org/conda-forge/matplotlib-venn\n",
        "# https://pypi.org/project/matplotlib-venn/\n",
        "# https://towardsdatascience.com/visualizing-intersections-and-overlaps-with-python-a6af49c597d9\n",
        "# https://practicaldatascience.co.uk/data-science/how-to-visualise-data-using-venn-diagrams-in-matplotlib\n",
        "\n",
        "import matplotlib.pyplot as plt\n",
        "from matplotlib_venn import venn2, venn2_circles\n",
        "\n",
        "set1 = {1, 2, 3, 4}\n",
        "set2 = {3, 4, 5, 6, 7, 8}\n",
        "print([value for value in set1 if value in set2])\n",
        "print(set1 & set2)\n",
        "print(set1.intersection(set2))\n",
        "\n",
        "venn2([set1, set2])\n",
        "plt.show()"
      ]
    },
    {
      "cell_type": "markdown",
      "id": "27deb30d",
      "metadata": {
        "id": "27deb30d"
      },
      "source": [
        "#### Independent\n",
        "\n",
        "$P(A \\cap B) = P(A) * P(B)$"
      ]
    },
    {
      "cell_type": "code",
      "execution_count": null,
      "id": "ee2a24e4",
      "metadata": {
        "id": "ee2a24e4",
        "colab": {
          "base_uri": "https://localhost:8080/"
        },
        "outputId": "91a26d4d-b327-4fcd-feeb-a7f96b270a71"
      },
      "outputs": [
        {
          "output_type": "stream",
          "name": "stdout",
          "text": [
            "[1, 2, 3, 4]\n",
            "0.4\n",
            "[1, 3, 5, 7, 9]\n",
            "0.5\n",
            "Probability of < 5 and odd: 0.2\n"
          ]
        }
      ],
      "source": [
        "# what's the probability of a random pick of a number from 1 - 10 if P(A) less than 5 and P(B) odd\n",
        "# filter https://www.pythonlikeyoumeanit.com/Module2_EssentialsOfPython/Iterables.html\n",
        "event_space = [1, 2, 3, 4, 5, 6, 7, 8, 9, 10]\n",
        "N = len(event_space)\n",
        "a = filter(lambda x: x < 5, event_space)\n",
        "a = list(a)\n",
        "print(a)\n",
        "pa = len(list(a))/N\n",
        "print(pa)\n",
        "b = filter(lambda x: x % 2 == 1, event_space)\n",
        "b = list(b)\n",
        "print(b)\n",
        "pb = len(list(b))/N\n",
        "print(pb)\n",
        "print(f'Probability of < 5 and odd: {pa * pb}')"
      ]
    },
    {
      "cell_type": "markdown",
      "id": "790132d3",
      "metadata": {
        "id": "790132d3"
      },
      "source": [
        "#### Dependent\n",
        "\n",
        "$P(A \\cap B) = P(A) * P(B|A) = P(B) * P(A|B)$<br />\n",
        "also expressed as P(A and B) = P(A) * P(B given A)"
      ]
    },
    {
      "cell_type": "code",
      "execution_count": null,
      "id": "2a74c112",
      "metadata": {
        "id": "2a74c112",
        "colab": {
          "base_uri": "https://localhost:8080/"
        },
        "outputId": "199793de-3840-4df4-efeb-6b7d89707541"
      },
      "outputs": [
        {
          "output_type": "stream",
          "name": "stdout",
          "text": [
            "Probability of picking two blue marbles from this bag:\n",
            "{'red': 3, 'blue': 2}\n",
            "Probability of picking a blue: 0.4\n",
            "Bag minus one blue:\n",
            "{'red': 3, 'blue': 1}\n",
            "Probability of picking another blue with just four marbles: 0.25\n",
            "\n",
            "Probability of picking two blue marbles in a row: 0.1\n"
          ]
        }
      ],
      "source": [
        "#https://www.mathsisfun.com/data/probability-events-conditional.html\n",
        "#https://en.wikipedia.org/wiki/Sample_space\n",
        "#number of outcomes in event / total possible outcomes in sample space\n",
        "\n",
        "bag = ['red', 'red', 'red', 'blue', 'blue']\n",
        "mcolor = 'blue'\n",
        "print(f'Probability of picking two {mcolor} marbles from this bag:')\n",
        "bag_dict = {item:bag.count(item) for item in bag}\n",
        "print(bag_dict)\n",
        "\n",
        "# P(A) probability of picking blue 2 / 5\n",
        "pa = bag_dict[mcolor] / len(bag)\n",
        "print(f'Probability of picking a {mcolor}: {pa}')\n",
        "bag.remove(mcolor)\n",
        "print(f'Bag minus one {mcolor}:')\n",
        "bag_dict = {item:bag.count(item) for item in bag}\n",
        "print(bag_dict)\n",
        "print(f'Probability of picking another {mcolor} with just four marbles: {(bag_dict[mcolor] / len(bag))}')\n",
        "print()\n",
        "# P(B|A) probability of picking another blue given you already picked a blue\n",
        "print(f'Probability of picking two {mcolor} marbles in a row: {pa * (bag_dict[mcolor] / len(bag))}')"
      ]
    },
    {
      "cell_type": "markdown",
      "id": "ede727d1",
      "metadata": {
        "id": "ede727d1"
      },
      "source": [
        "### Unions\n",
        "\n",
        "$P(A \\cup B) = P(A) + P(B) - P(A \\cap B)$<br />\n",
        "also expressed P(A or B)<br />\n",
        "order doesn't matter"
      ]
    },
    {
      "cell_type": "code",
      "execution_count": null,
      "id": "d8c48ad6",
      "metadata": {
        "id": "d8c48ad6",
        "colab": {
          "base_uri": "https://localhost:8080/"
        },
        "outputId": "577fd1dc-da28-4849-85ff-fc0e59a465e7"
      },
      "outputs": [
        {
          "output_type": "stream",
          "name": "stdout",
          "text": [
            "[1, 2, 3, 4, 5, 6, 7, 8, 9, 10]\n",
            "[1, 2, 3, 4]\n",
            "0.4\n",
            "[1, 3, 5, 7, 9]\n",
            "0.5\n",
            "Probability of the union of A or B is 0.7\n"
          ]
        }
      ],
      "source": [
        "# what's the probability of a random pick of a number from 1 - 10 is P(A) less than 5 or P(B) odd\n",
        "print(event_space)\n",
        "print(a)\n",
        "print(pa)\n",
        "print(b)\n",
        "print(pb)\n",
        "print(f'Probability of the union of A or B is {pa + pb - (pa * pb)}')\n",
        "\n",
        "# venn2([set(a), set(b)])\n",
        "# plt.show()"
      ]
    },
    {
      "cell_type": "markdown",
      "id": "87e841dd",
      "metadata": {
        "id": "87e841dd"
      },
      "source": [
        "#### Unions if mutually exclusive (vs. disjoint)\n",
        "\n",
        "$P(A \\cup B) = P(A) + P(B) - P(A \\cap B)$ where $P(A \\cap B) = 0$\n",
        "<br />so<br />\n",
        "$P(A \\cup B) = P(A) + P(B)$\n",
        "\n",
        "Mutually Exclusive: $P(A \\cap B) = 0$<br />\n",
        "Disjoint (dealing in sets): $A \\cap B = 0$"
      ]
    },
    {
      "cell_type": "code",
      "execution_count": null,
      "id": "fe15cd1e",
      "metadata": {
        "id": "fe15cd1e",
        "colab": {
          "base_uri": "https://localhost:8080/",
          "height": 367
        },
        "outputId": "ff9c35ce-11aa-4681-ea75-6f2c4a4f201e"
      },
      "outputs": [
        {
          "output_type": "stream",
          "name": "stdout",
          "text": [
            "[1, 2, 3, 4, 5, 6, 7, 8, 9, 10]\n",
            "[2, 4, 6, 8, 10]\n",
            "0.5\n",
            "[1, 3, 5, 7, 9]\n",
            "0.5\n",
            "set()\n"
          ]
        },
        {
          "output_type": "display_data",
          "data": {
            "text/plain": [
              "<Figure size 640x480 with 1 Axes>"
            ],
            "image/png": "[encoded data removed]"
          },
          "metadata": {}
        }
      ],
      "source": [
        "# is drawing an even number or odd number mutually exclusive?\n",
        "print(event_space)\n",
        "N = len(event_space)\n",
        "c = filter(lambda x: x % 2 == 0, event_space)\n",
        "c = list(c)\n",
        "print(c)\n",
        "pc = len(list(c))/N\n",
        "print(pc)\n",
        "d = filter(lambda x: x % 2 == 1, event_space)\n",
        "d = list(d)\n",
        "print(d)\n",
        "pd = len(list(d))/N\n",
        "print(pd)\n",
        "print(set(c).intersection(set(d)))\n",
        "\n",
        "venn2([set(c), set(d)])\n",
        "plt.show()"
      ]
    },
    {
      "cell_type": "markdown",
      "id": "67cfe7cd",
      "metadata": {
        "id": "67cfe7cd"
      },
      "source": [
        "### Compliment\n",
        "\n",
        "Compliment of $A$ is $\\bar{A}$\n",
        "\n",
        "Is the compliment of A mutually exclusive with A?"
      ]
    },
    {
      "cell_type": "code",
      "execution_count": null,
      "id": "768b36c8",
      "metadata": {
        "id": "768b36c8",
        "colab": {
          "base_uri": "https://localhost:8080/"
        },
        "outputId": "c1f72683-98d5-4af0-ddf0-da93de870c02"
      },
      "outputs": [
        {
          "output_type": "stream",
          "name": "stdout",
          "text": [
            "[1, 2, 3, 4]\n",
            "[ 5  6  7  8  9 10]\n",
            "[5, 6, 7, 8, 9, 10]\n"
          ]
        }
      ],
      "source": [
        "event_space = [1, 2, 3, 4, 5, 6, 7, 8, 9, 10]\n",
        "N = len(event_space)\n",
        "a = filter(lambda x: x < 5, event_space)\n",
        "a = list(a)\n",
        "print(a)\n",
        "\n",
        "a_compliment = np.setdiff1d(event_space, a)\n",
        "print(a_compliment)\n",
        "\n",
        "print([value for value in event_space if value not in a])"
      ]
    },
    {
      "cell_type": "markdown",
      "id": "89fa6789",
      "metadata": {
        "id": "89fa6789"
      },
      "source": [
        "### Conditional Probability\n",
        "\n",
        "https://towardsdatascience.com/conditional-probability-with-a-python-example-fd6f5937cd2<br />\n",
        "https://towardsdatascience.com/conditional-probability-with-python-concepts-tables-code-c23ffe65d110<br />\n",
        "\n",
        "$P(A|B) = \\frac{P(A \\cap B)}{P(B)}$<br />\n",
        "\n",
        "What's the probability of something given something else\n",
        "\n",
        "Terms\n",
        "* $P(A|B)$: Probability of A given B\n",
        "* $P(A \\cap B)$: Probability of A and B\n",
        "* $P(B)$: Probability of B"
      ]
    },
    {
      "cell_type": "markdown",
      "id": "a6bdd5ea",
      "metadata": {
        "id": "a6bdd5ea"
      },
      "source": [
        "### Addition and Multiplication Rules\n",
        "\n",
        "* Addition Rule: $P(A \\cup B) = P(A) + P(B) - P(A \\cap B)$\n",
        "* Multiplication Rule: $P(A \\cap B) = P(A) * P(B|A)$<br />"
      ]
    },
    {
      "cell_type": "markdown",
      "source": [
        "### Decision Tree Example\n",
        "\n",
        "https://mathsathome.com/probability-tree-diagrams/\n",
        "* The probability of rain is 0.2 and the probability of being late given rain is 0.3\n",
        "* if it's raining and late\n",
        "* if it's not raining and late\n",
        "* if it's raining or not raining and late"
      ],
      "metadata": {
        "id": "FbhwSl3Gp0eY"
      },
      "id": "FbhwSl3Gp0eY"
    },
    {
      "cell_type": "markdown",
      "id": "b8813817",
      "metadata": {
        "id": "b8813817"
      },
      "source": [
        "## Tables"
      ]
    },
    {
      "cell_type": "code",
      "execution_count": null,
      "id": "2b59059b",
      "metadata": {
        "scrolled": true,
        "id": "2b59059b"
      },
      "outputs": [],
      "source": [
        "# seaborn mpg dataset\n"
      ]
    },
    {
      "cell_type": "code",
      "execution_count": null,
      "id": "991d510b",
      "metadata": {
        "id": "991d510b"
      },
      "outputs": [],
      "source": [
        "# find mpg quartiles (describe)\n"
      ]
    },
    {
      "cell_type": "code",
      "execution_count": null,
      "id": "4fd63ce6",
      "metadata": {
        "id": "4fd63ce6"
      },
      "outputs": [],
      "source": [
        "# create a feature where 1 represents horsepower > 94 (median) and 0 if not\n",
        "\n",
        "# create a feature where 1 represents mpg > 23 and 0 if not\n",
        "\n",
        "# create a count column\n",
        "\n",
        "# display mpg df with ['above_median_hp', 'above_median_mpg', 'count']\n"
      ]
    },
    {
      "cell_type": "markdown",
      "source": [
        "### Cross Tab\n",
        "\n",
        "According to Wikipedia (2022):\n",
        "\n",
        "> In statistics, a contingency table (also known as a cross tabulation or crosstab) is a type of table in a matrix format that displays the (multivariate) frequency distribution of the variables. They are heavily used in survey research, business intelligence, engineering, and scientific research (para. 1).\n",
        "\n",
        "Contingency table. (February 6, 2022). In *Wikipedia*. https://en.wikipedia.org/wiki/Contingency_table\n",
        "\n",
        "A crosstab is a table showing the relationship between two or more variables. Where the table only shows the relationship between two categorical variables, a crosstab is also known as a contingency table.\n",
        "\n",
        "https://www.displayr.com/what-is-a-crosstab/"
      ],
      "metadata": {
        "id": "ay-XobVGpnvr"
      },
      "id": "ay-XobVGpnvr"
    },
    {
      "cell_type": "code",
      "source": [
        "# display crosstab\n"
      ],
      "metadata": {
        "id": "6EpwFynEpqQv"
      },
      "id": "6EpwFynEpqQv",
      "execution_count": null,
      "outputs": []
    },
    {
      "cell_type": "markdown",
      "id": "aa55f18f",
      "metadata": {
        "id": "aa55f18f"
      },
      "source": [
        "### Pivot Table\n",
        "\n",
        "According to Wikipedia (2022):\n",
        "\n",
        "> A pivot table is a table of grouped values that aggregates the individual items of a more extensive table (such as from a database, spreadsheet, or business intelligence program) within one or more discrete categories. This summary might include sums, averages, or other statistics, which the pivot table groups together using a chosen aggregation function applied to the grouped values (para. 1).\n",
        "\n",
        "Pivot table. (February 9, 2022). In *Wikipedia*. https://en.wikipedia.org/wiki/Pivot_table\n",
        "\n",
        "**The difference?**\n",
        "\n",
        "Aggregation: Crosstabs display raw frequencies of observations, while pivot tables allow you to aggregate data based on different criteria, such as sum, count, average, and more.\n",
        "\n",
        "https://mtab.com/blog/difference-crosstabs-pivot-tables"
      ]
    },
    {
      "cell_type": "code",
      "execution_count": null,
      "id": "2868ca29",
      "metadata": {
        "scrolled": true,
        "id": "2868ca29"
      },
      "outputs": [],
      "source": [
        "# display pivot table with mean\n"
      ]
    },
    {
      "cell_type": "markdown",
      "id": "aa548c68",
      "metadata": {
        "id": "aa548c68"
      },
      "source": [
        "## Bayes’ Theorem"
      ]
    },
    {
      "cell_type": "markdown",
      "id": "ad7fee1f",
      "metadata": {
        "id": "ad7fee1f"
      },
      "source": [
        "## Weather and Grilling"
      ]
    }
  ],
  "metadata": {
    "kernelspec": {
      "display_name": "Python 3 (ipykernel)",
      "language": "python",
      "name": "python3"
    },
    "language_info": {
      "codemirror_mode": {
        "name": "ipython",
        "version": 3
      },
      "file_extension": ".py",
      "mimetype": "text/x-python",
      "name": "python",
      "nbconvert_exporter": "python",
      "pygments_lexer": "ipython3",
      "version": "3.9.7"
    },
    "colab": {
      "provenance": [],
      "include_colab_link": true
    }
  },
  "nbformat": 4,
  "nbformat_minor": 5
}