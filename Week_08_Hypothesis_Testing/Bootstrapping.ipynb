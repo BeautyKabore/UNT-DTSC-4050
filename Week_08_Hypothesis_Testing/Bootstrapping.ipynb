{
  "cells": [
    {
      "cell_type": "markdown",
      "metadata": {
        "id": "view-in-github",
        "colab_type": "text"
      },
      "source": [
        "<a href=\"https://colab.research.google.com/github/BeautyKabore/UNT-DTSC-4050/blob/main/Week_08_Hypothesis_Testing/Bootstrapping.ipynb\" target=\"_parent\"><img src=\"https://colab.research.google.com/assets/colab-badge.svg\" alt=\"Open In Colab\"/></a>"
      ]
    },
    {
      "cell_type": "markdown",
      "id": "3f84910f",
      "metadata": {
        "id": "3f84910f"
      },
      "source": [
        "# Bootstrapping\n",
        "\n",
        "* Bootstrapping is a statistical procedure that resamples a single dataset to create many simulated samples. This process allows you to calculate standard errors, construct confidence intervals, and perform hypothesis testing for numerous types of sample statistics.\n",
        "\n",
        "https://statisticsbyjim.com/hypothesis-testing/bootstrapping/\n",
        "\n",
        "* Distribution of samples with replacement from original sample\n",
        "* These resamples are known as sampling distributions of estimates\n",
        "* Central Limit Theorem says these resamples will start to look like a normal distribution which is a symmetrical dispersion of data around the mean\n",
        "* Skewness of the original distribution disappears\n",
        "* Now we are able to quantify our uncertainty about our estimates – we can find the range of values that bind 68%, 95%, 99.7% spreads of the normal curve\n",
        "* The bootstrap distributions get narrower as the sample size increases\n",
        "* Mean tells us expected value\n",
        "* Variance provides a level of assurance regarding the mean (the more spread out the distribution the less assurance regarding the mean, samples are further away from the mean)\n",
        "* Bootstrapping allows for different adjustments to bias and variance\n",
        "\n",
        "<pre>\n",
        "Bootstrapping with Replacement – repeatedly drawing samples from our sample with replacement\n",
        "•\t111 = 3\n",
        "•\t121 = 4\n",
        "•\t122 = 5\n",
        "•\t113 = 5\n",
        "•\t123 = 6\n",
        "•\t222 = 6\n",
        "•\t223 = 7\n",
        "•\t331 = 7\n",
        "•\t332 = 8\n",
        "•\t333 = 9\n",
        "\n",
        "Combination with Replacement (3 numbers): (n + r - 1)! / (r!(n - 1)!)\n",
        "•\tn=3\n",
        "•\tr=3\n",
        "•\t(3 + 3 - 1)! = 5 * 4 * 3 * 2 * 1 = 120\n",
        "•\t(3 * 2 * 1) * (2 * 1) = 12\n",
        "•\t= 10\n",
        "•\t123 = 10 combinations 3 – 9\n",
        "\n",
        "Combination with Replacement (4 numbers): (n + r - 1)! / (r!(n - 1)!)\n",
        "•\tn=4\n",
        "•\tr=4\n",
        "•\t(4 + 4 - 1)! = 7 * 6 * 5 * 4 * 3 * 2 * 1 = 5040\n",
        "•\t(4 * 3 * 2 * 1) * (3 * 2 * 1) = 144\n",
        "•\t= 35\n",
        "1234 = 35 combinations 4 – 16\n",
        "</pre>"
      ]
    },
    {
      "cell_type": "code",
      "execution_count": null,
      "id": "a42afcd2",
      "metadata": {
        "id": "a42afcd2",
        "outputId": "03a77f2f-1b10-40f5-8240-f9a4941dd880",
        "colab": {
          "base_uri": "https://localhost:8080/",
          "height": 224
        }
      },
      "outputs": [
        {
          "output_type": "stream",
          "name": "stdout",
          "text": [
            "(2974, 4)\n"
          ]
        },
        {
          "output_type": "execute_result",
          "data": {
            "text/plain": [
              "   user_id   age  drinks_coffee     height\n",
              "0     4509   <21          False  64.538179\n",
              "1     1864  >=21           True  65.824249\n",
              "2     2060   <21          False  71.319854\n",
              "3     7875  >=21           True  68.569404\n",
              "4     6254   <21           True  64.020226"
            ],
            "text/html": [
              "\n",
              "  <div id=\"df-9244f70a-ae77-437c-b4f5-7bd93d07ab51\" class=\"colab-df-container\">\n",
              "    <div>\n",
              "<style scoped>\n",
              "    .dataframe tbody tr th:only-of-type {\n",
              "        vertical-align: middle;\n",
              "    }\n",
              "\n",
              "    .dataframe tbody tr th {\n",
              "        vertical-align: top;\n",
              "    }\n",
              "\n",
              "    .dataframe thead th {\n",
              "        text-align: right;\n",
              "    }\n",
              "</style>\n",
              "<table border=\"1\" class=\"dataframe\">\n",
              "  <thead>\n",
              "    <tr style=\"text-align: right;\">\n",
              "      <th></th>\n",
              "      <th>user_id</th>\n",
              "      <th>age</th>\n",
              "      <th>drinks_coffee</th>\n",
              "      <th>height</th>\n",
              "    </tr>\n",
              "  </thead>\n",
              "  <tbody>\n",
              "    <tr>\n",
              "      <th>0</th>\n",
              "      <td>4509</td>\n",
              "      <td>&lt;21</td>\n",
              "      <td>False</td>\n",
              "      <td>64.538179</td>\n",
              "    </tr>\n",
              "    <tr>\n",
              "      <th>1</th>\n",
              "      <td>1864</td>\n",
              "      <td>&gt;=21</td>\n",
              "      <td>True</td>\n",
              "      <td>65.824249</td>\n",
              "    </tr>\n",
              "    <tr>\n",
              "      <th>2</th>\n",
              "      <td>2060</td>\n",
              "      <td>&lt;21</td>\n",
              "      <td>False</td>\n",
              "      <td>71.319854</td>\n",
              "    </tr>\n",
              "    <tr>\n",
              "      <th>3</th>\n",
              "      <td>7875</td>\n",
              "      <td>&gt;=21</td>\n",
              "      <td>True</td>\n",
              "      <td>68.569404</td>\n",
              "    </tr>\n",
              "    <tr>\n",
              "      <th>4</th>\n",
              "      <td>6254</td>\n",
              "      <td>&lt;21</td>\n",
              "      <td>True</td>\n",
              "      <td>64.020226</td>\n",
              "    </tr>\n",
              "  </tbody>\n",
              "</table>\n",
              "</div>\n",
              "    <div class=\"colab-df-buttons\">\n",
              "\n",
              "  <div class=\"colab-df-container\">\n",
              "    <button class=\"colab-df-convert\" onclick=\"convertToInteractive('df-9244f70a-ae77-437c-b4f5-7bd93d07ab51')\"\n",
              "            title=\"Convert this dataframe to an interactive table.\"\n",
              "            style=\"display:none;\">\n",
              "\n",
              "  <svg xmlns=\"http://www.w3.org/2000/svg\" height=\"24px\" viewBox=\"0 -960 960 960\">\n",
              "    <path d=\"M120-120v-720h720v720H120Zm60-500h600v-160H180v160Zm220 220h160v-160H400v160Zm0 220h160v-160H400v160ZM180-400h160v-160H180v160Zm440 0h160v-160H620v160ZM180-180h160v-160H180v160Zm440 0h160v-160H620v160Z\"/>\n",
              "  </svg>\n",
              "    </button>\n",
              "\n",
              "  <style>\n",
              "    .colab-df-container {\n",
              "      display:flex;\n",
              "      gap: 12px;\n",
              "    }\n",
              "\n",
              "    .colab-df-convert {\n",
              "      background-color: #E8F0FE;\n",
              "      border: none;\n",
              "      border-radius: 50%;\n",
              "      cursor: pointer;\n",
              "      display: none;\n",
              "      fill: #1967D2;\n",
              "      height: 32px;\n",
              "      padding: 0 0 0 0;\n",
              "      width: 32px;\n",
              "    }\n",
              "\n",
              "    .colab-df-convert:hover {\n",
              "      background-color: #E2EBFA;\n",
              "      box-shadow: 0px 1px 2px rgba(60, 64, 67, 0.3), 0px 1px 3px 1px rgba(60, 64, 67, 0.15);\n",
              "      fill: #174EA6;\n",
              "    }\n",
              "\n",
              "    .colab-df-buttons div {\n",
              "      margin-bottom: 4px;\n",
              "    }\n",
              "\n",
              "    [theme=dark] .colab-df-convert {\n",
              "      background-color: #3B4455;\n",
              "      fill: #D2E3FC;\n",
              "    }\n",
              "\n",
              "    [theme=dark] .colab-df-convert:hover {\n",
              "      background-color: #434B5C;\n",
              "      box-shadow: 0px 1px 3px 1px rgba(0, 0, 0, 0.15);\n",
              "      filter: drop-shadow(0px 1px 2px rgba(0, 0, 0, 0.3));\n",
              "      fill: #FFFFFF;\n",
              "    }\n",
              "  </style>\n",
              "\n",
              "    <script>\n",
              "      const buttonEl =\n",
              "        document.querySelector('#df-9244f70a-ae77-437c-b4f5-7bd93d07ab51 button.colab-df-convert');\n",
              "      buttonEl.style.display =\n",
              "        google.colab.kernel.accessAllowed ? 'block' : 'none';\n",
              "\n",
              "      async function convertToInteractive(key) {\n",
              "        const element = document.querySelector('#df-9244f70a-ae77-437c-b4f5-7bd93d07ab51');\n",
              "        const dataTable =\n",
              "          await google.colab.kernel.invokeFunction('convertToInteractive',\n",
              "                                                    [key], {});\n",
              "        if (!dataTable) return;\n",
              "\n",
              "        const docLinkHtml = 'Like what you see? Visit the ' +\n",
              "          '<a target=\"_blank\" href=https://colab.research.google.com/notebooks/data_table.ipynb>data table notebook</a>'\n",
              "          + ' to learn more about interactive tables.';\n",
              "        element.innerHTML = '';\n",
              "        dataTable['output_type'] = 'display_data';\n",
              "        await google.colab.output.renderOutput(dataTable, element);\n",
              "        const docLink = document.createElement('div');\n",
              "        docLink.innerHTML = docLinkHtml;\n",
              "        element.appendChild(docLink);\n",
              "      }\n",
              "    </script>\n",
              "  </div>\n",
              "\n",
              "\n",
              "<div id=\"df-c02bff9b-5050-4b52-9866-ada0663c66bc\">\n",
              "  <button class=\"colab-df-quickchart\" onclick=\"quickchart('df-c02bff9b-5050-4b52-9866-ada0663c66bc')\"\n",
              "            title=\"Suggest charts\"\n",
              "            style=\"display:none;\">\n",
              "\n",
              "<svg xmlns=\"http://www.w3.org/2000/svg\" height=\"24px\"viewBox=\"0 0 24 24\"\n",
              "     width=\"24px\">\n",
              "    <g>\n",
              "        <path d=\"M19 3H5c-1.1 0-2 .9-2 2v14c0 1.1.9 2 2 2h14c1.1 0 2-.9 2-2V5c0-1.1-.9-2-2-2zM9 17H7v-7h2v7zm4 0h-2V7h2v10zm4 0h-2v-4h2v4z\"/>\n",
              "    </g>\n",
              "</svg>\n",
              "  </button>\n",
              "\n",
              "<style>\n",
              "  .colab-df-quickchart {\n",
              "      --bg-color: #E8F0FE;\n",
              "      --fill-color: #1967D2;\n",
              "      --hover-bg-color: #E2EBFA;\n",
              "      --hover-fill-color: #174EA6;\n",
              "      --disabled-fill-color: #AAA;\n",
              "      --disabled-bg-color: #DDD;\n",
              "  }\n",
              "\n",
              "  [theme=dark] .colab-df-quickchart {\n",
              "      --bg-color: #3B4455;\n",
              "      --fill-color: #D2E3FC;\n",
              "      --hover-bg-color: #434B5C;\n",
              "      --hover-fill-color: #FFFFFF;\n",
              "      --disabled-bg-color: #3B4455;\n",
              "      --disabled-fill-color: #666;\n",
              "  }\n",
              "\n",
              "  .colab-df-quickchart {\n",
              "    background-color: var(--bg-color);\n",
              "    border: none;\n",
              "    border-radius: 50%;\n",
              "    cursor: pointer;\n",
              "    display: none;\n",
              "    fill: var(--fill-color);\n",
              "    height: 32px;\n",
              "    padding: 0;\n",
              "    width: 32px;\n",
              "  }\n",
              "\n",
              "  .colab-df-quickchart:hover {\n",
              "    background-color: var(--hover-bg-color);\n",
              "    box-shadow: 0 1px 2px rgba(60, 64, 67, 0.3), 0 1px 3px 1px rgba(60, 64, 67, 0.15);\n",
              "    fill: var(--button-hover-fill-color);\n",
              "  }\n",
              "\n",
              "  .colab-df-quickchart-complete:disabled,\n",
              "  .colab-df-quickchart-complete:disabled:hover {\n",
              "    background-color: var(--disabled-bg-color);\n",
              "    fill: var(--disabled-fill-color);\n",
              "    box-shadow: none;\n",
              "  }\n",
              "\n",
              "  .colab-df-spinner {\n",
              "    border: 2px solid var(--fill-color);\n",
              "    border-color: transparent;\n",
              "    border-bottom-color: var(--fill-color);\n",
              "    animation:\n",
              "      spin 1s steps(1) infinite;\n",
              "  }\n",
              "\n",
              "  @keyframes spin {\n",
              "    0% {\n",
              "      border-color: transparent;\n",
              "      border-bottom-color: var(--fill-color);\n",
              "      border-left-color: var(--fill-color);\n",
              "    }\n",
              "    20% {\n",
              "      border-color: transparent;\n",
              "      border-left-color: var(--fill-color);\n",
              "      border-top-color: var(--fill-color);\n",
              "    }\n",
              "    30% {\n",
              "      border-color: transparent;\n",
              "      border-left-color: var(--fill-color);\n",
              "      border-top-color: var(--fill-color);\n",
              "      border-right-color: var(--fill-color);\n",
              "    }\n",
              "    40% {\n",
              "      border-color: transparent;\n",
              "      border-right-color: var(--fill-color);\n",
              "      border-top-color: var(--fill-color);\n",
              "    }\n",
              "    60% {\n",
              "      border-color: transparent;\n",
              "      border-right-color: var(--fill-color);\n",
              "    }\n",
              "    80% {\n",
              "      border-color: transparent;\n",
              "      border-right-color: var(--fill-color);\n",
              "      border-bottom-color: var(--fill-color);\n",
              "    }\n",
              "    90% {\n",
              "      border-color: transparent;\n",
              "      border-bottom-color: var(--fill-color);\n",
              "    }\n",
              "  }\n",
              "</style>\n",
              "\n",
              "  <script>\n",
              "    async function quickchart(key) {\n",
              "      const quickchartButtonEl =\n",
              "        document.querySelector('#' + key + ' button');\n",
              "      quickchartButtonEl.disabled = true;  // To prevent multiple clicks.\n",
              "      quickchartButtonEl.classList.add('colab-df-spinner');\n",
              "      try {\n",
              "        const charts = await google.colab.kernel.invokeFunction(\n",
              "            'suggestCharts', [key], {});\n",
              "      } catch (error) {\n",
              "        console.error('Error during call to suggestCharts:', error);\n",
              "      }\n",
              "      quickchartButtonEl.classList.remove('colab-df-spinner');\n",
              "      quickchartButtonEl.classList.add('colab-df-quickchart-complete');\n",
              "    }\n",
              "    (() => {\n",
              "      let quickchartButtonEl =\n",
              "        document.querySelector('#df-c02bff9b-5050-4b52-9866-ada0663c66bc button');\n",
              "      quickchartButtonEl.style.display =\n",
              "        google.colab.kernel.accessAllowed ? 'block' : 'none';\n",
              "    })();\n",
              "  </script>\n",
              "</div>\n",
              "\n",
              "    </div>\n",
              "  </div>\n"
            ],
            "application/vnd.google.colaboratory.intrinsic+json": {
              "type": "dataframe",
              "variable_name": "coffee",
              "summary": "{\n  \"name\": \"coffee\",\n  \"rows\": 2974,\n  \"fields\": [\n    {\n      \"column\": \"user_id\",\n      \"properties\": {\n        \"dtype\": \"number\",\n        \"std\": 1833,\n        \"min\": 1844,\n        \"max\": 8200,\n        \"num_unique_values\": 2974,\n        \"samples\": [\n          2874,\n          3670,\n          7441\n        ],\n        \"semantic_type\": \"\",\n        \"description\": \"\"\n      }\n    },\n    {\n      \"column\": \"age\",\n      \"properties\": {\n        \"dtype\": \"category\",\n        \"num_unique_values\": 2,\n        \"samples\": [\n          \">=21\",\n          \"<21\"\n        ],\n        \"semantic_type\": \"\",\n        \"description\": \"\"\n      }\n    },\n    {\n      \"column\": \"drinks_coffee\",\n      \"properties\": {\n        \"dtype\": \"boolean\",\n        \"num_unique_values\": 2,\n        \"samples\": [\n          true,\n          false\n        ],\n        \"semantic_type\": \"\",\n        \"description\": \"\"\n      }\n    },\n    {\n      \"column\": \"height\",\n      \"properties\": {\n        \"dtype\": \"number\",\n        \"std\": 3.119433206550342,\n        \"min\": 56.21949210533291,\n        \"max\": 76.19404627362852,\n        \"num_unique_values\": 2974,\n        \"samples\": [\n          64.35715380320661,\n          66.85963607454822\n        ],\n        \"semantic_type\": \"\",\n        \"description\": \"\"\n      }\n    }\n  ]\n}"
            }
          },
          "metadata": {},
          "execution_count": 1
        }
      ],
      "source": [
        "# https://towardsdatascience.com/bootstrapping-for-inferential-statistics-9b613a7653b2\n",
        "import pandas as pd\n",
        "\n",
        "coffee = pd.read_csv('https://raw.githubusercontent.com/samarth-agrawal-86/data_scientist_toolkit/master/coffee_dataset.csv')\n",
        "print(coffee.shape)\n",
        "coffee.head()"
      ]
    },
    {
      "cell_type": "code",
      "execution_count": null,
      "id": "692d6ee5",
      "metadata": {
        "id": "692d6ee5",
        "outputId": "18e5a748-280d-49c0-87f8-28eff34f3702",
        "colab": {
          "base_uri": "https://localhost:8080/"
        }
      },
      "outputs": [
        {
          "output_type": "execute_result",
          "data": {
            "text/plain": [
              "drinks_coffee\n",
              "False    0.405\n",
              "True     0.595\n",
              "dtype: float64"
            ]
          },
          "metadata": {},
          "execution_count": 2
        }
      ],
      "source": [
        "# take a sample and then find the mean of coffee drinkers\n",
        "coffee_sample = coffee.sample(n=200)\n",
        "coffee_sample.groupby('drinks_coffee').size() / coffee_sample.shape[0]"
      ]
    },
    {
      "cell_type": "code",
      "execution_count": null,
      "id": "c416333e",
      "metadata": {
        "id": "c416333e",
        "outputId": "afbb1287-e640-46d9-fe48-8aea564ebfb0",
        "colab": {
          "base_uri": "https://localhost:8080/"
        }
      },
      "outputs": [
        {
          "output_type": "execute_result",
          "data": {
            "text/plain": [
              "drinks_coffee\n",
              "False    66.657535\n",
              "True     68.355414\n",
              "Name: height, dtype: float64"
            ]
          },
          "metadata": {},
          "execution_count": 3
        }
      ],
      "source": [
        "coffee_sample.groupby('drinks_coffee')['height'].agg('mean')"
      ]
    },
    {
      "cell_type": "markdown",
      "id": "6223d240",
      "metadata": {
        "id": "6223d240"
      },
      "source": [
        "## Distribution of Sample Means"
      ]
    },
    {
      "cell_type": "code",
      "execution_count": null,
      "id": "5cc6cb8e",
      "metadata": {
        "scrolled": false,
        "id": "5cc6cb8e",
        "outputId": "6e5baf9b-293b-4385-b263-2c8423a92203",
        "colab": {
          "base_uri": "https://localhost:8080/",
          "height": 430
        }
      },
      "outputs": [
        {
          "output_type": "display_data",
          "data": {
            "text/plain": [
              "<Figure size 640x480 with 1 Axes>"
            ],
            "image/png": "[encoded data removed]"
          },
          "metadata": {}
        }
      ],
      "source": [
        "# collect bootstrapped means\n",
        "import matplotlib.pyplot as plt\n",
        "\n",
        "bootstrap_means_1000 = []\n",
        "\n",
        "for i in range(1000):\n",
        "    boot = coffee_sample.sample(200, replace=True)\n",
        "    boot_mean = boot[boot['drinks_coffee']==True]['height'].mean()\n",
        "    bootstrap_means_1000.append(boot_mean)\n",
        "\n",
        "plt.hist(bootstrap_means_1000);"
      ]
    },
    {
      "cell_type": "markdown",
      "source": [
        "## Confidence Intervals"
      ],
      "metadata": {
        "id": "8MWAt7BAnXLK"
      },
      "id": "8MWAt7BAnXLK"
    },
    {
      "cell_type": "code",
      "execution_count": null,
      "id": "95fb6783",
      "metadata": {
        "id": "95fb6783",
        "outputId": "9e2c5f78-a797-4718-b62d-f69ce09a8c08",
        "colab": {
          "base_uri": "https://localhost:8080/",
          "height": 472
        }
      },
      "outputs": [
        {
          "output_type": "display_data",
          "data": {
            "text/plain": [
              "<Figure size 640x480 with 1 Axes>"
            ],
            "image/png": "[encoded data removed]"
          },
          "metadata": {}
        }
      ],
      "source": [
        "# the normal curve\n",
        "import numpy as np\n",
        "import matplotlib.pyplot as plt\n",
        "import scipy.stats as stats\n",
        "\n",
        "X = stats.norm.rvs(size=100000)\n",
        "X.sort()\n",
        "\n",
        "parameters = stats.norm.fit(X)\n",
        "mu, sigma = parameters\n",
        "\n",
        "fig, ax = plt.subplots()\n",
        "ax.plot(X, stats.norm.pdf(X, loc=mu, scale=sigma))\n",
        "ax.hist(X, bins=25, density=True, color='lightgray', alpha=0.5)\n",
        "ax.set_xlabel('x')\n",
        "ax.set_ylabel('pdf(x)')\n",
        "ax.set_xlim(-4, 4)\n",
        "ax.grid(True)\n",
        "\n",
        "plt.vlines(x=-3, ymin=0, ymax=stats.norm.pdf(-3, loc=mu, scale=sigma), color='black')\n",
        "plt.vlines(x=-2, ymin=0, ymax=stats.norm.pdf(-2, loc=mu, scale=sigma), color='red')\n",
        "plt.vlines(x=-1, ymin=0, ymax=stats.norm.pdf(-1, loc=mu, scale=sigma), color='green')\n",
        "plt.vlines(x=0, ymin=0, ymax=stats.norm.pdf(0, loc=mu, scale=sigma), color='blue')\n",
        "plt.vlines(x=1, ymin=0, ymax=stats.norm.pdf(1, loc=mu, scale=sigma), color='green')\n",
        "plt.vlines(x=2, ymin=0, ymax=stats.norm.pdf(2, loc=mu, scale=sigma), color='red')\n",
        "plt.vlines(x=3, ymin=0, ymax=stats.norm.pdf(3, loc=mu, scale=sigma), color='black')\n",
        "# plt.axvline(np.percentile(X, 2.5), color='black')\n",
        "# plt.axvline(np.percentile(X, 97.5), color='black')\n",
        "\n",
        "plt.title('Normal Curve with 68-95-99 rule')\n",
        "plt.show()"
      ]
    },
    {
      "cell_type": "code",
      "execution_count": null,
      "id": "dc14369e",
      "metadata": {
        "id": "dc14369e",
        "outputId": "0283b01f-e0cf-4aef-ceb2-1f40a7af7bc9",
        "colab": {
          "base_uri": "https://localhost:8080/"
        }
      },
      "outputs": [
        {
          "output_type": "stream",
          "name": "stdout",
          "text": [
            "z for 95% of standard normal: 1.96\n",
            "z for 2.5% of sampled means: 67.871\n",
            "z for 97.5% of sampled means: 68.803\n"
          ]
        }
      ],
      "source": [
        "# z value for confidence intervals for a standard normal distribution and our sample\n",
        "import numpy as np\n",
        "from scipy import stats\n",
        "\n",
        "bs_mean = np.mean(bootstrap_means_1000)\n",
        "bs_std = np.std(bootstrap_means_1000)\n",
        "print(f'z for 95% of standard normal: {np.round(np.abs(stats.norm.ppf(0.025)), 3)}')\n",
        "print(f'z for 2.5% of sampled means: {np.round(np.abs(stats.norm.ppf(0.025, loc=bs_mean, scale=bs_std)), 3)}')\n",
        "print(f'z for 97.5% of sampled means: {np.round(np.abs(stats.norm.ppf(0.975, loc=bs_mean, scale=bs_std)), 3)}')"
      ]
    },
    {
      "cell_type": "code",
      "execution_count": null,
      "id": "3ef62d3b",
      "metadata": {
        "id": "3ef62d3b",
        "outputId": "d46df73e-c60b-42c6-ae5b-a9983379a3cf",
        "colab": {
          "base_uri": "https://localhost:8080/",
          "height": 448
        }
      },
      "outputs": [
        {
          "output_type": "stream",
          "name": "stdout",
          "text": [
            "67.82636570784695 68.3369593387444 68.85456856293905 0.007523036326472569\n"
          ]
        },
        {
          "output_type": "display_data",
          "data": {
            "text/plain": [
              "<Figure size 640x480 with 1 Axes>"
            ],
            "image/png": "[encoded data removed]"
          },
          "metadata": {}
        }
      ],
      "source": [
        "# plot confidence intervals for bootstrap means 1000\n",
        "import numpy as np\n",
        "import matplotlib.pyplot as plt\n",
        "import scipy.stats as stats\n",
        "\n",
        "popmean = coffee[coffee['drinks_coffee']==True]['height'].mean()\n",
        "bs_mean = np.mean(bootstrap_means_1000)\n",
        "bs_std = np.std(bootstrap_means_1000)\n",
        "z = np.round(np.abs(stats.norm.ppf(0.025, loc=bs_mean, scale=bs_std)), 3)\n",
        "zlo = stats.norm.ppf(.025, loc=bs_mean, scale=bs_std)\n",
        "zhi = stats.norm.ppf(.975, loc=bs_mean, scale=bs_std)\n",
        "se = bs_std/np.sqrt(len(bootstrap_means_1000))\n",
        "moe_lo = zlo * se\n",
        "moe_hi = zhi * se\n",
        "ci_lo = bs_mean - moe_lo\n",
        "ci_hi = bs_mean + moe_hi\n",
        "print(ci_lo, bs_mean, ci_hi, se)\n",
        "plt.hist(bootstrap_means_1000)\n",
        "plt.axvline(np.mean(bootstrap_means_1000), color='yellow')\n",
        "plt.axvline(popmean, color='cyan')\n",
        "plt.axvline(ci_lo, color='red')\n",
        "plt.axvline(ci_hi, color='red')\n",
        "plt.axvline(zlo, color='black')\n",
        "plt.axvline(zhi, color='black')\n",
        "plt.show()"
      ]
    },
    {
      "cell_type": "code",
      "execution_count": null,
      "id": "59c7ad3b",
      "metadata": {
        "id": "59c7ad3b",
        "outputId": "f9eae0e6-d648-49e4-b823-f7b8943dcab8",
        "colab": {
          "base_uri": "https://localhost:8080/"
        }
      },
      "outputs": [
        {
          "output_type": "stream",
          "name": "stdout",
          "text": [
            "sample:  68.3554136855889\n",
            "population:  68.40021025548381\n"
          ]
        }
      ],
      "source": [
        "# original sample mean\n",
        "print('sample: ', coffee_sample[coffee_sample['drinks_coffee']==True]['height'].mean())\n",
        "print('population: ', coffee[coffee['drinks_coffee']==True]['height'].mean())"
      ]
    }
  ],
  "metadata": {
    "kernelspec": {
      "display_name": "Python 3 (ipykernel)",
      "language": "python",
      "name": "python3"
    },
    "language_info": {
      "codemirror_mode": {
        "name": "ipython",
        "version": 3
      },
      "file_extension": ".py",
      "mimetype": "text/x-python",
      "name": "python",
      "nbconvert_exporter": "python",
      "pygments_lexer": "ipython3",
      "version": "3.9.7"
    },
    "colab": {
      "provenance": [],
      "toc_visible": true,
      "include_colab_link": true
    }
  },
  "nbformat": 4,
  "nbformat_minor": 5
}